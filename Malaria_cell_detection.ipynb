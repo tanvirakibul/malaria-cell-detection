{
  "nbformat": 4,
  "nbformat_minor": 0,
  "metadata": {
    "colab": {
      "name": "Mataria-cell-detection.ipynb",
      "provenance": [],
      "collapsed_sections": []
    },
    "kernelspec": {
      "name": "python3",
      "display_name": "Python 3"
    },
    "accelerator": "GPU"
  },
  "cells": [
    {
      "cell_type": "markdown",
      "metadata": {
        "id": "PTJEpBELJ4Lv"
      },
      "source": [
        "# Import Modules and View Images"
      ]
    },
    {
      "cell_type": "code",
      "metadata": {
        "id": "-uTmefJLHoH8"
      },
      "source": [
        "import os\n",
        "import pandas as pd\n",
        "import seaborn as sns\n",
        "import matplotlib.pyplot as plt\n"
      ],
      "execution_count": null,
      "outputs": []
    },
    {
      "cell_type": "code",
      "metadata": {
        "id": "taKqGffXJPr5"
      },
      "source": [
        "data_dir = '/content/drive/My Drive/ml/cell_images'"
      ],
      "execution_count": null,
      "outputs": []
    },
    {
      "cell_type": "code",
      "metadata": {
        "id": "onKKFdELJyK-",
        "outputId": "76b3c9b5-2749-45b6-d0a9-78343f24b53a",
        "colab": {
          "base_uri": "https://localhost:8080/",
          "height": 33
        }
      },
      "source": [
        "os.listdir(data_dir)"
      ],
      "execution_count": null,
      "outputs": [
        {
          "output_type": "execute_result",
          "data": {
            "text/plain": [
              "['train', 'test']"
            ]
          },
          "metadata": {
            "tags": []
          },
          "execution_count": 3
        }
      ]
    },
    {
      "cell_type": "markdown",
      "metadata": {
        "id": "u6eKg-swJ8xW"
      },
      "source": [
        "### Read Image File"
      ]
    },
    {
      "cell_type": "code",
      "metadata": {
        "id": "WYPEKQDTJ2zq"
      },
      "source": [
        "from matplotlib.image import  imread"
      ],
      "execution_count": null,
      "outputs": []
    },
    {
      "cell_type": "markdown",
      "metadata": {
        "id": "ua2zGxNUKHeF"
      },
      "source": [
        "#### Split Directory"
      ]
    },
    {
      "cell_type": "code",
      "metadata": {
        "id": "5c27c6cHKF1l"
      },
      "source": [
        "test_path = '/content/drive/My Drive/ml/cell_images/test'\n",
        "train_path = '/content/drive/My Drive/ml/cell_images/train'\n"
      ],
      "execution_count": null,
      "outputs": []
    },
    {
      "cell_type": "code",
      "metadata": {
        "id": "BxRkuFX4KUE4",
        "outputId": "00fff0b0-6949-43fd-b224-a701b2436866",
        "colab": {
          "base_uri": "https://localhost:8080/",
          "height": 33
        }
      },
      "source": [
        "os.listdir(test_path)"
      ],
      "execution_count": null,
      "outputs": [
        {
          "output_type": "execute_result",
          "data": {
            "text/plain": [
              "['parasitized', 'uninfected']"
            ]
          },
          "metadata": {
            "tags": []
          },
          "execution_count": 6
        }
      ]
    },
    {
      "cell_type": "code",
      "metadata": {
        "id": "jGKuvJEuKXp0",
        "outputId": "414a1d9e-9a5f-4f35-db5c-dd57b0c38d9e",
        "colab": {
          "base_uri": "https://localhost:8080/",
          "height": 33
        }
      },
      "source": [
        "os.listdir(train_path)"
      ],
      "execution_count": null,
      "outputs": [
        {
          "output_type": "execute_result",
          "data": {
            "text/plain": [
              "['parasitized', 'uninfected']"
            ]
          },
          "metadata": {
            "tags": []
          },
          "execution_count": 7
        }
      ]
    },
    {
      "cell_type": "markdown",
      "metadata": {
        "id": "YCabPNVTNPRb"
      },
      "source": [
        "### View Images from parasitized directory"
      ]
    },
    {
      "cell_type": "code",
      "metadata": {
        "id": "FXI74iG_Mt7q",
        "outputId": "5844aa76-8553-4ea0-b363-997b8f4af9a0",
        "colab": {
          "base_uri": "https://localhost:8080/",
          "height": 1000
        }
      },
      "source": [
        "os.listdir(train_path+'/parasitized')"
      ],
      "execution_count": null,
      "outputs": [
        {
          "output_type": "execute_result",
          "data": {
            "text/plain": [
              "['C97P58ThinF_IMG_20150917_145555_cell_178.png',\n",
              " 'C99P60ThinF_IMG_20150918_142128_cell_96.png',\n",
              " 'C99P60ThinF_IMG_20150918_141857_cell_50.png',\n",
              " 'C91P52ThinF_IMG_20150821_124937_cell_200.png',\n",
              " 'C99P60ThinF_IMG_20150918_142334_cell_23.png',\n",
              " 'C91P52ThinF_IMG_20150821_124937_cell_197.png',\n",
              " 'C97P58ThinF_IMG_20150917_152437_cell_8.png',\n",
              " 'C99P60ThinF_IMG_20150918_142128_cell_114.png',\n",
              " 'C99P60ThinF_IMG_20150918_142128_cell_79.png',\n",
              " 'C99P60ThinF_IMG_20150918_142334_cell_36.png',\n",
              " 'C96P57ThinF_IMG_20150824_105531_cell_218.png',\n",
              " 'C99P60ThinF_IMG_20150918_141129_cell_111.png',\n",
              " 'C99P60ThinF_IMG_20150918_141620_cell_15.png',\n",
              " 'C98P59ThinF_IMG_20150917_154235_cell_205.png',\n",
              " 'C97P58ThinF_IMG_20150917_151512_cell_162.png',\n",
              " 'C99P60ThinF_IMG_20150918_141520_cell_143.png',\n",
              " 'C99P60ThinF_IMG_20150918_141129_cell_102.png',\n",
              " 'C99P60ThinF_IMG_20150918_141520_cell_118.png',\n",
              " 'C99P60ThinF_IMG_20150918_142128_cell_103.png',\n",
              " 'C99P60ThinF_IMG_20150918_141314_cell_141.png',\n",
              " 'C93P54ThinF_IMG_20150821_164024_cell_206.png',\n",
              " 'C93P54ThinF_IMG_20150821_162641_cell_224.png',\n",
              " 'C97P58ThinF_IMG_20150917_152437_cell_9.png',\n",
              " 'C99P60ThinF_IMG_20150918_141857_cell_36.png',\n",
              " 'C94P55ThinF_IMG_20150821_170403_cell_234.png',\n",
              " 'C99P60ThinF_IMG_20150918_141351_cell_118.png',\n",
              " 'C97P58ThinF_IMG_20150917_150838_cell_166.png',\n",
              " 'C91P52ThinF_IMG_20150821_125154_cell_198.png',\n",
              " 'C99P60ThinF_IMG_20150918_141857_cell_1.png',\n",
              " 'C92P53ThinF_IMG_20150821_150457_cell_256.png',\n",
              " 'C97P58ThinF_IMG_20150917_152437_cell_12.png',\n",
              " 'C97P58ThinF_IMG_20150917_151903_cell_7.png',\n",
              " 'C99P60ThinF_IMG_20150918_141351_cell_94.png',\n",
              " 'C97P58ThinF_IMG_20150917_152225_cell_11.png',\n",
              " 'C99P60ThinF_IMG_20150918_141520_cell_130.png',\n",
              " 'C93P54ThinF_IMG_20150821_163640_cell_202.png',\n",
              " 'C99P60ThinF_IMG_20150918_141001_cell_120.png',\n",
              " 'C99P60ThinF_IMG_20150918_141520_cell_86.png',\n",
              " 'C97P58ThinF_IMG_20150917_151512_cell_164.png',\n",
              " 'C97P58ThinF_IMG_20150917_151903_cell_32.png',\n",
              " 'C96P57ThinF_IMG_20150824_111748_cell_216.png',\n",
              " 'C99P60ThinF_IMG_20150918_141314_cell_142.png',\n",
              " 'C99P60ThinF_IMG_20150918_141314_cell_99.png',\n",
              " 'C93P54ThinF_IMG_20150821_162641_cell_218.png',\n",
              " 'C97P58ThinF_IMG_20150917_151512_cell_157.png',\n",
              " 'C99P60ThinF_IMG_20150918_141351_cell_131.png',\n",
              " 'C99P60ThinF_IMG_20150918_142128_cell_116.png',\n",
              " 'C98P59ThinF_IMG_20150917_154452_cell_208.png',\n",
              " 'C97P58ThinF_IMG_20150917_145555_cell_194.png',\n",
              " 'C97P58ThinF_IMG_20150917_151512_cell_166.png',\n",
              " 'C99P60ThinF_IMG_20150918_141001_cell_156.png',\n",
              " 'C92P53ThinF_IMG_20150821_151722_cell_224.png',\n",
              " 'C93P54ThinF_IMG_20150821_162641_cell_219.png',\n",
              " 'C98P59ThinF_IMG_20150917_153030_cell_163.png',\n",
              " 'C93P54ThinF_IMG_20150821_162901_cell_201.png',\n",
              " 'C97P58ThinF_IMG_20150917_151903_cell_30.png',\n",
              " 'C97P58ThinF_IMG_20150917_151512_cell_167.png',\n",
              " 'C99P60ThinF_IMG_20150918_141001_cell_150.png',\n",
              " 'C91P52ThinF_IMG_20150821_124739_cell_184.png',\n",
              " 'C96P57ThinF_IMG_20150824_110812_cell_210.png',\n",
              " 'C91P52ThinF_IMG_20150821_125423_cell_15.png',\n",
              " 'C99P60ThinF_IMG_20150918_141001_cell_112.png',\n",
              " 'C99P60ThinF_IMG_20150918_141314_cell_144.png',\n",
              " 'C99P60ThinF_IMG_20150918_142334_cell_1.png',\n",
              " 'C99P60ThinF_IMG_20150918_141314_cell_125.png',\n",
              " 'C99P60ThinF_IMG_20150918_141857_cell_19.png',\n",
              " 'C98P59ThinF_IMG_20150917_154452_cell_209.png',\n",
              " 'C97P58ThinF_IMG_20150917_145555_cell_174.png',\n",
              " 'C98P59ThinF_IMG_20150917_153311_cell_159.png',\n",
              " 'C93P54ThinF_IMG_20150821_162641_cell_225.png',\n",
              " 'C97P58ThinF_IMG_20150917_151320_cell_149.png',\n",
              " 'C99P60ThinF_IMG_20150918_141129_cell_97.png',\n",
              " 'C93P54ThinF_IMG_20150821_163815_cell_212.png',\n",
              " 'C91P52ThinF_IMG_20150821_124739_cell_177.png',\n",
              " 'C91P52ThinF_IMG_20150821_125256_cell_8.png',\n",
              " 'C99P60ThinF_IMG_20150918_141001_cell_124.png',\n",
              " 'C99P60ThinF_IMG_20150918_141314_cell_146.png',\n",
              " 'C97P58ThinF_IMG_20150917_150838_cell_155.png',\n",
              " 'C99P60ThinF_IMG_20150918_141351_cell_99.png',\n",
              " 'C99P60ThinF_IMG_20150918_141129_cell_122.png',\n",
              " 'C98P59ThinF_IMG_20150917_153600_cell_189.png',\n",
              " 'C99P60ThinF_IMG_20150918_141001_cell_113.png',\n",
              " 'C92P53ThinF_IMG_20150821_151224_cell_210.png',\n",
              " 'C99P60ThinF_IMG_20150918_140900_cell_131.png',\n",
              " 'C97P58ThinF_IMG_20150917_151551_cell_177.png',\n",
              " 'C98P59ThinF_IMG_20150917_154235_cell_207.png',\n",
              " 'C99P60ThinF_IMG_20150918_141351_cell_140.png',\n",
              " 'C93P54ThinF_IMG_20150821_164024_cell_200.png',\n",
              " 'C99P60ThinF_IMG_20150918_141129_cell_109.png',\n",
              " 'C97P58ThinF_IMG_20150917_152032_cell_162.png',\n",
              " 'C99P60ThinF_IMG_20150918_141001_cell_158.png',\n",
              " 'C99P60ThinF_IMG_20150918_141620_cell_37.png',\n",
              " 'C97P58ThinF_IMG_20150917_151903_cell_3.png',\n",
              " 'C91P52ThinF_IMG_20150821_124937_cell_215.png',\n",
              " 'C91P52ThinF_IMG_20150821_125154_cell_207.png',\n",
              " 'C99P60ThinF_IMG_20150918_141520_cell_134.png',\n",
              " 'C99P60ThinF_IMG_20150918_141314_cell_115.png',\n",
              " 'C99P60ThinF_IMG_20150918_141351_cell_122.png',\n",
              " 'C99P60ThinF_IMG_20150918_141129_cell_138.png',\n",
              " 'C99P60ThinF_IMG_20150918_142128_cell_83.png',\n",
              " 'C97P58ThinF_IMG_20150917_151320_cell_162.png',\n",
              " 'C92P53ThinF_IMG_20150821_151224_cell_208.png',\n",
              " 'C99P60ThinF_IMG_20150918_141351_cell_95.png',\n",
              " 'C99P60ThinF_IMG_20150918_142334_cell_9.png',\n",
              " 'C96P57ThinF_IMG_20150824_105445_cell_202.png',\n",
              " 'C91P52ThinF_IMG_20150821_125154_cell_212.png',\n",
              " 'C99P60ThinF_IMG_20150918_141351_cell_141.png',\n",
              " 'C91P52ThinF_IMG_20150821_124937_cell_190.png',\n",
              " 'C99P60ThinF_IMG_20150918_141314_cell_108.png',\n",
              " 'C99P60ThinF_IMG_20150918_142128_cell_106.png',\n",
              " 'C93P54ThinF_IMG_20150821_163640_cell_199.png',\n",
              " 'C99P60ThinF_IMG_20150918_141129_cell_136.png',\n",
              " 'C97P58ThinF_IMG_20150917_151512_cell_171.png',\n",
              " 'C91P52ThinF_IMG_20150821_124739_cell_178.png',\n",
              " 'C93P54ThinF_IMG_20150821_163640_cell_196.png',\n",
              " 'C91P52ThinF_IMG_20150821_124937_cell_221.png',\n",
              " 'C97P58ThinF_IMG_20150917_151437_cell_160.png',\n",
              " 'C99P60ThinF_IMG_20150918_141129_cell_155.png',\n",
              " 'C97P58ThinF_IMG_20150917_152225_cell_26.png',\n",
              " 'C99P60ThinF_IMG_20150918_141001_cell_110.png',\n",
              " 'C93P54ThinF_IMG_20150821_163640_cell_205.png',\n",
              " 'C99P60ThinF_IMG_20150918_142334_cell_14.png',\n",
              " 'C96P57ThinF_IMG_20150824_105445_cell_200.png',\n",
              " 'C97P58ThinF_IMG_20150917_151437_cell_170.png',\n",
              " 'C97P58ThinF_IMG_20150917_150838_cell_150.png',\n",
              " 'C97P58ThinF_IMG_20150917_151903_cell_5.png',\n",
              " 'C99P60ThinF_IMG_20150918_141129_cell_157.png',\n",
              " 'C99P60ThinF_IMG_20150918_141001_cell_94.png',\n",
              " 'C97P58ThinF_IMG_20150917_145555_cell_192.png',\n",
              " 'C93P54ThinF_IMG_20150821_163815_cell_216.png',\n",
              " 'C91P52ThinF_IMG_20150821_124937_cell_201.png',\n",
              " 'C99P60ThinF_IMG_20150918_142334_cell_39.png',\n",
              " 'C98P59ThinF_IMG_20150917_154235_cell_210.png',\n",
              " 'C99P60ThinF_IMG_20150918_141314_cell_126.png',\n",
              " 'C97P58ThinF_IMG_20150917_152032_cell_159.png',\n",
              " 'C99P60ThinF_IMG_20150918_142334_cell_27.png',\n",
              " 'C91P52ThinF_IMG_20150821_124739_cell_188.png',\n",
              " 'C97P58ThinF_IMG_20150917_152225_cell_24.png',\n",
              " 'C97P58ThinF_IMG_20150917_151551_cell_172.png',\n",
              " 'C99P60ThinF_IMG_20150918_141857_cell_16.png',\n",
              " 'C99P60ThinF_IMG_20150918_141129_cell_139.png',\n",
              " 'C91P52ThinF_IMG_20150821_124739_cell_197.png',\n",
              " 'C99P60ThinF_IMG_20150918_141620_cell_23.png',\n",
              " 'C91P52ThinF_IMG_20150821_125423_cell_18.png',\n",
              " 'C99P60ThinF_IMG_20150918_141129_cell_118.png',\n",
              " 'C99P60ThinF_IMG_20150918_140900_cell_141.png',\n",
              " 'C91P52ThinF_IMG_20150821_125256_cell_10.png',\n",
              " 'C99P60ThinF_IMG_20150918_141314_cell_132.png',\n",
              " 'C91P52ThinF_IMG_20150821_125423_cell_19.png',\n",
              " 'C99P60ThinF_IMG_20150918_141520_cell_98.png',\n",
              " 'C99P60ThinF_IMG_20150918_141857_cell_6.png',\n",
              " 'C93P54ThinF_IMG_20150821_163640_cell_203.png',\n",
              " 'C97P58ThinF_IMG_20150917_151437_cell_161.png',\n",
              " 'C99P60ThinF_IMG_20150918_142128_cell_88.png',\n",
              " 'C93P54ThinF_IMG_20150821_163640_cell_195.png',\n",
              " 'C93P54ThinF_IMG_20150821_162901_cell_191.png',\n",
              " 'C99P60ThinF_IMG_20150918_142128_cell_90.png',\n",
              " 'C99P60ThinF_IMG_20150918_141351_cell_100.png',\n",
              " 'C99P60ThinF_IMG_20150918_141857_cell_51.png',\n",
              " 'C91P52ThinF_IMG_20150821_124739_cell_194.png',\n",
              " 'C99P60ThinF_IMG_20150918_141857_cell_58.png',\n",
              " 'C91P52ThinF_IMG_20150821_125154_cell_201.png',\n",
              " 'C99P60ThinF_IMG_20150918_142128_cell_102.png',\n",
              " 'C99P60ThinF_IMG_20150918_141520_cell_97.png',\n",
              " 'C99P60ThinF_IMG_20150918_142334_cell_31.png',\n",
              " 'C99P60ThinF_IMG_20150918_141620_cell_13.png',\n",
              " 'C96P57ThinF_IMG_20150824_112132_cell_192.png',\n",
              " 'C99P60ThinF_IMG_20150918_141620_cell_21.png',\n",
              " 'C91P52ThinF_IMG_20150821_125154_cell_203.png',\n",
              " 'C99P60ThinF_IMG_20150918_142334_cell_42.png',\n",
              " 'C99P60ThinF_IMG_20150918_141520_cell_101.png',\n",
              " 'C93P54ThinF_IMG_20150821_163640_cell_201.png',\n",
              " 'C92P53ThinF_IMG_20150821_150718_cell_204.png',\n",
              " 'C99P60ThinF_IMG_20150918_141129_cell_106.png',\n",
              " 'C93P54ThinF_IMG_20150821_163815_cell_220.png',\n",
              " 'C97P58ThinF_IMG_20150917_152437_cell_14.png',\n",
              " 'C91P52ThinF_IMG_20150821_125154_cell_205.png',\n",
              " 'C91P52ThinF_IMG_20150821_124937_cell_205.png',\n",
              " 'C99P60ThinF_IMG_20150918_141351_cell_125.png',\n",
              " 'C99P60ThinF_IMG_20150918_140900_cell_120.png',\n",
              " 'C99P60ThinF_IMG_20150918_141001_cell_93.png',\n",
              " 'C99P60ThinF_IMG_20150918_141351_cell_137.png',\n",
              " 'C97P58ThinF_IMG_20150917_151320_cell_160.png',\n",
              " 'C96P57ThinF_IMG_20150824_105445_cell_201.png',\n",
              " 'C99P60ThinF_IMG_20150918_141314_cell_95.png',\n",
              " 'C91P52ThinF_IMG_20150821_125256_cell_13.png',\n",
              " 'C91P52ThinF_IMG_20150821_125423_cell_9.png',\n",
              " 'C99P60ThinF_IMG_20150918_141314_cell_133.png',\n",
              " 'C99P60ThinF_IMG_20150918_141620_cell_7.png',\n",
              " 'C91P52ThinF_IMG_20150821_125154_cell_208.png',\n",
              " 'C99P60ThinF_IMG_20150918_142334_cell_8.png',\n",
              " 'C99P60ThinF_IMG_20150918_141351_cell_138.png',\n",
              " 'C99P60ThinF_IMG_20150918_141314_cell_101.png',\n",
              " 'C97P58ThinF_IMG_20150917_151903_cell_23.png',\n",
              " 'C95P56ThinF_IMG_20150821_172351_cell_105.png',\n",
              " 'C91P52ThinF_IMG_20150821_124937_cell_210.png',\n",
              " 'C99P60ThinF_IMG_20150918_141001_cell_162.png',\n",
              " 'C99P60ThinF_IMG_20150918_141314_cell_120.png',\n",
              " 'C91P52ThinF_IMG_20150821_125256_cell_17.png',\n",
              " 'C97P58ThinF_IMG_20150917_151551_cell_166.png',\n",
              " 'C99P60ThinF_IMG_20150918_141351_cell_106.png',\n",
              " 'C97P58ThinF_IMG_20150917_151512_cell_165.png',\n",
              " 'C99P60ThinF_IMG_20150918_141129_cell_154.png',\n",
              " 'C99P60ThinF_IMG_20150918_141620_cell_51.png',\n",
              " 'C99P60ThinF_IMG_20150918_141620_cell_40.png',\n",
              " 'C95P56ThinF_IMG_20150821_171631_cell_104.png',\n",
              " 'C97P58ThinF_IMG_20150917_152032_cell_156.png',\n",
              " 'C99P60ThinF_IMG_20150918_141001_cell_139.png',\n",
              " 'C97P58ThinF_IMG_20150917_151320_cell_154.png',\n",
              " 'C97P58ThinF_IMG_20150917_151320_cell_145.png',\n",
              " 'C99P60ThinF_IMG_20150918_141001_cell_148.png',\n",
              " 'C99P60ThinF_IMG_20150918_141001_cell_125.png',\n",
              " 'C99P60ThinF_IMG_20150918_141520_cell_110.png',\n",
              " 'C99P60ThinF_IMG_20150918_141857_cell_27.png',\n",
              " 'C99P60ThinF_IMG_20150918_141129_cell_126.png',\n",
              " 'C99P60ThinF_IMG_20150918_141520_cell_120.png',\n",
              " 'C97P58ThinF_IMG_20150917_151512_cell_176.png',\n",
              " 'C99P60ThinF_IMG_20150918_141001_cell_166.png',\n",
              " 'C91P52ThinF_IMG_20150821_125154_cell_194.png',\n",
              " 'C99P60ThinF_IMG_20150918_141001_cell_143.png',\n",
              " 'C99P60ThinF_IMG_20150918_141001_cell_111.png',\n",
              " 'C97P58ThinF_IMG_20150917_151903_cell_14.png',\n",
              " 'C99P60ThinF_IMG_20150918_141857_cell_23.png',\n",
              " 'C99P60ThinF_IMG_20150918_142128_cell_84.png',\n",
              " 'C99P60ThinF_IMG_20150918_140900_cell_100.png',\n",
              " 'C99P60ThinF_IMG_20150918_141001_cell_136.png',\n",
              " 'C97P58ThinF_IMG_20150917_145555_cell_188.png',\n",
              " 'C99P60ThinF_IMG_20150918_140900_cell_115.png',\n",
              " 'C91P52ThinF_IMG_20150821_124739_cell_179.png',\n",
              " 'C99P60ThinF_IMG_20150918_142334_cell_46.png',\n",
              " 'C93P54ThinF_IMG_20150821_163452_cell_206.png',\n",
              " 'C99P60ThinF_IMG_20150918_141351_cell_124.png',\n",
              " 'C99P60ThinF_IMG_20150918_140900_cell_125.png',\n",
              " 'C99P60ThinF_IMG_20150918_141520_cell_133.png',\n",
              " 'C99P60ThinF_IMG_20150918_141351_cell_132.png',\n",
              " 'C97P58ThinF_IMG_20150917_145555_cell_176.png',\n",
              " 'C97P58ThinF_IMG_20150917_152032_cell_155.png',\n",
              " 'C92P53ThinF_IMG_20150821_151646_cell_202.png',\n",
              " 'C99P60ThinF_IMG_20150918_141620_cell_22.png',\n",
              " 'C99P60ThinF_IMG_20150918_141620_cell_27.png',\n",
              " 'C99P60ThinF_IMG_20150918_141351_cell_102.png',\n",
              " 'C99P60ThinF_IMG_20150918_141857_cell_18.png',\n",
              " 'C99P60ThinF_IMG_20150918_140900_cell_102.png',\n",
              " 'C91P52ThinF_IMG_20150821_125423_cell_16.png',\n",
              " 'C97P58ThinF_IMG_20150917_152225_cell_14.png',\n",
              " 'C91P52ThinF_IMG_20150821_124739_cell_195.png',\n",
              " 'C96P57ThinF_IMG_20150824_111748_cell_219.png',\n",
              " 'C99P60ThinF_IMG_20150918_141351_cell_103.png',\n",
              " 'C99P60ThinF_IMG_20150918_141857_cell_44.png',\n",
              " 'C97P58ThinF_IMG_20150917_152225_cell_28.png',\n",
              " 'C95P56ThinF_IMG_20150821_172319_cell_103.png',\n",
              " 'C96P57ThinF_IMG_20150824_105213_cell_210.png',\n",
              " 'C92P53ThinF_IMG_20150821_151224_cell_211.png',\n",
              " 'C99P60ThinF_IMG_20150918_141314_cell_109.png',\n",
              " 'C91P52ThinF_IMG_20150821_124937_cell_184.png',\n",
              " 'C99P60ThinF_IMG_20150918_141314_cell_114.png',\n",
              " 'C99P60ThinF_IMG_20150918_141857_cell_13.png',\n",
              " 'C99P60ThinF_IMG_20150918_140900_cell_103.png',\n",
              " 'C98P59ThinF_IMG_20150917_153311_cell_163.png',\n",
              " 'C99P60ThinF_IMG_20150918_141620_cell_26.png',\n",
              " 'C99P60ThinF_IMG_20150918_141620_cell_47.png',\n",
              " 'C93P54ThinF_IMG_20150821_163815_cell_215.png',\n",
              " 'C99P60ThinF_IMG_20150918_141001_cell_164.png',\n",
              " 'C99P60ThinF_IMG_20150918_141129_cell_127.png',\n",
              " 'C95P56ThinF_IMG_20150821_171603_cell_81.png',\n",
              " 'C99P60ThinF_IMG_20150918_141351_cell_135.png',\n",
              " 'C97P58ThinF_IMG_20150917_152437_cell_7.png',\n",
              " 'C99P60ThinF_IMG_20150918_141620_cell_48.png',\n",
              " 'C97P58ThinF_IMG_20150917_151551_cell_181.png',\n",
              " 'C93P54ThinF_IMG_20150821_162901_cell_204.png',\n",
              " 'C91P52ThinF_IMG_20150821_124937_cell_186.png',\n",
              " 'C99P60ThinF_IMG_20150918_141351_cell_111.png',\n",
              " 'C99P60ThinF_IMG_20150918_141620_cell_20.png',\n",
              " 'C97P58ThinF_IMG_20150917_152225_cell_13.png',\n",
              " 'C99P60ThinF_IMG_20150918_141857_cell_8.png',\n",
              " 'C93P54ThinF_IMG_20150821_162901_cell_194.png',\n",
              " 'C97P58ThinF_IMG_20150917_152225_cell_22.png',\n",
              " 'C91P52ThinF_IMG_20150821_125154_cell_206.png',\n",
              " 'C99P60ThinF_IMG_20150918_142334_cell_16.png',\n",
              " 'C93P54ThinF_IMG_20150821_163452_cell_207.png',\n",
              " 'C99P60ThinF_IMG_20150918_141857_cell_56.png',\n",
              " 'C93P54ThinF_IMG_20150821_162901_cell_190.png',\n",
              " 'C99P60ThinF_IMG_20150918_142334_cell_10.png',\n",
              " 'Thumbs.db',\n",
              " 'C91P52ThinF_IMG_20150821_124937_cell_208.png',\n",
              " 'C91P52ThinF_IMG_20150821_125154_cell_210.png',\n",
              " 'C97P58ThinF_IMG_20150917_151512_cell_161.png',\n",
              " 'C99P60ThinF_IMG_20150918_141001_cell_146.png',\n",
              " 'C91P52ThinF_IMG_20150821_125256_cell_16.png',\n",
              " 'C99P60ThinF_IMG_20150918_141314_cell_103.png',\n",
              " 'C99P60ThinF_IMG_20150918_141520_cell_103.png',\n",
              " 'C99P60ThinF_IMG_20150918_141129_cell_146.png',\n",
              " 'C97P58ThinF_IMG_20150917_150838_cell_151.png',\n",
              " 'C97P58ThinF_IMG_20150917_151512_cell_158.png',\n",
              " 'C99P60ThinF_IMG_20150918_141314_cell_93.png',\n",
              " 'C91P52ThinF_IMG_20150821_125423_cell_14.png',\n",
              " 'C92P53ThinF_IMG_20150821_151646_cell_204.png',\n",
              " 'C99P60ThinF_IMG_20150918_142128_cell_98.png',\n",
              " 'C99P60ThinF_IMG_20150918_141620_cell_1.png',\n",
              " 'C99P60ThinF_IMG_20150918_140900_cell_129.png',\n",
              " 'C91P52ThinF_IMG_20150821_124937_cell_207.png',\n",
              " 'C99P60ThinF_IMG_20150918_142128_cell_110.png',\n",
              " 'C93P54ThinF_IMG_20150821_162901_cell_203.png',\n",
              " 'C91P52ThinF_IMG_20150821_125154_cell_200.png',\n",
              " 'C99P60ThinF_IMG_20150918_142334_cell_32.png',\n",
              " 'C99P60ThinF_IMG_20150918_140900_cell_146.png',\n",
              " 'C98P59ThinF_IMG_20150917_154235_cell_209.png',\n",
              " 'C99P60ThinF_IMG_20150918_140900_cell_135.png',\n",
              " 'C99P60ThinF_IMG_20150918_141314_cell_94.png',\n",
              " 'C97P58ThinF_IMG_20150917_151437_cell_171.png',\n",
              " 'C99P60ThinF_IMG_20150918_140900_cell_124.png',\n",
              " 'C99P60ThinF_IMG_20150918_140900_cell_144.png',\n",
              " 'C99P60ThinF_IMG_20150918_141314_cell_107.png',\n",
              " 'C97P58ThinF_IMG_20150917_151903_cell_6.png',\n",
              " 'C91P52ThinF_IMG_20150821_124937_cell_202.png',\n",
              " 'C99P60ThinF_IMG_20150918_141351_cell_116.png',\n",
              " 'C97P58ThinF_IMG_20150917_151437_cell_166.png',\n",
              " 'C97P58ThinF_IMG_20150917_145555_cell_175.png',\n",
              " 'C95P56ThinF_IMG_20150821_172607_cell_95.png',\n",
              " 'C91P52ThinF_IMG_20150821_124937_cell_217.png',\n",
              " 'C98P59ThinF_IMG_20150917_153600_cell_191.png',\n",
              " 'C99P60ThinF_IMG_20150918_141520_cell_113.png',\n",
              " 'C99P60ThinF_IMG_20150918_141520_cell_112.png',\n",
              " 'C99P60ThinF_IMG_20150918_141351_cell_101.png',\n",
              " 'C99P60ThinF_IMG_20150918_141620_cell_46.png',\n",
              " 'C99P60ThinF_IMG_20150918_142128_cell_119.png',\n",
              " 'C99P60ThinF_IMG_20150918_141857_cell_37.png',\n",
              " 'C98P59ThinF_IMG_20150917_153938_cell_178.png',\n",
              " 'C97P58ThinF_IMG_20150917_151437_cell_168.png',\n",
              " 'C96P57ThinF_IMG_20150824_111748_cell_218.png',\n",
              " 'C97P58ThinF_IMG_20150917_145555_cell_167.png',\n",
              " 'C99P60ThinF_IMG_20150918_141314_cell_122.png',\n",
              " 'C99P60ThinF_IMG_20150918_141520_cell_115.png',\n",
              " 'C98P59ThinF_IMG_20150917_154452_cell_203.png',\n",
              " 'C99P60ThinF_IMG_20150918_141620_cell_57.png',\n",
              " 'C99P60ThinF_IMG_20150918_141857_cell_3.png',\n",
              " 'C99P60ThinF_IMG_20150918_141129_cell_145.png',\n",
              " 'C99P60ThinF_IMG_20150918_141620_cell_59.png',\n",
              " 'C99P60ThinF_IMG_20150918_141620_cell_53.png',\n",
              " 'C99P60ThinF_IMG_20150918_141129_cell_137.png',\n",
              " 'C99P60ThinF_IMG_20150918_141520_cell_125.png',\n",
              " 'C97P58ThinF_IMG_20150917_151551_cell_184.png',\n",
              " 'C93P54ThinF_IMG_20150821_163815_cell_219.png',\n",
              " 'C91P52ThinF_IMG_20150821_125423_cell_6.png',\n",
              " 'C99P60ThinF_IMG_20150918_142334_cell_38.png',\n",
              " 'C93P54ThinF_IMG_20150821_162641_cell_222.png',\n",
              " 'C99P60ThinF_IMG_20150918_141314_cell_147.png',\n",
              " 'C97P58ThinF_IMG_20150917_151320_cell_156.png',\n",
              " 'C91P52ThinF_IMG_20150821_124739_cell_183.png',\n",
              " 'C99P60ThinF_IMG_20150918_141129_cell_151.png',\n",
              " 'C91P52ThinF_IMG_20150821_125423_cell_5.png',\n",
              " 'C92P53ThinF_IMG_20150821_151722_cell_222.png',\n",
              " 'C97P58ThinF_IMG_20150917_152225_cell_15.png',\n",
              " 'C97P58ThinF_IMG_20150917_145555_cell_172.png',\n",
              " 'C91P52ThinF_IMG_20150821_124739_cell_186.png',\n",
              " 'C99P60ThinF_IMG_20150918_141351_cell_127.png',\n",
              " 'C99P60ThinF_IMG_20150918_142334_cell_5.png',\n",
              " 'C99P60ThinF_IMG_20150918_141857_cell_57.png',\n",
              " 'C97P58ThinF_IMG_20150917_152225_cell_1.png',\n",
              " 'C99P60ThinF_IMG_20150918_141314_cell_134.png',\n",
              " 'C99P60ThinF_IMG_20150918_141314_cell_105.png',\n",
              " 'C99P60ThinF_IMG_20150918_140900_cell_109.png',\n",
              " 'C99P60ThinF_IMG_20150918_141001_cell_117.png',\n",
              " 'C99P60ThinF_IMG_20150918_141351_cell_120.png',\n",
              " 'C99P60ThinF_IMG_20150918_141857_cell_46.png',\n",
              " 'C95P56ThinF_IMG_20150821_172351_cell_104.png',\n",
              " 'C97P58ThinF_IMG_20150917_151903_cell_21.png',\n",
              " 'C99P60ThinF_IMG_20150918_141620_cell_28.png',\n",
              " 'C92P53ThinF_IMG_20150821_151646_cell_206.png',\n",
              " 'C99P60ThinF_IMG_20150918_141520_cell_119.png',\n",
              " 'C99P60ThinF_IMG_20150918_141001_cell_163.png',\n",
              " 'C99P60ThinF_IMG_20150918_141001_cell_123.png',\n",
              " 'C93P54ThinF_IMG_20150821_163452_cell_211.png',\n",
              " 'C95P56ThinF_IMG_20150821_172607_cell_97.png',\n",
              " 'C91P52ThinF_IMG_20150821_125256_cell_12.png',\n",
              " 'C99P60ThinF_IMG_20150918_141620_cell_29.png',\n",
              " 'C92P53ThinF_IMG_20150821_150718_cell_205.png',\n",
              " 'C98P59ThinF_IMG_20150917_153030_cell_160.png',\n",
              " 'C91P52ThinF_IMG_20150821_125256_cell_19.png',\n",
              " 'C99P60ThinF_IMG_20150918_141314_cell_128.png',\n",
              " 'C99P60ThinF_IMG_20150918_141520_cell_111.png',\n",
              " 'C99P60ThinF_IMG_20150918_142128_cell_91.png',\n",
              " 'C98P59ThinF_IMG_20150917_154235_cell_206.png',\n",
              " 'C99P60ThinF_IMG_20150918_140900_cell_143.png',\n",
              " 'C99P60ThinF_IMG_20150918_141351_cell_97.png',\n",
              " 'C99P60ThinF_IMG_20150918_141857_cell_55.png',\n",
              " 'C93P54ThinF_IMG_20150821_162901_cell_197.png',\n",
              " 'C96P57ThinF_IMG_20150824_105213_cell_212.png',\n",
              " 'C99P60ThinF_IMG_20150918_142334_cell_19.png',\n",
              " 'C99P60ThinF_IMG_20150918_141129_cell_107.png',\n",
              " 'C99P60ThinF_IMG_20150918_141129_cell_120.png',\n",
              " 'C99P60ThinF_IMG_20150918_141001_cell_119.png',\n",
              " 'C97P58ThinF_IMG_20150917_151512_cell_155.png',\n",
              " 'C99P60ThinF_IMG_20150918_141520_cell_128.png',\n",
              " 'C97P58ThinF_IMG_20150917_152225_cell_16.png',\n",
              " 'C97P58ThinF_IMG_20150917_152225_cell_20.png',\n",
              " 'C99P60ThinF_IMG_20150918_141520_cell_114.png',\n",
              " 'C99P60ThinF_IMG_20150918_141620_cell_31.png',\n",
              " 'C97P58ThinF_IMG_20150917_152437_cell_13.png',\n",
              " 'C97P58ThinF_IMG_20150917_152437_cell_11.png',\n",
              " 'C99P60ThinF_IMG_20150918_141001_cell_121.png',\n",
              " 'C92P53ThinF_IMG_20150821_150457_cell_254.png',\n",
              " 'C97P58ThinF_IMG_20150917_145555_cell_183.png',\n",
              " 'C99P60ThinF_IMG_20150918_141857_cell_43.png',\n",
              " 'C93P54ThinF_IMG_20150821_162641_cell_226.png',\n",
              " 'C99P60ThinF_IMG_20150918_141001_cell_98.png',\n",
              " 'C91P52ThinF_IMG_20150821_124937_cell_212.png',\n",
              " 'C99P60ThinF_IMG_20150918_141620_cell_6.png',\n",
              " 'C97P58ThinF_IMG_20150917_152225_cell_19.png',\n",
              " 'C92P53ThinF_IMG_20150821_150457_cell_251.png',\n",
              " 'C99P60ThinF_IMG_20150918_141001_cell_135.png',\n",
              " 'C93P54ThinF_IMG_20150821_163815_cell_217.png',\n",
              " 'C99P60ThinF_IMG_20150918_140900_cell_99.png',\n",
              " 'C99P60ThinF_IMG_20150918_141520_cell_124.png',\n",
              " 'C99P60ThinF_IMG_20150918_141129_cell_100.png',\n",
              " 'C98P59ThinF_IMG_20150917_153600_cell_188.png',\n",
              " 'C99P60ThinF_IMG_20150918_141520_cell_139.png',\n",
              " 'C99P60ThinF_IMG_20150918_141620_cell_8.png',\n",
              " 'C99P60ThinF_IMG_20150918_141620_cell_36.png',\n",
              " 'C91P52ThinF_IMG_20150821_125423_cell_17.png',\n",
              " 'C94P55ThinF_IMG_20150821_170021_cell_216.png',\n",
              " 'C99P60ThinF_IMG_20150918_142128_cell_85.png',\n",
              " 'C95P56ThinF_IMG_20150821_171603_cell_80.png',\n",
              " 'C99P60ThinF_IMG_20150918_141620_cell_49.png',\n",
              " 'C99P60ThinF_IMG_20150918_141001_cell_138.png',\n",
              " 'C99P60ThinF_IMG_20150918_141314_cell_123.png',\n",
              " 'C96P57ThinF_IMG_20150824_105213_cell_207.png',\n",
              " 'C97P58ThinF_IMG_20150917_145555_cell_165.png',\n",
              " 'C99P60ThinF_IMG_20150918_141520_cell_121.png',\n",
              " 'C99P60ThinF_IMG_20150918_141351_cell_121.png',\n",
              " 'C99P60ThinF_IMG_20150918_141001_cell_114.png',\n",
              " 'C99P60ThinF_IMG_20150918_141129_cell_131.png',\n",
              " 'C97P58ThinF_IMG_20150917_151512_cell_177.png',\n",
              " 'C99P60ThinF_IMG_20150918_141351_cell_136.png',\n",
              " 'C93P54ThinF_IMG_20150821_163815_cell_213.png',\n",
              " 'C99P60ThinF_IMG_20150918_141857_cell_10.png',\n",
              " 'C91P52ThinF_IMG_20150821_125423_cell_2.png',\n",
              " 'C97P58ThinF_IMG_20150917_151437_cell_172.png',\n",
              " 'C91P52ThinF_IMG_20150821_124739_cell_189.png',\n",
              " 'C99P60ThinF_IMG_20150918_140900_cell_112.png',\n",
              " 'C97P58ThinF_IMG_20150917_151903_cell_18.png',\n",
              " 'C98P59ThinF_IMG_20150917_153030_cell_159.png',\n",
              " 'C91P52ThinF_IMG_20150821_124739_cell_180.png',\n",
              " 'C91P52ThinF_IMG_20150821_125154_cell_215.png',\n",
              " 'C99P60ThinF_IMG_20150918_142128_cell_108.png',\n",
              " 'C99P60ThinF_IMG_20150918_141857_cell_38.png',\n",
              " 'C99P60ThinF_IMG_20150918_142128_cell_92.png',\n",
              " 'C97P58ThinF_IMG_20150917_150838_cell_156.png',\n",
              " 'C99P60ThinF_IMG_20150918_140900_cell_142.png',\n",
              " 'C99P60ThinF_IMG_20150918_141314_cell_131.png',\n",
              " 'C99P60ThinF_IMG_20150918_141520_cell_116.png',\n",
              " 'C91P52ThinF_IMG_20150821_124739_cell_187.png',\n",
              " 'C97P58ThinF_IMG_20150917_152032_cell_160.png',\n",
              " 'C94P55ThinF_IMG_20150821_170021_cell_215.png',\n",
              " 'C99P60ThinF_IMG_20150918_141314_cell_127.png',\n",
              " 'C99P60ThinF_IMG_20150918_140900_cell_145.png',\n",
              " 'C99P60ThinF_IMG_20150918_141001_cell_155.png',\n",
              " 'C97P58ThinF_IMG_20150917_152225_cell_3.png',\n",
              " 'C95P56ThinF_IMG_20150821_172319_cell_105.png',\n",
              " 'C97P58ThinF_IMG_20150917_151903_cell_16.png',\n",
              " 'C91P52ThinF_IMG_20150821_125154_cell_202.png',\n",
              " 'C97P58ThinF_IMG_20150917_152225_cell_4.png',\n",
              " 'C99P60ThinF_IMG_20150918_141001_cell_154.png',\n",
              " 'C98P59ThinF_IMG_20150917_154452_cell_204.png',\n",
              " 'C91P52ThinF_IMG_20150821_124937_cell_222.png',\n",
              " 'C97P58ThinF_IMG_20150917_151903_cell_11.png',\n",
              " 'C95P56ThinF_IMG_20150821_172351_cell_106.png',\n",
              " 'C97P58ThinF_IMG_20150917_151512_cell_169.png',\n",
              " 'C97P58ThinF_IMG_20150917_151903_cell_26.png',\n",
              " 'C91P52ThinF_IMG_20150821_125423_cell_28.png',\n",
              " 'C97P58ThinF_IMG_20150917_152032_cell_166.png',\n",
              " 'C97P58ThinF_IMG_20150917_145555_cell_180.png',\n",
              " 'C99P60ThinF_IMG_20150918_140900_cell_136.png',\n",
              " 'C99P60ThinF_IMG_20150918_141520_cell_95.png',\n",
              " 'C99P60ThinF_IMG_20150918_141001_cell_169.png',\n",
              " 'C99P60ThinF_IMG_20150918_141129_cell_152.png',\n",
              " 'C99P60ThinF_IMG_20150918_142334_cell_45.png',\n",
              " 'C99P60ThinF_IMG_20150918_141351_cell_112.png',\n",
              " 'C95P56ThinF_IMG_20150821_171701_cell_98.png',\n",
              " 'C99P60ThinF_IMG_20150918_142334_cell_4.png',\n",
              " 'C93P54ThinF_IMG_20150821_162641_cell_223.png',\n",
              " 'C99P60ThinF_IMG_20150918_141857_cell_49.png',\n",
              " 'C92P53ThinF_IMG_20150821_151722_cell_223.png',\n",
              " 'C96P57ThinF_IMG_20150824_112442_cell_195.png',\n",
              " 'C99P60ThinF_IMG_20150918_141001_cell_102.png',\n",
              " 'C99P60ThinF_IMG_20150918_141520_cell_90.png',\n",
              " 'C99P60ThinF_IMG_20150918_142334_cell_30.png',\n",
              " 'C99P60ThinF_IMG_20150918_141520_cell_107.png',\n",
              " 'C99P60ThinF_IMG_20150918_141314_cell_106.png',\n",
              " 'C99P60ThinF_IMG_20150918_142334_cell_29.png',\n",
              " 'C91P52ThinF_IMG_20150821_124937_cell_213.png',\n",
              " 'C99P60ThinF_IMG_20150918_141857_cell_48.png',\n",
              " 'C91P52ThinF_IMG_20150821_125423_cell_1.png',\n",
              " 'C99P60ThinF_IMG_20150918_141129_cell_153.png',\n",
              " 'C96P57ThinF_IMG_20150824_111748_cell_217.png',\n",
              " 'C94P55ThinF_IMG_20150821_170249_cell_225.png',\n",
              " 'C99P60ThinF_IMG_20150918_141129_cell_149.png',\n",
              " 'C99P60ThinF_IMG_20150918_141001_cell_104.png',\n",
              " 'C94P55ThinF_IMG_20150821_170403_cell_232.png',\n",
              " 'C97P58ThinF_IMG_20150917_151437_cell_173.png',\n",
              " 'C99P60ThinF_IMG_20150918_141129_cell_130.png',\n",
              " 'C99P60ThinF_IMG_20150918_141520_cell_91.png',\n",
              " 'C97P58ThinF_IMG_20150917_150838_cell_158.png',\n",
              " 'C97P58ThinF_IMG_20150917_151551_cell_179.png',\n",
              " 'C99P60ThinF_IMG_20150918_141001_cell_100.png',\n",
              " 'C98P59ThinF_IMG_20150917_153311_cell_160.png',\n",
              " 'C97P58ThinF_IMG_20150917_151320_cell_147.png',\n",
              " 'C97P58ThinF_IMG_20150917_151320_cell_152.png',\n",
              " 'C99P60ThinF_IMG_20150918_140900_cell_110.png',\n",
              " 'C97P58ThinF_IMG_20150917_151320_cell_151.png',\n",
              " 'C97P58ThinF_IMG_20150917_151320_cell_158.png',\n",
              " 'C93P54ThinF_IMG_20150821_164024_cell_201.png',\n",
              " 'C97P58ThinF_IMG_20150917_151512_cell_163.png',\n",
              " 'C99P60ThinF_IMG_20150918_141620_cell_3.png',\n",
              " 'C99P60ThinF_IMG_20150918_141314_cell_98.png',\n",
              " 'C97P58ThinF_IMG_20150917_151437_cell_167.png',\n",
              " 'C97P58ThinF_IMG_20150917_145555_cell_181.png',\n",
              " 'C93P54ThinF_IMG_20150821_163640_cell_206.png',\n",
              " 'C99P60ThinF_IMG_20150918_142334_cell_22.png',\n",
              " 'C99P60ThinF_IMG_20150918_141857_cell_14.png',\n",
              " 'C93P54ThinF_IMG_20150821_164024_cell_205.png',\n",
              " 'C99P60ThinF_IMG_20150918_142128_cell_118.png',\n",
              " 'C99P60ThinF_IMG_20150918_141351_cell_115.png',\n",
              " 'C99P60ThinF_IMG_20150918_142334_cell_47.png',\n",
              " 'C99P60ThinF_IMG_20150918_141001_cell_132.png',\n",
              " 'C94P55ThinF_IMG_20150821_170021_cell_217.png',\n",
              " 'C99P60ThinF_IMG_20150918_141620_cell_39.png',\n",
              " 'C91P52ThinF_IMG_20150821_125423_cell_23.png',\n",
              " 'C97P58ThinF_IMG_20150917_150838_cell_147.png',\n",
              " 'C99P60ThinF_IMG_20150918_141520_cell_122.png',\n",
              " 'C91P52ThinF_IMG_20150821_124937_cell_192.png',\n",
              " 'C97P58ThinF_IMG_20150917_152225_cell_10.png',\n",
              " 'C97P58ThinF_IMG_20150917_151551_cell_183.png',\n",
              " 'C97P58ThinF_IMG_20150917_145555_cell_179.png',\n",
              " 'C99P60ThinF_IMG_20150918_141520_cell_117.png',\n",
              " 'C97P58ThinF_IMG_20150917_151903_cell_19.png',\n",
              " 'C99P60ThinF_IMG_20150918_140900_cell_104.png',\n",
              " 'C99P60ThinF_IMG_20150918_141001_cell_147.png',\n",
              " 'C97P58ThinF_IMG_20150917_145555_cell_182.png',\n",
              " 'C96P57ThinF_IMG_20150824_105213_cell_211.png',\n",
              " 'C99P60ThinF_IMG_20150918_141314_cell_143.png',\n",
              " 'C99P60ThinF_IMG_20150918_141351_cell_109.png',\n",
              " 'C97P58ThinF_IMG_20150917_152032_cell_165.png',\n",
              " 'C99P60ThinF_IMG_20150918_141129_cell_105.png',\n",
              " 'C97P58ThinF_IMG_20150917_151320_cell_150.png',\n",
              " 'C91P52ThinF_IMG_20150821_125154_cell_220.png',\n",
              " 'C99P60ThinF_IMG_20150918_141520_cell_144.png',\n",
              " 'C99P60ThinF_IMG_20150918_141314_cell_135.png',\n",
              " 'C99P60ThinF_IMG_20150918_141129_cell_133.png',\n",
              " 'C97P58ThinF_IMG_20150917_152032_cell_158.png',\n",
              " 'C97P58ThinF_IMG_20150917_151320_cell_153.png',\n",
              " 'C99P60ThinF_IMG_20150918_140900_cell_137.png',\n",
              " 'C91P52ThinF_IMG_20150821_125423_cell_25.png',\n",
              " 'C97P58ThinF_IMG_20150917_151437_cell_175.png',\n",
              " 'C99P60ThinF_IMG_20150918_141351_cell_105.png',\n",
              " 'C99P60ThinF_IMG_20150918_141620_cell_14.png',\n",
              " 'C99P60ThinF_IMG_20150918_140900_cell_118.png',\n",
              " 'C99P60ThinF_IMG_20150918_141351_cell_134.png',\n",
              " 'C93P54ThinF_IMG_20150821_163640_cell_209.png',\n",
              " 'C93P54ThinF_IMG_20150821_163815_cell_228.png',\n",
              " 'C99P60ThinF_IMG_20150918_141314_cell_104.png',\n",
              " 'C99P60ThinF_IMG_20150918_141351_cell_119.png',\n",
              " 'C99P60ThinF_IMG_20150918_141001_cell_159.png',\n",
              " 'C99P60ThinF_IMG_20150918_141857_cell_31.png',\n",
              " 'C95P56ThinF_IMG_20150821_171701_cell_96.png',\n",
              " 'C99P60ThinF_IMG_20150918_141520_cell_88.png',\n",
              " 'C99P60ThinF_IMG_20150918_141001_cell_115.png',\n",
              " 'C97P58ThinF_IMG_20150917_152437_cell_10.png',\n",
              " 'C99P60ThinF_IMG_20150918_141857_cell_7.png',\n",
              " 'C93P54ThinF_IMG_20150821_162901_cell_202.png',\n",
              " 'C99P60ThinF_IMG_20150918_142334_cell_2.png',\n",
              " 'C99P60ThinF_IMG_20150918_142128_cell_97.png',\n",
              " 'C99P60ThinF_IMG_20150918_141857_cell_40.png',\n",
              " 'C99P60ThinF_IMG_20150918_141520_cell_96.png',\n",
              " 'C96P57ThinF_IMG_20150824_105213_cell_208.png',\n",
              " 'C99P60ThinF_IMG_20150918_142334_cell_44.png',\n",
              " 'C99P60ThinF_IMG_20150918_141001_cell_165.png',\n",
              " 'C97P58ThinF_IMG_20150917_151512_cell_154.png',\n",
              " 'C99P60ThinF_IMG_20150918_142128_cell_89.png',\n",
              " 'C99P60ThinF_IMG_20150918_141620_cell_18.png',\n",
              " 'C97P58ThinF_IMG_20150917_145555_cell_170.png',\n",
              " 'C91P52ThinF_IMG_20150821_125423_cell_21.png',\n",
              " 'C99P60ThinF_IMG_20150918_141129_cell_96.png',\n",
              " 'C99P60ThinF_IMG_20150918_141857_cell_2.png',\n",
              " 'C92P53ThinF_IMG_20150821_150457_cell_255.png',\n",
              " 'C99P60ThinF_IMG_20150918_141857_cell_22.png',\n",
              " 'C93P54ThinF_IMG_20150821_162901_cell_198.png',\n",
              " 'C99P60ThinF_IMG_20150918_141351_cell_129.png',\n",
              " 'C99P60ThinF_IMG_20150918_140900_cell_147.png',\n",
              " 'C99P60ThinF_IMG_20150918_141620_cell_52.png',\n",
              " 'C97P58ThinF_IMG_20150917_152437_cell_5.png',\n",
              " 'C99P60ThinF_IMG_20150918_141129_cell_125.png',\n",
              " 'C91P52ThinF_IMG_20150821_124937_cell_216.png',\n",
              " 'C99P60ThinF_IMG_20150918_141351_cell_96.png',\n",
              " 'C99P60ThinF_IMG_20150918_141520_cell_137.png',\n",
              " 'C99P60ThinF_IMG_20150918_140900_cell_122.png',\n",
              " 'C99P60ThinF_IMG_20150918_140900_cell_98.png',\n",
              " 'C97P58ThinF_IMG_20150917_152032_cell_172.png',\n",
              " 'C97P58ThinF_IMG_20150917_152225_cell_7.png',\n",
              " 'C95P56ThinF_IMG_20150821_171603_cell_77.png',\n",
              " 'C92P53ThinF_IMG_20150821_151646_cell_201.png',\n",
              " 'C97P58ThinF_IMG_20150917_152437_cell_2.png',\n",
              " 'C99P60ThinF_IMG_20150918_142334_cell_26.png',\n",
              " 'C99P60ThinF_IMG_20150918_141620_cell_5.png',\n",
              " 'C99P60ThinF_IMG_20150918_142334_cell_11.png',\n",
              " 'C99P60ThinF_IMG_20150918_141314_cell_139.png',\n",
              " 'C99P60ThinF_IMG_20150918_141129_cell_141.png',\n",
              " 'C93P54ThinF_IMG_20150821_163452_cell_210.png',\n",
              " 'C97P58ThinF_IMG_20150917_150838_cell_149.png',\n",
              " 'C99P60ThinF_IMG_20150918_141520_cell_126.png',\n",
              " 'C99P60ThinF_IMG_20150918_141857_cell_34.png',\n",
              " 'C99P60ThinF_IMG_20150918_142334_cell_28.png',\n",
              " 'C99P60ThinF_IMG_20150918_141520_cell_106.png',\n",
              " 'C97P58ThinF_IMG_20150917_151437_cell_157.png',\n",
              " 'C91P52ThinF_IMG_20150821_125423_cell_26.png',\n",
              " 'C99P60ThinF_IMG_20150918_141857_cell_35.png',\n",
              " 'C97P58ThinF_IMG_20150917_152437_cell_6.png',\n",
              " 'C91P52ThinF_IMG_20150821_125423_cell_7.png',\n",
              " 'C91P52ThinF_IMG_20150821_124937_cell_214.png',\n",
              " 'C97P58ThinF_IMG_20150917_151437_cell_164.png',\n",
              " 'C97P58ThinF_IMG_20150917_150838_cell_164.png',\n",
              " 'C99P60ThinF_IMG_20150918_142128_cell_115.png',\n",
              " 'C99P60ThinF_IMG_20150918_141001_cell_160.png',\n",
              " 'C97P58ThinF_IMG_20150917_151903_cell_1.png',\n",
              " 'C97P58ThinF_IMG_20150917_151512_cell_174.png',\n",
              " 'C99P60ThinF_IMG_20150918_141520_cell_87.png',\n",
              " 'C96P57ThinF_IMG_20150824_111748_cell_215.png',\n",
              " 'C91P52ThinF_IMG_20150821_125256_cell_9.png',\n",
              " 'C91P52ThinF_IMG_20150821_125256_cell_20.png',\n",
              " 'C91P52ThinF_IMG_20150821_125423_cell_12.png',\n",
              " 'C95P56ThinF_IMG_20150821_171603_cell_79.png',\n",
              " 'C99P60ThinF_IMG_20150918_141857_cell_42.png',\n",
              " 'C99P60ThinF_IMG_20150918_141129_cell_147.png',\n",
              " 'C91P52ThinF_IMG_20150821_124937_cell_195.png',\n",
              " 'C97P58ThinF_IMG_20150917_152032_cell_174.png',\n",
              " 'C95P56ThinF_IMG_20150821_171530_cell_85.png',\n",
              " 'C91P52ThinF_IMG_20150821_125256_cell_4.png',\n",
              " 'C98P59ThinF_IMG_20150917_153030_cell_162.png',\n",
              " 'C97P58ThinF_IMG_20150917_150838_cell_152.png',\n",
              " 'C99P60ThinF_IMG_20150918_141001_cell_131.png',\n",
              " 'C99P60ThinF_IMG_20150918_140900_cell_105.png',\n",
              " 'C99P60ThinF_IMG_20150918_141129_cell_124.png',\n",
              " 'C97P58ThinF_IMG_20150917_151512_cell_168.png',\n",
              " 'C99P60ThinF_IMG_20150918_141351_cell_142.png',\n",
              " 'C99P60ThinF_IMG_20150918_142128_cell_112.png',\n",
              " 'C98P59ThinF_IMG_20150917_154452_cell_205.png',\n",
              " 'C99P60ThinF_IMG_20150918_142128_cell_120.png',\n",
              " 'C97P58ThinF_IMG_20150917_145555_cell_184.png',\n",
              " 'C99P60ThinF_IMG_20150918_141129_cell_112.png',\n",
              " 'C99P60ThinF_IMG_20150918_141001_cell_95.png',\n",
              " 'C91P52ThinF_IMG_20150821_125423_cell_29.png',\n",
              " 'C97P58ThinF_IMG_20150917_151437_cell_162.png',\n",
              " 'C91P52ThinF_IMG_20150821_125154_cell_196.png',\n",
              " 'C99P60ThinF_IMG_20150918_142128_cell_82.png',\n",
              " 'C99P60ThinF_IMG_20150918_141520_cell_127.png',\n",
              " 'C99P60ThinF_IMG_20150918_141620_cell_16.png',\n",
              " 'C97P58ThinF_IMG_20150917_151903_cell_31.png',\n",
              " 'C99P60ThinF_IMG_20150918_142334_cell_12.png',\n",
              " 'C97P58ThinF_IMG_20150917_152437_cell_4.png',\n",
              " 'C94P55ThinF_IMG_20150821_170021_cell_218.png',\n",
              " 'C99P60ThinF_IMG_20150918_141857_cell_52.png',\n",
              " 'C95P56ThinF_IMG_20150821_172319_cell_104.png',\n",
              " 'C93P54ThinF_IMG_20150821_164024_cell_209.png',\n",
              " 'C99P60ThinF_IMG_20150918_141351_cell_108.png',\n",
              " 'C99P60ThinF_IMG_20150918_141620_cell_45.png',\n",
              " 'C99P60ThinF_IMG_20150918_141620_cell_43.png',\n",
              " 'C93P54ThinF_IMG_20150821_162901_cell_199.png',\n",
              " 'C99P60ThinF_IMG_20150918_141857_cell_29.png',\n",
              " 'C99P60ThinF_IMG_20150918_141001_cell_103.png',\n",
              " 'C91P52ThinF_IMG_20150821_124937_cell_193.png',\n",
              " 'C93P54ThinF_IMG_20150821_163815_cell_224.png',\n",
              " 'C98P59ThinF_IMG_20150917_154452_cell_207.png',\n",
              " 'C91P52ThinF_IMG_20150821_124937_cell_198.png',\n",
              " 'C99P60ThinF_IMG_20150918_141620_cell_34.png',\n",
              " 'C91P52ThinF_IMG_20150821_124739_cell_191.png',\n",
              " 'C99P60ThinF_IMG_20150918_140900_cell_114.png',\n",
              " 'C99P60ThinF_IMG_20150918_141620_cell_56.png',\n",
              " 'C93P54ThinF_IMG_20150821_164024_cell_210.png',\n",
              " 'C93P54ThinF_IMG_20150821_163640_cell_200.png',\n",
              " 'C93P54ThinF_IMG_20150821_162641_cell_221.png',\n",
              " 'C99P60ThinF_IMG_20150918_140900_cell_140.png',\n",
              " 'C91P52ThinF_IMG_20150821_125423_cell_8.png',\n",
              " 'C92P53ThinF_IMG_20150821_150457_cell_252.png',\n",
              " 'C99P60ThinF_IMG_20150918_142334_cell_17.png',\n",
              " 'C99P60ThinF_IMG_20150918_141857_cell_25.png',\n",
              " 'C97P58ThinF_IMG_20150917_145555_cell_189.png',\n",
              " 'C99P60ThinF_IMG_20150918_141857_cell_5.png',\n",
              " 'C91P52ThinF_IMG_20150821_125256_cell_21.png',\n",
              " 'C99P60ThinF_IMG_20150918_141001_cell_140.png',\n",
              " 'C98P59ThinF_IMG_20150917_153600_cell_190.png',\n",
              " 'C91P52ThinF_IMG_20150821_125256_cell_3.png',\n",
              " 'C99P60ThinF_IMG_20150918_141314_cell_102.png',\n",
              " 'C99P60ThinF_IMG_20150918_140900_cell_139.png',\n",
              " 'C97P58ThinF_IMG_20150917_145555_cell_166.png',\n",
              " 'C98P59ThinF_IMG_20150917_153801_cell_193.png',\n",
              " 'C99P60ThinF_IMG_20150918_141620_cell_25.png',\n",
              " 'C97P58ThinF_IMG_20150917_151437_cell_159.png',\n",
              " 'C99P60ThinF_IMG_20150918_141129_cell_115.png',\n",
              " 'C97P58ThinF_IMG_20150917_151320_cell_157.png',\n",
              " 'C97P58ThinF_IMG_20150917_151903_cell_25.png',\n",
              " 'C97P58ThinF_IMG_20150917_150838_cell_146.png',\n",
              " 'C99P60ThinF_IMG_20150918_141520_cell_109.png',\n",
              " 'C97P58ThinF_IMG_20150917_152032_cell_177.png',\n",
              " 'C99P60ThinF_IMG_20150918_141857_cell_9.png',\n",
              " 'C97P58ThinF_IMG_20150917_152032_cell_161.png',\n",
              " 'C91P52ThinF_IMG_20150821_124937_cell_206.png',\n",
              " 'C91P52ThinF_IMG_20150821_125154_cell_219.png',\n",
              " 'C93P54ThinF_IMG_20150821_163640_cell_208.png',\n",
              " 'C97P58ThinF_IMG_20150917_152032_cell_176.png',\n",
              " 'C99P60ThinF_IMG_20150918_141001_cell_142.png',\n",
              " 'C91P52ThinF_IMG_20150821_125154_cell_216.png',\n",
              " 'C93P54ThinF_IMG_20150821_162901_cell_205.png',\n",
              " 'C93P54ThinF_IMG_20150821_163640_cell_198.png',\n",
              " 'C99P60ThinF_IMG_20150918_141129_cell_148.png',\n",
              " 'C91P52ThinF_IMG_20150821_124739_cell_196.png',\n",
              " 'C99P60ThinF_IMG_20150918_141314_cell_119.png',\n",
              " 'C91P52ThinF_IMG_20150821_124937_cell_188.png',\n",
              " 'C99P60ThinF_IMG_20150918_140900_cell_97.png',\n",
              " 'C97P58ThinF_IMG_20150917_152225_cell_17.png',\n",
              " 'C97P58ThinF_IMG_20150917_151551_cell_168.png',\n",
              " 'C95P56ThinF_IMG_20150821_171603_cell_76.png',\n",
              " 'C91P52ThinF_IMG_20150821_125154_cell_195.png',\n",
              " 'C91P52ThinF_IMG_20150821_124937_cell_209.png',\n",
              " 'C99P60ThinF_IMG_20150918_142128_cell_109.png',\n",
              " 'C91P52ThinF_IMG_20150821_125256_cell_11.png',\n",
              " 'C99P60ThinF_IMG_20150918_141620_cell_11.png',\n",
              " 'C97P58ThinF_IMG_20150917_152032_cell_168.png',\n",
              " 'C99P60ThinF_IMG_20150918_140900_cell_101.png',\n",
              " 'C97P58ThinF_IMG_20150917_150838_cell_153.png',\n",
              " 'C99P60ThinF_IMG_20150918_141001_cell_133.png',\n",
              " 'C99P60ThinF_IMG_20150918_141129_cell_94.png',\n",
              " 'C97P58ThinF_IMG_20150917_151512_cell_160.png',\n",
              " 'C99P60ThinF_IMG_20150918_141620_cell_19.png',\n",
              " 'C99P60ThinF_IMG_20150918_141520_cell_135.png',\n",
              " 'C99P60ThinF_IMG_20150918_141001_cell_109.png',\n",
              " 'C97P58ThinF_IMG_20150917_151320_cell_144.png',\n",
              " 'C99P60ThinF_IMG_20150918_140900_cell_108.png',\n",
              " 'C99P60ThinF_IMG_20150918_141314_cell_117.png',\n",
              " 'C99P60ThinF_IMG_20150918_141001_cell_107.png',\n",
              " 'C99P60ThinF_IMG_20150918_141314_cell_110.png',\n",
              " 'C99P60ThinF_IMG_20150918_141351_cell_133.png',\n",
              " 'C97P58ThinF_IMG_20150917_152032_cell_164.png',\n",
              " 'C99P60ThinF_IMG_20150918_141351_cell_104.png',\n",
              " 'C99P60ThinF_IMG_20150918_141001_cell_144.png',\n",
              " 'C97P58ThinF_IMG_20150917_151551_cell_175.png',\n",
              " 'C98P59ThinF_IMG_20150917_154452_cell_201.png',\n",
              " 'C91P52ThinF_IMG_20150821_124937_cell_224.png',\n",
              " 'C99P60ThinF_IMG_20150918_141314_cell_136.png',\n",
              " 'C97P58ThinF_IMG_20150917_151903_cell_28.png',\n",
              " 'C99P60ThinF_IMG_20150918_140900_cell_132.png',\n",
              " 'C99P60ThinF_IMG_20150918_141520_cell_92.png',\n",
              " 'C99P60ThinF_IMG_20150918_141520_cell_136.png',\n",
              " 'C99P60ThinF_IMG_20150918_141129_cell_119.png',\n",
              " 'C99P60ThinF_IMG_20150918_141620_cell_38.png',\n",
              " 'C99P60ThinF_IMG_20150918_141620_cell_30.png',\n",
              " 'C91P52ThinF_IMG_20150821_124937_cell_187.png',\n",
              " 'C99P60ThinF_IMG_20150918_142128_cell_94.png',\n",
              " 'C97P58ThinF_IMG_20150917_151437_cell_163.png',\n",
              " 'C99P60ThinF_IMG_20150918_141314_cell_121.png',\n",
              " 'C99P60ThinF_IMG_20150918_140900_cell_106.png',\n",
              " 'C97P58ThinF_IMG_20150917_152225_cell_8.png',\n",
              " 'C91P52ThinF_IMG_20150821_124937_cell_196.png',\n",
              " 'C91P52ThinF_IMG_20150821_124739_cell_182.png',\n",
              " 'C93P54ThinF_IMG_20150821_164024_cell_208.png',\n",
              " 'C99P60ThinF_IMG_20150918_142334_cell_37.png',\n",
              " 'C99P60ThinF_IMG_20150918_142334_cell_25.png',\n",
              " 'C97P58ThinF_IMG_20150917_152032_cell_153.png',\n",
              " 'C99P60ThinF_IMG_20150918_141314_cell_137.png',\n",
              " 'C94P55ThinF_IMG_20150821_170403_cell_233.png',\n",
              " 'C97P58ThinF_IMG_20150917_152437_cell_16.png',\n",
              " 'C97P58ThinF_IMG_20150917_151903_cell_13.png',\n",
              " 'C97P58ThinF_IMG_20150917_151551_cell_164.png',\n",
              " 'C99P60ThinF_IMG_20150918_141351_cell_128.png',\n",
              " 'C99P60ThinF_IMG_20150918_142128_cell_105.png',\n",
              " 'C97P58ThinF_IMG_20150917_151551_cell_167.png',\n",
              " 'C97P58ThinF_IMG_20150917_151551_cell_173.png',\n",
              " 'C99P60ThinF_IMG_20150918_141620_cell_33.png',\n",
              " 'C99P60ThinF_IMG_20150918_141857_cell_26.png',\n",
              " 'C93P54ThinF_IMG_20150821_163452_cell_212.png',\n",
              " 'C95P56ThinF_IMG_20150821_171701_cell_95.png',\n",
              " 'C99P60ThinF_IMG_20150918_141129_cell_95.png',\n",
              " 'C99P60ThinF_IMG_20150918_141520_cell_132.png',\n",
              " 'C91P52ThinF_IMG_20150821_124937_cell_189.png',\n",
              " 'C99P60ThinF_IMG_20150918_140900_cell_113.png',\n",
              " 'C99P60ThinF_IMG_20150918_142334_cell_18.png',\n",
              " 'C99P60ThinF_IMG_20150918_141314_cell_118.png',\n",
              " 'C97P58ThinF_IMG_20150917_151551_cell_170.png',\n",
              " 'C99P60ThinF_IMG_20150918_140900_cell_116.png',\n",
              " 'C99P60ThinF_IMG_20150918_141001_cell_134.png',\n",
              " 'C98P59ThinF_IMG_20150917_153311_cell_162.png',\n",
              " 'C99P60ThinF_IMG_20150918_141620_cell_12.png',\n",
              " 'C91P52ThinF_IMG_20150821_124937_cell_203.png',\n",
              " 'C99P60ThinF_IMG_20150918_141520_cell_93.png',\n",
              " 'C97P58ThinF_IMG_20150917_151551_cell_163.png',\n",
              " 'C99P60ThinF_IMG_20150918_141857_cell_30.png',\n",
              " 'C98P59ThinF_IMG_20150917_153030_cell_161.png',\n",
              " 'C99P60ThinF_IMG_20150918_141620_cell_50.png',\n",
              " 'C99P60ThinF_IMG_20150918_140900_cell_107.png',\n",
              " 'C99P60ThinF_IMG_20150918_142334_cell_13.png',\n",
              " 'C99P60ThinF_IMG_20150918_141001_cell_129.png',\n",
              " 'C99P60ThinF_IMG_20150918_141129_cell_150.png',\n",
              " 'C97P58ThinF_IMG_20150917_145555_cell_168.png',\n",
              " 'C97P58ThinF_IMG_20150917_152032_cell_154.png',\n",
              " 'C95P56ThinF_IMG_20150821_171242_cell_100.png',\n",
              " 'C99P60ThinF_IMG_20150918_140900_cell_117.png',\n",
              " 'C92P53ThinF_IMG_20150821_151224_cell_212.png',\n",
              " 'C97P58ThinF_IMG_20150917_151437_cell_158.png',\n",
              " 'C91P52ThinF_IMG_20150821_125154_cell_211.png',\n",
              " 'C93P54ThinF_IMG_20150821_163815_cell_221.png',\n",
              " 'C97P58ThinF_IMG_20150917_150838_cell_161.png',\n",
              " 'C91P52ThinF_IMG_20150821_124739_cell_185.png',\n",
              " 'C99P60ThinF_IMG_20150918_141857_cell_4.png',\n",
              " 'C99P60ThinF_IMG_20150918_141001_cell_130.png',\n",
              " 'C99P60ThinF_IMG_20150918_142128_cell_78.png',\n",
              " 'C97P58ThinF_IMG_20150917_151512_cell_173.png',\n",
              " 'C99P60ThinF_IMG_20150918_141620_cell_35.png',\n",
              " 'C92P53ThinF_IMG_20150821_151224_cell_206.png',\n",
              " 'C95P56ThinF_IMG_20150821_172607_cell_98.png',\n",
              " 'C97P58ThinF_IMG_20150917_152032_cell_163.png',\n",
              " 'C97P58ThinF_IMG_20150917_151551_cell_162.png',\n",
              " 'C99P60ThinF_IMG_20150918_141001_cell_126.png',\n",
              " 'C91P52ThinF_IMG_20150821_125154_cell_197.png',\n",
              " 'C99P60ThinF_IMG_20150918_141620_cell_54.png',\n",
              " 'C99P60ThinF_IMG_20150918_141520_cell_94.png',\n",
              " 'C99P60ThinF_IMG_20150918_141314_cell_129.png',\n",
              " 'C93P54ThinF_IMG_20150821_164024_cell_196.png',\n",
              " 'C97P58ThinF_IMG_20150917_151903_cell_15.png',\n",
              " 'C93P54ThinF_IMG_20150821_162901_cell_195.png',\n",
              " 'C99P60ThinF_IMG_20150918_141129_cell_128.png',\n",
              " 'C97P58ThinF_IMG_20150917_152225_cell_18.png',\n",
              " 'C99P60ThinF_IMG_20150918_141314_cell_111.png',\n",
              " 'C99P60ThinF_IMG_20150918_142334_cell_6.png',\n",
              " 'C99P60ThinF_IMG_20150918_142128_cell_93.png',\n",
              " 'C91P52ThinF_IMG_20150821_124937_cell_211.png',\n",
              " 'C99P60ThinF_IMG_20150918_141314_cell_130.png',\n",
              " 'C99P60ThinF_IMG_20150918_141520_cell_129.png',\n",
              " 'C97P58ThinF_IMG_20150917_145555_cell_173.png',\n",
              " 'C93P54ThinF_IMG_20150821_164024_cell_204.png',\n",
              " 'C99P60ThinF_IMG_20150918_142334_cell_3.png',\n",
              " 'C99P60ThinF_IMG_20150918_141129_cell_99.png',\n",
              " 'C93P54ThinF_IMG_20150821_163815_cell_226.png',\n",
              " 'C99P60ThinF_IMG_20150918_141129_cell_101.png',\n",
              " 'C93P54ThinF_IMG_20150821_163640_cell_207.png',\n",
              " 'C97P58ThinF_IMG_20150917_152225_cell_5.png',\n",
              " 'C97P58ThinF_IMG_20150917_145555_cell_186.png',\n",
              " 'C99P60ThinF_IMG_20150918_141351_cell_110.png',\n",
              " 'C99P60ThinF_IMG_20150918_142128_cell_86.png',\n",
              " 'C97P58ThinF_IMG_20150917_151903_cell_2.png',\n",
              " 'C93P54ThinF_IMG_20150821_164024_cell_198.png',\n",
              " 'C99P60ThinF_IMG_20150918_141001_cell_145.png',\n",
              " 'C91P52ThinF_IMG_20150821_124937_cell_220.png',\n",
              " 'C97P58ThinF_IMG_20150917_151551_cell_182.png',\n",
              " 'C99P60ThinF_IMG_20150918_141001_cell_168.png',\n",
              " 'C97P58ThinF_IMG_20150917_151903_cell_24.png',\n",
              " 'C99P60ThinF_IMG_20150918_141001_cell_151.png',\n",
              " 'C97P58ThinF_IMG_20150917_151437_cell_174.png',\n",
              " 'C99P60ThinF_IMG_20150918_141351_cell_139.png',\n",
              " 'C93P54ThinF_IMG_20150821_162641_cell_220.png',\n",
              " 'C97P58ThinF_IMG_20150917_151320_cell_159.png',\n",
              " 'C99P60ThinF_IMG_20150918_142334_cell_33.png',\n",
              " 'C91P52ThinF_IMG_20150821_125423_cell_10.png',\n",
              " 'C97P58ThinF_IMG_20150917_152032_cell_173.png',\n",
              " 'C99P60ThinF_IMG_20150918_141857_cell_53.png',\n",
              " 'C99P60ThinF_IMG_20150918_142334_cell_43.png',\n",
              " 'C99P60ThinF_IMG_20150918_140900_cell_134.png',\n",
              " 'C97P58ThinF_IMG_20150917_151437_cell_169.png',\n",
              " 'C93P54ThinF_IMG_20150821_162641_cell_217.png',\n",
              " 'C99P60ThinF_IMG_20150918_141857_cell_21.png',\n",
              " 'C98P59ThinF_IMG_20150917_153030_cell_156.png',\n",
              " 'C99P60ThinF_IMG_20150918_141857_cell_12.png',\n",
              " 'C99P60ThinF_IMG_20150918_141351_cell_123.png',\n",
              " 'C99P60ThinF_IMG_20150918_141520_cell_104.png',\n",
              " 'C93P54ThinF_IMG_20150821_163640_cell_197.png',\n",
              " 'C99P60ThinF_IMG_20150918_142334_cell_24.png',\n",
              " 'C93P54ThinF_IMG_20150821_164024_cell_203.png',\n",
              " 'C91P52ThinF_IMG_20150821_125423_cell_13.png',\n",
              " 'C99P60ThinF_IMG_20150918_141857_cell_11.png',\n",
              " 'C97P58ThinF_IMG_20150917_152225_cell_27.png',\n",
              " 'C91P52ThinF_IMG_20150821_124739_cell_198.png',\n",
              " 'C93P54ThinF_IMG_20150821_162901_cell_196.png',\n",
              " 'C99P60ThinF_IMG_20150918_141857_cell_41.png',\n",
              " 'C97P58ThinF_IMG_20150917_151320_cell_146.png',\n",
              " 'C99P60ThinF_IMG_20150918_141001_cell_161.png',\n",
              " 'C99P60ThinF_IMG_20150918_141351_cell_107.png',\n",
              " 'C99P60ThinF_IMG_20150918_142128_cell_107.png',\n",
              " 'C96P57ThinF_IMG_20150824_105213_cell_209.png',\n",
              " 'C99P60ThinF_IMG_20150918_141001_cell_97.png',\n",
              " 'C99P60ThinF_IMG_20150918_141129_cell_158.png',\n",
              " 'C99P60ThinF_IMG_20150918_142334_cell_48.png',\n",
              " 'C93P54ThinF_IMG_20150821_163640_cell_211.png',\n",
              " 'C99P60ThinF_IMG_20150918_141520_cell_142.png',\n",
              " 'C99P60ThinF_IMG_20150918_141314_cell_138.png',\n",
              " 'C93P54ThinF_IMG_20150821_163452_cell_208.png',\n",
              " 'C99P60ThinF_IMG_20150918_142334_cell_41.png',\n",
              " 'C97P58ThinF_IMG_20150917_151903_cell_12.png',\n",
              " 'C99P60ThinF_IMG_20150918_141129_cell_113.png',\n",
              " 'C99P60ThinF_IMG_20150918_141129_cell_142.png',\n",
              " 'C99P60ThinF_IMG_20150918_141620_cell_58.png',\n",
              " 'C99P60ThinF_IMG_20150918_141001_cell_167.png',\n",
              " 'C94P55ThinF_IMG_20150821_165118_cell_264.png',\n",
              " 'C99P60ThinF_IMG_20150918_141314_cell_96.png',\n",
              " 'C93P54ThinF_IMG_20150821_162901_cell_200.png',\n",
              " 'C97P58ThinF_IMG_20150917_152225_cell_9.png',\n",
              " 'C99P60ThinF_IMG_20150918_141001_cell_96.png',\n",
              " 'C91P52ThinF_IMG_20150821_124937_cell_204.png',\n",
              " 'C99P60ThinF_IMG_20150918_141351_cell_126.png',\n",
              " 'C99P60ThinF_IMG_20150918_141129_cell_135.png',\n",
              " 'C99P60ThinF_IMG_20150918_140900_cell_128.png',\n",
              " 'C97P58ThinF_IMG_20150917_151903_cell_8.png',\n",
              " 'C99P60ThinF_IMG_20150918_141129_cell_103.png',\n",
              " 'C91P52ThinF_IMG_20150821_125154_cell_217.png',\n",
              " 'C99P60ThinF_IMG_20150918_140900_cell_133.png',\n",
              " 'C99P60ThinF_IMG_20150918_141001_cell_116.png',\n",
              " 'C99P60ThinF_IMG_20150918_142128_cell_87.png',\n",
              " 'C99P60ThinF_IMG_20150918_141620_cell_9.png',\n",
              " 'C97P58ThinF_IMG_20150917_145555_cell_193.png',\n",
              " 'C99P60ThinF_IMG_20150918_141351_cell_117.png',\n",
              " 'C97P58ThinF_IMG_20150917_151903_cell_10.png',\n",
              " 'C93P54ThinF_IMG_20150821_163815_cell_214.png',\n",
              " 'C97P58ThinF_IMG_20150917_152225_cell_21.png',\n",
              " 'C74P35_ThinF_IMG_20150815_114153_cell_133.png',\n",
              " 'C70P31_ThinF_IMG_20150813_131708_cell_1.png',\n",
              " 'C84P45ThinF_IMG_20150818_101903_cell_1.png',\n",
              " 'C84P45ThinF_IMG_20150818_101412_cell_102.png',\n",
              " 'C91P52ThinF_IMG_20150821_124504_cell_197.png',\n",
              " 'C80P41ThinF_IMG_20150817_111121_cell_149.png',\n",
              " 'C78P39ThinF_IMG_20150606_103459_cell_168.png',\n",
              " 'C80P41ThinF_IMG_20150817_111121_cell_140.png',\n",
              " 'C79P40ThinF_IMG_20150817_104919_cell_131.png',\n",
              " 'C85P46ThinF_IMG_20150820_105301_cell_256.png',\n",
              " 'C80P41ThinF_IMG_20150817_110608_cell_140.png',\n",
              " 'C70P31_ThinF_IMG_20150819_142239_cell_11.png',\n",
              " 'C76P37ThinF_IMG_20150815_171454_cell_254.png',\n",
              " 'C80P41ThinF_IMG_20150817_110834_cell_137.png',\n",
              " 'C70P31_ThinF_IMG_20150813_131708_cell_2.png',\n",
              " 'C68P29N_ThinF_IMG_20150819_134625_cell_56.png',\n",
              " 'C91P52ThinF_IMG_20150821_123116_cell_202.png',\n",
              " 'C89P50ThinF_IMG_20150820_162504_cell_199.png',\n",
              " 'C81P42ThinF_IMG_20150817_115942_cell_216.png',\n",
              " 'C68P29N_ThinF_IMG_20150819_134712_cell_12.png',\n",
              " 'C74P35_ThinF_IMG_20150815_120957_cell_122.png',\n",
              " 'C68P29N_ThinF_IMG_20150819_134830_cell_4.png',\n",
              " 'C89P50ThinF_IMG_20150820_163728_cell_196.png',\n",
              " 'C82P43ThinF_IMG_20150817_124010_cell_201.png',\n",
              " 'C84P45ThinF_IMG_20150818_101903_cell_4.png',\n",
              " 'C68P29N_ThinF_IMG_20150819_134830_cell_28.png',\n",
              " 'C89P50ThinF_IMG_20150820_162300_cell_209.png',\n",
              " 'C81P42ThinF_IMG_20150817_120351_cell_188.png',\n",
              " 'C84P45ThinF_IMG_20150818_101550_cell_95.png',\n",
              " 'C82P43ThinF_IMG_20150817_123824_cell_186.png',\n",
              " 'C70P31_ThinF_IMG_20150819_141436_cell_108.png',\n",
              " 'C80P41ThinF_IMG_20150817_112329_cell_11.png',\n",
              " 'C84P45ThinF_IMG_20150818_103817_cell_15.png',\n",
              " 'C76P37ThinF_IMG_20150815_173019_cell_239.png',\n",
              " 'C80P41ThinF_IMG_20150817_112557_cell_14.png',\n",
              " 'C74P35_ThinF_IMG_20150815_120957_cell_128.png',\n",
              " 'C82P43ThinF_IMG_20150817_123652_cell_202.png',\n",
              " 'C84P45ThinF_IMG_20150818_103817_cell_13.png',\n",
              " 'C80P41ThinF_IMG_20150817_110957_cell_148.png',\n",
              " 'C68P29N_ThinF_IMG_20150819_134830_cell_46.png',\n",
              " 'C82P43ThinF_IMG_20150817_124010_cell_198.png',\n",
              " 'C82P43ThinF_IMG_20150817_123824_cell_205.png',\n",
              " 'C82P43ThinF_IMG_20150817_123824_cell_192.png',\n",
              " 'C68P29N_ThinF_IMG_20150819_134830_cell_17.png',\n",
              " 'C84P45ThinF_IMG_20150818_101056_cell_113.png',\n",
              " 'C82P43ThinF_IMG_20150817_123824_cell_179.png',\n",
              " 'C76P37ThinF_IMG_20150815_171214_cell_202.png',\n",
              " 'C70P31_ThinF_IMG_20150819_141403_cell_93.png',\n",
              " 'C84P45ThinF_IMG_20150818_104156_cell_124.png',\n",
              " 'C81P42ThinF_IMG_20150817_120351_cell_181.png',\n",
              " 'C81P42ThinF_IMG_20150817_120524_cell_193.png',\n",
              " 'C85P46ThinF_IMG_20150820_110143_cell_239.png',\n",
              " 'C68P29N_ThinF_IMG_20150819_134712_cell_7.png',\n",
              " 'C74P35_ThinF_IMG_20150815_114555_cell_132.png',\n",
              " 'C84P45ThinF_IMG_20150818_103817_cell_17.png',\n",
              " 'C80P41ThinF_IMG_20150817_111121_cell_148.png',\n",
              " 'C87P48ThinF_IMG_20150820_132642_cell_174.png',\n",
              " 'C80P41ThinF_IMG_20150817_110348_cell_113.png',\n",
              " 'C76P37ThinF_IMG_20150815_171214_cell_203.png',\n",
              " 'C84P45ThinF_IMG_20150818_101412_cell_103.png',\n",
              " 'C70P31_ThinF_IMG_20150819_142703_cell_10.png',\n",
              " 'C91P52ThinF_IMG_20150821_123314_cell_199.png',\n",
              " 'C68P29N_ThinF_IMG_20150819_134712_cell_33.png',\n",
              " 'C68P29N_ThinF_IMG_20150819_134830_cell_41.png',\n",
              " 'C89P50ThinF_IMG_20150820_162504_cell_200.png',\n",
              " 'C80P41ThinF_IMG_20150817_110608_cell_139.png',\n",
              " 'C76P37ThinF_IMG_20150815_171454_cell_252.png',\n",
              " 'C70P31_ThinF_IMG_20150813_131330_cell_92.png',\n",
              " 'C77P38ThinF_IMG_20150602_143524_cell_150.png',\n",
              " 'C80P41ThinF_IMG_20150817_111544_cell_138.png',\n",
              " 'C77P38ThinF_IMG_20150602_111510_cell_127.png',\n",
              " 'C82P43ThinF_IMG_20150817_124418_cell_164.png',\n",
              " 'C91P52ThinF_IMG_20150821_123314_cell_203.png',\n",
              " 'C81P42ThinF_IMG_20150817_120856_cell_203.png',\n",
              " 'C84P45ThinF_IMG_20150818_101257_cell_95.png',\n",
              " 'C87P48ThinF_IMG_20150820_144855_cell_185.png',\n",
              " 'C80P41ThinF_IMG_20150817_110957_cell_130.png',\n",
              " 'C91P52ThinF_IMG_20150821_123314_cell_195.png',\n",
              " 'C80P41ThinF_IMG_20150817_111121_cell_154.png',\n",
              " 'C84P45ThinF_IMG_20150818_102800_cell_19.png',\n",
              " ...]"
            ]
          },
          "metadata": {
            "tags": []
          },
          "execution_count": 8
        }
      ]
    },
    {
      "cell_type": "code",
      "metadata": {
        "id": "JYLK3NzbM3gG"
      },
      "source": [
        "#View a single image\n",
        "para_cell = train_path+'/parasitized'+'/C68P29N_ThinF_IMG_20150819_134830_cell_46.png'"
      ],
      "execution_count": null,
      "outputs": []
    },
    {
      "cell_type": "code",
      "metadata": {
        "id": "-KF0F_u5NhIJ",
        "outputId": "80d7d7c0-436a-4eca-80a6-bb65ab1528ce",
        "colab": {
          "base_uri": "https://localhost:8080/",
          "height": 52
        }
      },
      "source": [
        "para_cell"
      ],
      "execution_count": null,
      "outputs": [
        {
          "output_type": "execute_result",
          "data": {
            "application/vnd.google.colaboratory.intrinsic+json": {
              "type": "string"
            },
            "text/plain": [
              "'/content/drive/My Drive/ml/cell_images/train/parasitized/C68P29N_ThinF_IMG_20150819_134830_cell_46.png'"
            ]
          },
          "metadata": {
            "tags": []
          },
          "execution_count": 10
        }
      ]
    },
    {
      "cell_type": "code",
      "metadata": {
        "id": "PbK5Ky7xNidd",
        "outputId": "6fe725fe-11d2-474f-ce01-32db63273c39",
        "colab": {
          "base_uri": "https://localhost:8080/",
          "height": 833
        }
      },
      "source": [
        "#imread file converts a png image to array\n",
        "imread(para_cell)"
      ],
      "execution_count": null,
      "outputs": [
        {
          "output_type": "execute_result",
          "data": {
            "text/plain": [
              "array([[[0., 0., 0.],\n",
              "        [0., 0., 0.],\n",
              "        [0., 0., 0.],\n",
              "        ...,\n",
              "        [0., 0., 0.],\n",
              "        [0., 0., 0.],\n",
              "        [0., 0., 0.]],\n",
              "\n",
              "       [[0., 0., 0.],\n",
              "        [0., 0., 0.],\n",
              "        [0., 0., 0.],\n",
              "        ...,\n",
              "        [0., 0., 0.],\n",
              "        [0., 0., 0.],\n",
              "        [0., 0., 0.]],\n",
              "\n",
              "       [[0., 0., 0.],\n",
              "        [0., 0., 0.],\n",
              "        [0., 0., 0.],\n",
              "        ...,\n",
              "        [0., 0., 0.],\n",
              "        [0., 0., 0.],\n",
              "        [0., 0., 0.]],\n",
              "\n",
              "       ...,\n",
              "\n",
              "       [[0., 0., 0.],\n",
              "        [0., 0., 0.],\n",
              "        [0., 0., 0.],\n",
              "        ...,\n",
              "        [0., 0., 0.],\n",
              "        [0., 0., 0.],\n",
              "        [0., 0., 0.]],\n",
              "\n",
              "       [[0., 0., 0.],\n",
              "        [0., 0., 0.],\n",
              "        [0., 0., 0.],\n",
              "        ...,\n",
              "        [0., 0., 0.],\n",
              "        [0., 0., 0.],\n",
              "        [0., 0., 0.]],\n",
              "\n",
              "       [[0., 0., 0.],\n",
              "        [0., 0., 0.],\n",
              "        [0., 0., 0.],\n",
              "        ...,\n",
              "        [0., 0., 0.],\n",
              "        [0., 0., 0.],\n",
              "        [0., 0., 0.]]], dtype=float32)"
            ]
          },
          "metadata": {
            "tags": []
          },
          "execution_count": 11
        }
      ]
    },
    {
      "cell_type": "code",
      "metadata": {
        "id": "7yDt10rxNlJg",
        "outputId": "cbde3276-1729-4774-e09a-2c3aa78e03ec",
        "colab": {
          "base_uri": "https://localhost:8080/",
          "height": 33
        }
      },
      "source": [
        "imread(para_cell).shape"
      ],
      "execution_count": null,
      "outputs": [
        {
          "output_type": "execute_result",
          "data": {
            "text/plain": [
              "(124, 151, 3)"
            ]
          },
          "metadata": {
            "tags": []
          },
          "execution_count": 12
        }
      ]
    },
    {
      "cell_type": "code",
      "metadata": {
        "id": "nHgKXm5pNvvZ",
        "outputId": "0f85d103-5ba7-42cc-aa5f-e5b0e2dbf6ac",
        "colab": {
          "base_uri": "https://localhost:8080/",
          "height": 285
        }
      },
      "source": [
        "plt.imshow(imread(para_cell))"
      ],
      "execution_count": null,
      "outputs": [
        {
          "output_type": "execute_result",
          "data": {
            "text/plain": [
              "<matplotlib.image.AxesImage at 0x7fdb5aef9cc0>"
            ]
          },
          "metadata": {
            "tags": []
          },
          "execution_count": 13
        },
        {
          "output_type": "display_data",
          "data": {
            "image/png": "[encoded data removed]",
            "text/plain": [
              "<Figure size 432x288 with 1 Axes>"
            ]
          },
          "metadata": {
            "tags": [],
            "needs_background": "light"
          }
        }
      ]
    },
    {
      "cell_type": "markdown",
      "metadata": {
        "id": "Dey4FqG-OB8L"
      },
      "source": [
        "### View the image for uninfected cells"
      ]
    },
    {
      "cell_type": "code",
      "metadata": {
        "id": "ZTuFvVSgN5sw"
      },
      "source": [
        "uninfected_cell = os.listdir(train_path+'/uninfected')"
      ],
      "execution_count": null,
      "outputs": []
    },
    {
      "cell_type": "code",
      "metadata": {
        "id": "Dvl_Dv4LP8b1",
        "outputId": "f838b6cb-c961-4e6d-9d3f-0dc7410e41e6",
        "colab": {
          "base_uri": "https://localhost:8080/",
          "height": 1000
        }
      },
      "source": [
        "uninfected_cell"
      ],
      "execution_count": null,
      "outputs": [
        {
          "output_type": "execute_result",
          "data": {
            "text/plain": [
              "['C87P48ThinF_IMG_20150820_144855_cell_64.png',\n",
              " 'C73P34_ThinF_IMG_20150815_112246_cell_83.png',\n",
              " 'C88P49ThinF_IMG_20150820_151626_cell_180.png',\n",
              " 'C70P31_ThinF_IMG_20150813_131609_cell_50.png',\n",
              " 'C91P52ThinF_IMG_20150821_123116_cell_12.png',\n",
              " 'C84P45ThinF_IMG_20150818_101056_cell_37.png',\n",
              " 'C74P35_ThinF_IMG_20150815_120712_cell_104.png',\n",
              " 'C73P34_ThinF_IMG_20150815_112246_cell_76.png',\n",
              " 'C78P39ThinF_IMG_20150606_103630_cell_6.png',\n",
              " 'C81P42ThinF_IMG_20150817_115942_cell_44.png',\n",
              " 'C84P45ThinF_IMG_20150818_101146_cell_70.png',\n",
              " 'C79P40ThinF_IMG_20150817_104745_cell_49.png',\n",
              " 'C78P39ThinF_IMG_20150606_104106_cell_53.png',\n",
              " 'C82P43ThinF_IMG_20150817_123824_cell_37.png',\n",
              " 'C83P44ThinF_IMG_20150817_133218_cell_150.png',\n",
              " 'C73P34_ThinF_IMG_20150815_112246_cell_180.png',\n",
              " 'C71P32_ThinF_IMG_20150813_162146_cell_36.png',\n",
              " 'C73P34_ThinF_IMG_20150815_111302_cell_127.png',\n",
              " 'C86P47ThinF_IMG_20150820_125057_cell_142.png',\n",
              " 'C88P49ThinF_IMG_20150820_150724_cell_161.png',\n",
              " 'C70P31_ThinF_IMG_20150813_130510_cell_70.png',\n",
              " 'C82P43ThinF_IMG_20150817_123824_cell_103.png',\n",
              " 'C70P31_ThinF_IMG_20150813_131022_cell_70.png',\n",
              " 'C92P53ThinF_IMG_20150821_151722_cell_57.png',\n",
              " 'C75P36_ThinF_IMG_20150815_163742_cell_145.png',\n",
              " 'C80P41ThinF_IMG_20150817_111121_cell_99.png',\n",
              " 'C91P52ThinF_IMG_20150821_123116_cell_102.png',\n",
              " 'C89P50ThinF_IMG_20150820_162504_cell_119.png',\n",
              " 'C77P38ThinF_IMG_20150601_152941_cell_40.png',\n",
              " 'C77P38ThinF_IMG_20150602_143650_cell_126.png',\n",
              " 'C81P42ThinF_IMG_20150817_120351_cell_135.png',\n",
              " 'C74P35_ThinF_IMG_20150815_120957_cell_32.png',\n",
              " 'C73P34_ThinF_IMG_20150815_111501_cell_54.png',\n",
              " 'C74P35_ThinF_IMG_20150815_120712_cell_108.png',\n",
              " 'C90P51ThinF_IMG_20150821_120044_cell_51.png',\n",
              " 'C77P38ThinF_IMG_20150601_152941_cell_98.png',\n",
              " 'C79P40ThinF_IMG_20150817_103303_cell_100.png',\n",
              " 'C7NthinF_IMG_20150611_105043_cell_83.png',\n",
              " 'C88P49ThinF_IMG_20150820_151626_cell_72.png',\n",
              " 'C88P49ThinF_IMG_20150820_151451_cell_9.png',\n",
              " 'C73P34_ThinF_IMG_20150815_111302_cell_72.png',\n",
              " 'C89P50ThinF_IMG_20150820_162153_cell_35.png',\n",
              " 'C92P53ThinF_IMG_20150821_151646_cell_46.png',\n",
              " 'C86P47ThinF_IMG_20150820_124025_cell_82.png',\n",
              " 'C73P34_ThinF_IMG_20150815_112246_cell_74.png',\n",
              " 'C85P46ThinF_IMG_20150820_110143_cell_20.png',\n",
              " 'C7NthinF_IMG_20150611_105444_cell_115.png',\n",
              " 'C71P32_ThinF_IMG_20150813_161634_cell_49.png',\n",
              " 'C93P54ThinF_IMG_20150821_163815_cell_16.png',\n",
              " 'C94P55ThinF_IMG_20150821_170249_cell_174.png',\n",
              " 'C83P44ThinF_IMG_20150817_134820_cell_79.png',\n",
              " 'C93P54ThinF_IMG_20150821_163452_cell_126.png',\n",
              " 'C74P35_ThinF_IMG_20150815_121324_cell_67.png',\n",
              " 'C95P56ThinF_IMG_20150821_171603_cell_19.png',\n",
              " 'C95P56ThinF_IMG_20150821_171530_cell_76.png',\n",
              " 'C89P50ThinF_IMG_20150820_162153_cell_2.png',\n",
              " 'C7NthinF_IMG_20150611_105444_cell_163.png',\n",
              " 'C85P46ThinF_IMG_20150820_105154_cell_25.png',\n",
              " 'C86P47ThinF_IMG_20150820_124025_cell_198.png',\n",
              " 'C72P33_ThinF_IMG_20150815_104045_cell_109.png',\n",
              " 'C93P54ThinF_IMG_20150821_164024_cell_51.png',\n",
              " 'C77P38ThinF_IMG_20150601_155125_cell_129.png',\n",
              " 'C84P45ThinF_IMG_20150818_102325_cell_64.png',\n",
              " 'C78P39ThinF_IMG_20150606_104106_cell_14.png',\n",
              " 'C80P41ThinF_IMG_20150817_110608_cell_108.png',\n",
              " 'C76P37ThinF_IMG_20150815_172902_cell_137.png',\n",
              " 'C94P55ThinF_IMG_20150821_170403_cell_4.png',\n",
              " 'C75P36_ThinF_IMG_20150815_162935_cell_36.png',\n",
              " 'C90P51ThinF_IMG_20150821_115846_cell_62.png',\n",
              " 'C77P38ThinF_IMG_20150601_155125_cell_16.png',\n",
              " 'C75P36_ThinF_IMG_20150815_163147_cell_159.png',\n",
              " 'C7NthinF_IMG_20150611_104609_cell_30.png',\n",
              " 'C86P47ThinF_IMG_20150820_124025_cell_43.png',\n",
              " 'C84P45ThinF_IMG_20150818_101056_cell_87.png',\n",
              " 'C95P56ThinF_IMG_20150821_171603_cell_35.png',\n",
              " 'C86P47ThinF_IMG_20150820_123717_cell_231.png',\n",
              " 'C71P32_ThinF_IMG_20150813_162554_cell_83.png',\n",
              " 'C83P44ThinF_IMG_20150817_133609_cell_118.png',\n",
              " 'C84P45ThinF_IMG_20150818_101550_cell_83.png',\n",
              " 'C92P53ThinF_IMG_20150821_151646_cell_97.png',\n",
              " 'C71P32_ThinF_IMG_20150813_163120_cell_160.png',\n",
              " 'C74P35_ThinF_IMG_20150815_120957_cell_47.png',\n",
              " 'C87P48ThinF_IMG_20150820_144855_cell_39.png',\n",
              " 'C74P35_ThinF_IMG_20150815_121324_cell_73.png',\n",
              " 'C91P52ThinF_IMG_20150821_123314_cell_16.png',\n",
              " 'C83P44ThinF_IMG_20150817_133218_cell_129.png',\n",
              " 'C94P55ThinF_IMG_20150821_165118_cell_60.png',\n",
              " 'C85P46ThinF_IMG_20150820_105301_cell_55.png',\n",
              " 'C78P39ThinF_IMG_20150606_103630_cell_3.png',\n",
              " 'C77P38ThinF_IMG_20150601_155125_cell_75.png',\n",
              " 'C78P39ThinF_IMG_20150606_104426_cell_104.png',\n",
              " 'C92P53ThinF_IMG_20150821_151722_cell_152.png',\n",
              " 'C74P35_ThinF_IMG_20150815_120712_cell_113.png',\n",
              " 'C89P50ThinF_IMG_20150820_163728_cell_139.png',\n",
              " 'C83P44ThinF_IMG_20150817_133609_cell_88.png',\n",
              " 'C72P33_ThinF_IMG_20150815_104045_cell_48.png',\n",
              " 'C7NthinF_IMG_20150611_104510_cell_119.png',\n",
              " 'C95P56ThinF_IMG_20150821_172319_cell_62.png',\n",
              " 'C74P35_ThinF_IMG_20150815_113951_cell_14.png',\n",
              " 'C86P47ThinF_IMG_20150820_125057_cell_73.png',\n",
              " 'C71P32_ThinF_IMG_20150813_163655_cell_176.png',\n",
              " 'C88P49ThinF_IMG_20150820_151451_cell_61.png',\n",
              " 'C95P56ThinF_IMG_20150821_172222_cell_33.png',\n",
              " 'C92P53ThinF_IMG_20150821_151722_cell_75.png',\n",
              " 'C71P32_ThinF_IMG_20150813_162554_cell_95.png',\n",
              " 'C89P50ThinF_IMG_20150820_162813_cell_115.png',\n",
              " 'C77P38ThinF_IMG_20150602_142303_cell_125.png',\n",
              " 'C70P31_ThinF_IMG_20150813_131022_cell_60.png',\n",
              " 'C74P35_ThinF_IMG_20150815_114555_cell_53.png',\n",
              " 'C72P33_ThinF_IMG_20150815_104843_cell_155.png',\n",
              " 'C7NthinF_IMG_20150611_104510_cell_117.png',\n",
              " 'C82P43ThinF_IMG_20150817_123652_cell_156.png',\n",
              " 'C86P47ThinF_IMG_20150820_124025_cell_106.png',\n",
              " 'C87P48ThinF_IMG_20150820_132514_cell_110.png',\n",
              " 'C86P47ThinF_IMG_20150820_123717_cell_213.png',\n",
              " 'C82P43ThinF_IMG_20150817_123500_cell_81.png',\n",
              " 'C76P37ThinF_IMG_20150815_171214_cell_40.png',\n",
              " 'C71P32_ThinF_IMG_20150813_161634_cell_66.png',\n",
              " 'C92P53ThinF_IMG_20150821_150718_cell_133.png',\n",
              " 'C74P35_ThinF_IMG_20150815_114555_cell_4.png',\n",
              " 'C79P40ThinF_IMG_20150817_104316_cell_16.png',\n",
              " 'C88P49ThinF_IMG_20150820_153042_cell_115.png',\n",
              " 'C80P41ThinF_IMG_20150817_111544_cell_116.png',\n",
              " 'C94P55ThinF_IMG_20150821_165519_cell_135.png',\n",
              " 'C71P32_ThinF_IMG_20150813_163120_cell_135.png',\n",
              " 'C95P56ThinF_IMG_20150821_172319_cell_96.png',\n",
              " 'C74P35_ThinF_IMG_20150815_114819_cell_13.png',\n",
              " 'C7NthinF_IMG_20150611_105043_cell_96.png',\n",
              " 'C82P43ThinF_IMG_20150817_123500_cell_191.png',\n",
              " 'C92P53ThinF_IMG_20150821_150457_cell_106.png',\n",
              " 'C76P37ThinF_IMG_20150815_172902_cell_135.png',\n",
              " 'C82P43ThinF_IMG_20150817_124010_cell_35.png',\n",
              " 'C74P35_ThinF_IMG_20150815_114555_cell_30.png',\n",
              " 'C82P43ThinF_IMG_20150817_123824_cell_4.png',\n",
              " 'C83P44ThinF_IMG_20150817_133454_cell_171.png',\n",
              " 'C83P44ThinF_IMG_20150817_134820_cell_159.png',\n",
              " 'C89P50ThinF_IMG_20150820_163347_cell_133.png',\n",
              " 'C80P41ThinF_IMG_20150817_110834_cell_73.png',\n",
              " 'C70P31_ThinF_IMG_20150813_131022_cell_48.png',\n",
              " 'C83P44ThinF_IMG_20150817_133355_cell_82.png',\n",
              " 'C87P48ThinF_IMG_20150820_141913_cell_134.png',\n",
              " 'C89P50ThinF_IMG_20150820_162153_cell_168.png',\n",
              " 'C78P39ThinF_IMG_20150606_104426_cell_18.png',\n",
              " 'C76P37ThinF_IMG_20150815_171454_cell_95.png',\n",
              " 'C72P33_ThinF_IMG_20150815_105823_cell_5.png',\n",
              " 'C81P42ThinF_IMG_20150817_120712_cell_74.png',\n",
              " 'C86P47ThinF_IMG_20150820_124259_cell_210.png',\n",
              " 'C70P31_ThinF_IMG_20150819_142744_cell_1.png',\n",
              " 'C91P52ThinF_IMG_20150821_123116_cell_106.png',\n",
              " 'C95P56ThinF_IMG_20150821_171530_cell_13.png',\n",
              " 'C76P37ThinF_IMG_20150815_171214_cell_187.png',\n",
              " 'C95P56ThinF_IMG_20150821_172222_cell_15.png',\n",
              " 'C83P44ThinF_IMG_20150817_134331_cell_63.png',\n",
              " 'C83P44ThinF_IMG_20150817_133355_cell_118.png',\n",
              " 'C93P54ThinF_IMG_20150821_162901_cell_144.png',\n",
              " 'C81P42ThinF_IMG_20150817_120856_cell_5.png',\n",
              " 'C77P38ThinF_IMG_20150602_142303_cell_114.png',\n",
              " 'C92P53ThinF_IMG_20150821_151224_cell_91.png',\n",
              " 'C88P49ThinF_IMG_20150820_150724_cell_129.png',\n",
              " 'C85P46ThinF_IMG_20150820_110143_cell_163.png',\n",
              " 'C94P55ThinF_IMG_20150821_170021_cell_32.png',\n",
              " 'C79P40ThinF_IMG_20150817_104745_cell_77.png',\n",
              " 'C95P56ThinF_IMG_20150821_172319_cell_7.png',\n",
              " 'C84P45ThinF_IMG_20150818_102654_cell_50.png',\n",
              " 'C92P53ThinF_IMG_20150821_151224_cell_123.png',\n",
              " 'C75P36_ThinF_IMG_20150815_162935_cell_67.png',\n",
              " 'C79P40ThinF_IMG_20150817_103303_cell_91.png',\n",
              " 'C90P51ThinF_IMG_20150821_115700_cell_62.png',\n",
              " 'C86P47ThinF_IMG_20150820_124259_cell_52.png',\n",
              " 'C73P34_ThinF_IMG_20150815_111422_cell_13.png',\n",
              " 'C87P48ThinF_IMG_20150820_132514_cell_177.png',\n",
              " 'C7NthinF_IMG_20150611_105043_cell_10.png',\n",
              " 'C86P47ThinF_IMG_20150820_124025_cell_26.png',\n",
              " 'C72P33_ThinF_IMG_20150815_105823_cell_223.png',\n",
              " 'C71P32_ThinF_IMG_20150813_162016_cell_18.png',\n",
              " 'C94P55ThinF_IMG_20150821_165118_cell_242.png',\n",
              " 'C76P37ThinF_IMG_20150815_171214_cell_177.png',\n",
              " 'C95P56ThinF_IMG_20150821_171242_cell_35.png',\n",
              " 'C83P44ThinF_IMG_20150817_133218_cell_113.png',\n",
              " 'C73P34_ThinF_IMG_20150815_111302_cell_6.png',\n",
              " 'C96P57ThinF_IMG_20150824_105213_cell_180.png',\n",
              " 'C95P56ThinF_IMG_20150821_171530_cell_4.png',\n",
              " 'C82P43ThinF_IMG_20150817_123500_cell_198.png',\n",
              " 'C84P45ThinF_IMG_20150818_101146_cell_8.png',\n",
              " 'C85P46ThinF_IMG_20150820_105301_cell_148.png',\n",
              " 'C72P33_ThinF_IMG_20150815_104307_cell_66.png',\n",
              " 'C71P32_ThinF_IMG_20150813_162016_cell_108.png',\n",
              " 'C93P54ThinF_IMG_20150821_164024_cell_53.png',\n",
              " 'C89P50ThinF_IMG_20150820_163728_cell_44.png',\n",
              " 'C80P41ThinF_IMG_20150817_110957_cell_48.png',\n",
              " 'C85P46ThinF_IMG_20150820_110143_cell_132.png',\n",
              " 'C95P56ThinF_IMG_20150821_171751_cell_63.png',\n",
              " 'C95P56ThinF_IMG_20150821_172607_cell_18.png',\n",
              " 'C82P43ThinF_IMG_20150817_124010_cell_91.png',\n",
              " 'C70P31_ThinF_IMG_20150819_142744_cell_68.png',\n",
              " 'C78P39ThinF_IMG_20150606_103413_cell_68.png',\n",
              " 'C77P38ThinF_IMG_20150602_111510_cell_1.png',\n",
              " 'C78P39ThinF_IMG_20150606_104936_cell_92.png',\n",
              " 'C7NthinF_IMG_20150611_105043_cell_143.png',\n",
              " 'C80P41ThinF_IMG_20150817_111246_cell_41.png',\n",
              " 'C80P41ThinF_IMG_20150817_110834_cell_71.png',\n",
              " 'C72P33_ThinF_IMG_20150815_104923_cell_110.png',\n",
              " 'C74P35_ThinF_IMG_20150815_114555_cell_27.png',\n",
              " 'C77P38ThinF_IMG_20150601_155642_cell_3.png',\n",
              " 'C7NthinF_IMG_20150611_104753_cell_119.png',\n",
              " 'C75P36_ThinF_IMG_20150815_163707_cell_86.png',\n",
              " 'C83P44ThinF_IMG_20150817_140045_cell_79.png',\n",
              " 'C74P35_ThinF_IMG_20150815_113951_cell_104.png',\n",
              " 'C70P31_ThinF_IMG_20150819_141436_cell_87.png',\n",
              " 'C84P45ThinF_IMG_20150818_101226_cell_41.png',\n",
              " 'C76P37ThinF_IMG_20150815_171454_cell_88.png',\n",
              " 'C76P37ThinF_IMG_20150815_172808_cell_52.png',\n",
              " 'C90P51ThinF_IMG_20150821_115846_cell_53.png',\n",
              " 'C86P47ThinF_IMG_20150820_125057_cell_173.png',\n",
              " 'C86P47ThinF_IMG_20150820_125057_cell_98.png',\n",
              " 'C89P50ThinF_IMG_20150820_163347_cell_146.png',\n",
              " 'C82P43ThinF_IMG_20150817_123824_cell_83.png',\n",
              " 'C78P39ThinF_IMG_20150606_103459_cell_100.png',\n",
              " 'C90P51ThinF_IMG_20150821_115846_cell_114.png',\n",
              " 'C72P33_ThinF_IMG_20150815_104843_cell_59.png',\n",
              " 'C91P52ThinF_IMG_20150821_124937_cell_173.png',\n",
              " 'C90P51ThinF_IMG_20150821_115700_cell_87.png',\n",
              " 'C86P47ThinF_IMG_20150820_124259_cell_196.png',\n",
              " 'C93P54ThinF_IMG_20150821_163815_cell_91.png',\n",
              " 'C96P57ThinF_IMG_20150824_105531_cell_107.png',\n",
              " 'C99P60ThinF_IMG_20150918_141314_cell_11.png',\n",
              " 'C99P60ThinF_IMG_20150918_141520_cell_73.png',\n",
              " 'C98P59ThinF_IMG_20150917_154452_cell_199.png',\n",
              " 'C97P58ThinF_IMG_20150917_152032_cell_93.png',\n",
              " 'C99P60ThinF_IMG_20150918_141351_cell_56.png',\n",
              " 'C98P59ThinF_IMG_20150917_154235_cell_135.png',\n",
              " 'C99P60ThinF_IMG_20150918_141314_cell_16.png',\n",
              " 'C97P58ThinF_IMG_20150917_151437_cell_32.png',\n",
              " 'C99P60ThinF_IMG_20150918_141001_cell_69.png',\n",
              " 'C97P58ThinF_IMG_20150917_151512_cell_133.png',\n",
              " 'C97P58ThinF_IMG_20150917_152032_cell_1.png',\n",
              " 'C96P57ThinF_IMG_20150824_105531_cell_217.png',\n",
              " 'C99P60ThinF_IMG_20150918_142128_cell_56.png',\n",
              " 'C98P59ThinF_IMG_20150917_153600_cell_116.png',\n",
              " 'C97P58ThinF_IMG_20150917_151512_cell_117.png',\n",
              " 'C96P57ThinF_IMG_20150824_112132_cell_63.png',\n",
              " 'C98P59ThinF_IMG_20150917_153938_cell_130.png',\n",
              " 'C99P60ThinF_IMG_20150918_141351_cell_75.png',\n",
              " 'C97P58ThinF_IMG_20150917_145555_cell_94.png',\n",
              " 'C96P57ThinF_IMG_20150824_105531_cell_71.png',\n",
              " 'C97P58ThinF_IMG_20150917_145555_cell_36.png',\n",
              " 'C97P58ThinF_IMG_20150917_151551_cell_41.png',\n",
              " 'C97P58ThinF_IMG_20150917_152032_cell_6.png',\n",
              " 'C96P57ThinF_IMG_20150824_110812_cell_111.png',\n",
              " 'C98P59ThinF_IMG_20150917_154452_cell_144.png',\n",
              " 'C98P59ThinF_IMG_20150917_153938_cell_6.png',\n",
              " 'C97P58ThinF_IMG_20150917_145555_cell_122.png',\n",
              " 'C98P59ThinF_IMG_20150917_153030_cell_120.png',\n",
              " 'C96P57ThinF_IMG_20150824_112132_cell_53.png',\n",
              " 'C98P59ThinF_IMG_20150917_154235_cell_125.png',\n",
              " 'C99P60ThinF_IMG_20150918_141314_cell_81.png',\n",
              " 'C98P59ThinF_IMG_20150917_154235_cell_85.png',\n",
              " 'C98P59ThinF_IMG_20150917_153311_cell_49.png',\n",
              " 'C97P58ThinF_IMG_20150917_151320_cell_54.png',\n",
              " 'C96P57ThinF_IMG_20150824_105445_cell_140.png',\n",
              " 'C97P58ThinF_IMG_20150917_151512_cell_146.png',\n",
              " 'C98P59ThinF_IMG_20150917_153600_cell_1.png',\n",
              " 'C98P59ThinF_IMG_20150917_153030_cell_144.png',\n",
              " 'C97P58ThinF_IMG_20150917_151437_cell_18.png',\n",
              " 'C96P57ThinF_IMG_20150824_105531_cell_17.png',\n",
              " 'C96P57ThinF_IMG_20150824_111748_cell_133.png',\n",
              " 'C99P60ThinF_IMG_20150918_141520_cell_38.png',\n",
              " 'C97P58ThinF_IMG_20150917_151437_cell_29.png',\n",
              " 'C99P60ThinF_IMG_20150918_140900_cell_69.png',\n",
              " 'C97P58ThinF_IMG_20150917_151320_cell_113.png',\n",
              " 'C98P59ThinF_IMG_20150917_153938_cell_44.png',\n",
              " 'C96P57ThinF_IMG_20150824_111748_cell_5.png',\n",
              " 'C98P59ThinF_IMG_20150917_153938_cell_111.png',\n",
              " 'C96P57ThinF_IMG_20150824_105445_cell_100.png',\n",
              " 'C98P59ThinF_IMG_20150917_154235_cell_30.png',\n",
              " 'C97P58ThinF_IMG_20150917_152032_cell_42.png',\n",
              " 'C96P57ThinF_IMG_20150824_111748_cell_169.png',\n",
              " 'C97P58ThinF_IMG_20150917_151437_cell_71.png',\n",
              " 'C97P58ThinF_IMG_20150917_151320_cell_119.png',\n",
              " 'C96P57ThinF_IMG_20150824_110812_cell_203.png',\n",
              " 'C99P60ThinF_IMG_20150918_140900_cell_91.png',\n",
              " 'C98P59ThinF_IMG_20150917_153801_cell_127.png',\n",
              " 'C99P60ThinF_IMG_20150918_141001_cell_61.png',\n",
              " 'C98P59ThinF_IMG_20150917_153801_cell_176.png',\n",
              " 'C97P58ThinF_IMG_20150917_151551_cell_134.png',\n",
              " 'C97P58ThinF_IMG_20150917_152032_cell_101.png',\n",
              " 'C99P60ThinF_IMG_20150918_141314_cell_39.png',\n",
              " 'C98P59ThinF_IMG_20150917_153030_cell_62.png',\n",
              " 'C98P59ThinF_IMG_20150917_154452_cell_102.png',\n",
              " 'C97P58ThinF_IMG_20150917_151551_cell_147.png',\n",
              " 'C98P59ThinF_IMG_20150917_153600_cell_152.png',\n",
              " 'C99P60ThinF_IMG_20150918_142128_cell_52.png',\n",
              " 'C96P57ThinF_IMG_20150824_112442_cell_170.png',\n",
              " 'C98P59ThinF_IMG_20150917_154235_cell_157.png',\n",
              " 'C98P59ThinF_IMG_20150917_153801_cell_1.png',\n",
              " 'C99P60ThinF_IMG_20150918_140900_cell_34.png',\n",
              " 'C99P60ThinF_IMG_20150918_141520_cell_31.png',\n",
              " 'C98P59ThinF_IMG_20150917_154452_cell_33.png',\n",
              " 'C96P57ThinF_IMG_20150824_112132_cell_124.png',\n",
              " 'C99P60ThinF_IMG_20150918_141001_cell_46.png',\n",
              " 'C99P60ThinF_IMG_20150918_140900_cell_66.png',\n",
              " 'C99P60ThinF_IMG_20150918_141001_cell_60.png',\n",
              " 'C96P57ThinF_IMG_20150824_112442_cell_88.png',\n",
              " 'C96P57ThinF_IMG_20150824_112442_cell_18.png',\n",
              " 'C96P57ThinF_IMG_20150824_112132_cell_187.png',\n",
              " 'C96P57ThinF_IMG_20150824_111748_cell_61.png',\n",
              " 'C96P57ThinF_IMG_20150824_110812_cell_18.png',\n",
              " 'C97P58ThinF_IMG_20150917_152032_cell_104.png',\n",
              " 'C99P60ThinF_IMG_20150918_140900_cell_44.png',\n",
              " 'C96P57ThinF_IMG_20150824_105213_cell_95.png',\n",
              " 'C98P59ThinF_IMG_20150917_153801_cell_178.png',\n",
              " 'C98P59ThinF_IMG_20150917_153801_cell_58.png',\n",
              " 'C99P60ThinF_IMG_20150918_141351_cell_92.png',\n",
              " 'C99P60ThinF_IMG_20150918_141001_cell_89.png',\n",
              " 'C96P57ThinF_IMG_20150824_105531_cell_34.png',\n",
              " 'C97P58ThinF_IMG_20150917_151551_cell_56.png',\n",
              " 'C99P60ThinF_IMG_20150918_141314_cell_79.png',\n",
              " 'C97P58ThinF_IMG_20150917_151512_cell_110.png',\n",
              " 'C97P58ThinF_IMG_20150917_151320_cell_102.png',\n",
              " 'C97P58ThinF_IMG_20150917_152032_cell_62.png',\n",
              " 'C99P60ThinF_IMG_20150918_141351_cell_83.png',\n",
              " 'C98P59ThinF_IMG_20150917_153311_cell_27.png',\n",
              " 'C99P60ThinF_IMG_20150918_141520_cell_64.png',\n",
              " 'C99P60ThinF_IMG_20150918_141129_cell_21.png',\n",
              " 'C99P60ThinF_IMG_20150918_141314_cell_65.png',\n",
              " 'C96P57ThinF_IMG_20150824_105445_cell_17.png',\n",
              " 'C96P57ThinF_IMG_20150824_112442_cell_22.png',\n",
              " 'C97P58ThinF_IMG_20150917_151320_cell_51.png',\n",
              " 'C99P60ThinF_IMG_20150918_141520_cell_16.png',\n",
              " 'C99P60ThinF_IMG_20150918_141129_cell_38.png',\n",
              " 'C97P58ThinF_IMG_20150917_145555_cell_157.png',\n",
              " 'C97P58ThinF_IMG_20150917_145555_cell_103.png',\n",
              " 'C97P58ThinF_IMG_20150917_150838_cell_82.png',\n",
              " 'C98P59ThinF_IMG_20150917_153030_cell_95.png',\n",
              " 'C96P57ThinF_IMG_20150824_112442_cell_163.png',\n",
              " 'C96P57ThinF_IMG_20150824_110812_cell_177.png',\n",
              " 'C99P60ThinF_IMG_20150918_140900_cell_41.png',\n",
              " 'C99P60ThinF_IMG_20150918_142128_cell_53.png',\n",
              " 'C97P58ThinF_IMG_20150917_145555_cell_88.png',\n",
              " 'C99P60ThinF_IMG_20150918_141129_cell_84.png',\n",
              " 'C97P58ThinF_IMG_20150917_152032_cell_128.png',\n",
              " 'C97P58ThinF_IMG_20150917_151551_cell_142.png',\n",
              " 'C96P57ThinF_IMG_20150824_105531_cell_55.png',\n",
              " 'C98P59ThinF_IMG_20150917_153938_cell_100.png',\n",
              " 'C97P58ThinF_IMG_20150917_151512_cell_16.png',\n",
              " 'C96P57ThinF_IMG_20150824_112442_cell_9.png',\n",
              " 'C97P58ThinF_IMG_20150917_150838_cell_47.png',\n",
              " 'C96P57ThinF_IMG_20150824_111748_cell_69.png',\n",
              " 'C98P59ThinF_IMG_20150917_154452_cell_108.png',\n",
              " 'C98P59ThinF_IMG_20150917_154452_cell_99.png',\n",
              " 'C97P58ThinF_IMG_20150917_145555_cell_74.png',\n",
              " 'C98P59ThinF_IMG_20150917_153938_cell_26.png',\n",
              " 'C96P57ThinF_IMG_20150824_105445_cell_29.png',\n",
              " 'C99P60ThinF_IMG_20150918_141001_cell_50.png',\n",
              " 'C99P60ThinF_IMG_20150918_142128_cell_14.png',\n",
              " 'C99P60ThinF_IMG_20150918_141001_cell_66.png',\n",
              " 'C96P57ThinF_IMG_20150824_110812_cell_97.png',\n",
              " 'C96P57ThinF_IMG_20150824_112442_cell_156.png',\n",
              " 'C98P59ThinF_IMG_20150917_153030_cell_74.png',\n",
              " 'C97P58ThinF_IMG_20150917_151512_cell_26.png',\n",
              " 'C99P60ThinF_IMG_20150918_141001_cell_24.png',\n",
              " 'C99P60ThinF_IMG_20150918_141520_cell_1.png',\n",
              " 'C99P60ThinF_IMG_20150918_141314_cell_31.png',\n",
              " 'C96P57ThinF_IMG_20150824_105531_cell_32.png',\n",
              " 'C98P59ThinF_IMG_20150917_154452_cell_19.png',\n",
              " 'C98P59ThinF_IMG_20150917_153311_cell_61.png',\n",
              " 'C98P59ThinF_IMG_20150917_154452_cell_70.png',\n",
              " 'C98P59ThinF_IMG_20150917_153938_cell_170.png',\n",
              " 'C98P59ThinF_IMG_20150917_154235_cell_143.png',\n",
              " 'C96P57ThinF_IMG_20150824_112442_cell_160.png',\n",
              " 'C98P59ThinF_IMG_20150917_153030_cell_136.png',\n",
              " 'C97P58ThinF_IMG_20150917_151551_cell_57.png',\n",
              " 'C99P60ThinF_IMG_20150918_140900_cell_59.png',\n",
              " 'C97P58ThinF_IMG_20150917_151437_cell_77.png',\n",
              " 'C97P58ThinF_IMG_20150917_151320_cell_142.png',\n",
              " 'C96P57ThinF_IMG_20150824_110812_cell_39.png',\n",
              " 'C98P59ThinF_IMG_20150917_153311_cell_143.png',\n",
              " 'C97P58ThinF_IMG_20150917_145555_cell_40.png',\n",
              " 'C99P60ThinF_IMG_20150918_141314_cell_77.png',\n",
              " 'C96P57ThinF_IMG_20150824_105445_cell_45.png',\n",
              " 'C97P58ThinF_IMG_20150917_151551_cell_99.png',\n",
              " 'C96P57ThinF_IMG_20150824_110812_cell_5.png',\n",
              " 'C99P60ThinF_IMG_20150918_141520_cell_42.png',\n",
              " 'C98P59ThinF_IMG_20150917_153030_cell_8.png',\n",
              " 'C97P58ThinF_IMG_20150917_151437_cell_67.png',\n",
              " 'C99P60ThinF_IMG_20150918_140900_cell_24.png',\n",
              " 'C97P58ThinF_IMG_20150917_150838_cell_57.png',\n",
              " 'C99P60ThinF_IMG_20150918_142128_cell_45.png',\n",
              " 'C97P58ThinF_IMG_20150917_151320_cell_11.png',\n",
              " 'C96P57ThinF_IMG_20150824_112132_cell_161.png',\n",
              " 'C99P60ThinF_IMG_20150918_141001_cell_4.png',\n",
              " 'C99P60ThinF_IMG_20150918_141351_cell_53.png',\n",
              " 'C96P57ThinF_IMG_20150824_111748_cell_92.png',\n",
              " 'C98P59ThinF_IMG_20150917_153600_cell_130.png',\n",
              " 'C99P60ThinF_IMG_20150918_141001_cell_26.png',\n",
              " 'C98P59ThinF_IMG_20150917_153600_cell_83.png',\n",
              " 'C98P59ThinF_IMG_20150917_153801_cell_83.png',\n",
              " 'C99P60ThinF_IMG_20150918_141129_cell_20.png',\n",
              " 'C98P59ThinF_IMG_20150917_154235_cell_128.png',\n",
              " 'C97P58ThinF_IMG_20150917_151551_cell_47.png',\n",
              " 'C96P57ThinF_IMG_20150824_105445_cell_60.png',\n",
              " 'C96P57ThinF_IMG_20150824_112442_cell_43.png',\n",
              " 'C97P58ThinF_IMG_20150917_150838_cell_108.png',\n",
              " 'C98P59ThinF_IMG_20150917_154235_cell_171.png',\n",
              " 'C96P57ThinF_IMG_20150824_111748_cell_166.png',\n",
              " 'C97P58ThinF_IMG_20150917_150838_cell_118.png',\n",
              " 'C96P57ThinF_IMG_20150824_112132_cell_117.png',\n",
              " 'C98P59ThinF_IMG_20150917_153600_cell_184.png',\n",
              " 'C98P59ThinF_IMG_20150917_153600_cell_125.png',\n",
              " 'C96P57ThinF_IMG_20150824_105531_cell_101.png',\n",
              " 'C97P58ThinF_IMG_20150917_150838_cell_145.png',\n",
              " 'C97P58ThinF_IMG_20150917_151512_cell_134.png',\n",
              " 'C98P59ThinF_IMG_20150917_153938_cell_117.png',\n",
              " 'C96P57ThinF_IMG_20150824_111748_cell_165.png',\n",
              " 'C98P59ThinF_IMG_20150917_153311_cell_149.png',\n",
              " 'C96P57ThinF_IMG_20150824_105445_cell_154.png',\n",
              " 'C99P60ThinF_IMG_20150918_141314_cell_57.png',\n",
              " 'C96P57ThinF_IMG_20150824_105531_cell_207.png',\n",
              " 'C96P57ThinF_IMG_20150824_112132_cell_25.png',\n",
              " 'C97P58ThinF_IMG_20150917_145555_cell_149.png',\n",
              " 'C99P60ThinF_IMG_20150918_141314_cell_46.png',\n",
              " 'C97P58ThinF_IMG_20150917_150838_cell_13.png',\n",
              " 'C99P60ThinF_IMG_20150918_142128_cell_47.png',\n",
              " 'C98P59ThinF_IMG_20150917_153600_cell_160.png',\n",
              " 'C97P58ThinF_IMG_20150917_151551_cell_2.png',\n",
              " 'C98P59ThinF_IMG_20150917_153801_cell_79.png',\n",
              " 'C99P60ThinF_IMG_20150918_140900_cell_6.png',\n",
              " 'C96P57ThinF_IMG_20150824_112132_cell_74.png',\n",
              " 'C99P60ThinF_IMG_20150918_141520_cell_22.png',\n",
              " 'C99P60ThinF_IMG_20150918_141520_cell_45.png',\n",
              " 'C98P59ThinF_IMG_20150917_154235_cell_86.png',\n",
              " 'C99P60ThinF_IMG_20150918_142128_cell_15.png',\n",
              " 'C97P58ThinF_IMG_20150917_152032_cell_44.png',\n",
              " 'C96P57ThinF_IMG_20150824_105531_cell_172.png',\n",
              " 'C98P59ThinF_IMG_20150917_153311_cell_73.png',\n",
              " 'C99P60ThinF_IMG_20150918_141129_cell_77.png',\n",
              " 'C97P58ThinF_IMG_20150917_151320_cell_26.png',\n",
              " 'C97P58ThinF_IMG_20150917_151512_cell_112.png',\n",
              " 'C96P57ThinF_IMG_20150824_110812_cell_25.png',\n",
              " 'C98P59ThinF_IMG_20150917_153311_cell_32.png',\n",
              " 'C98P59ThinF_IMG_20150917_153801_cell_141.png',\n",
              " 'C99P60ThinF_IMG_20150918_141129_cell_15.png',\n",
              " 'C97P58ThinF_IMG_20150917_151437_cell_113.png',\n",
              " 'C98P59ThinF_IMG_20150917_153938_cell_10.png',\n",
              " 'C98P59ThinF_IMG_20150917_154452_cell_44.png',\n",
              " 'C98P59ThinF_IMG_20150917_153030_cell_28.png',\n",
              " 'C97P58ThinF_IMG_20150917_151437_cell_63.png',\n",
              " 'Thumbs.db',\n",
              " 'C97P58ThinF_IMG_20150917_151551_cell_105.png',\n",
              " 'C99P60ThinF_IMG_20150918_142128_cell_3.png',\n",
              " 'C99P60ThinF_IMG_20150918_140900_cell_52.png',\n",
              " 'C96P57ThinF_IMG_20150824_111748_cell_47.png',\n",
              " 'C99P60ThinF_IMG_20150918_141351_cell_26.png',\n",
              " 'C96P57ThinF_IMG_20150824_105445_cell_63.png',\n",
              " 'C96P57ThinF_IMG_20150824_105445_cell_139.png',\n",
              " 'C99P60ThinF_IMG_20150918_142128_cell_11.png',\n",
              " 'C98P59ThinF_IMG_20150917_153311_cell_118.png',\n",
              " 'C97P58ThinF_IMG_20150917_152032_cell_143.png',\n",
              " 'C98P59ThinF_IMG_20150917_153311_cell_16.png',\n",
              " 'C96P57ThinF_IMG_20150824_112442_cell_180.png',\n",
              " 'C82P43ThinF_IMG_20150817_123824_cell_167.png',\n",
              " 'C74P35_ThinF_IMG_20150815_114819_cell_24.png',\n",
              " 'C81P42ThinF_IMG_20150817_120524_cell_72.png',\n",
              " 'C92P53ThinF_IMG_20150821_150718_cell_176.png',\n",
              " 'C89P50ThinF_IMG_20150820_162300_cell_154.png',\n",
              " 'C7NthinF_IMG_20150611_104753_cell_110.png',\n",
              " 'C75P36_ThinF_IMG_20150815_163707_cell_103.png',\n",
              " 'C75P36_ThinF_IMG_20150815_162935_cell_82.png',\n",
              " 'C90P51ThinF_IMG_20150821_115846_cell_196.png',\n",
              " 'C93P54ThinF_IMG_20150821_163452_cell_55.png',\n",
              " 'C86P47ThinF_IMG_20150820_124259_cell_94.png',\n",
              " 'C81P42ThinF_IMG_20150817_121113_cell_34.png',\n",
              " 'C82P43ThinF_IMG_20150817_123652_cell_99.png',\n",
              " 'C95P56ThinF_IMG_20150821_171631_cell_72.png',\n",
              " 'C80P41ThinF_IMG_20150817_110957_cell_87.png',\n",
              " 'C75P36_ThinF_IMG_20150815_163147_cell_47.png',\n",
              " 'C81P42ThinF_IMG_20150817_120351_cell_84.png',\n",
              " 'C88P49ThinF_IMG_20150820_152521_cell_171.png',\n",
              " 'C81P42ThinF_IMG_20150817_120524_cell_6.png',\n",
              " 'C81P42ThinF_IMG_20150817_120856_cell_78.png',\n",
              " 'C87P48ThinF_IMG_20150820_141913_cell_150.png',\n",
              " 'C85P46ThinF_IMG_20150820_105748_cell_231.png',\n",
              " 'C79P40ThinF_IMG_20150817_104919_cell_88.png',\n",
              " 'C94P55ThinF_IMG_20150821_170021_cell_112.png',\n",
              " 'C80P41ThinF_IMG_20150817_111544_cell_26.png',\n",
              " 'C80P41ThinF_IMG_20150817_110834_cell_42.png',\n",
              " 'C72P33_ThinF_IMG_20150815_104843_cell_187.png',\n",
              " 'C84P45ThinF_IMG_20150818_101550_cell_7.png',\n",
              " 'C71P32_ThinF_IMG_20150813_163120_cell_187.png',\n",
              " 'C93P54ThinF_IMG_20150821_163815_cell_183.png',\n",
              " 'C72P33_ThinF_IMG_20150815_104923_cell_94.png',\n",
              " 'C75P36_ThinF_IMG_20150815_162935_cell_9.png',\n",
              " 'C79P40ThinF_IMG_20150817_104919_cell_50.png',\n",
              " 'C73P34_ThinF_IMG_20150815_111114_cell_203.png',\n",
              " 'C93P54ThinF_IMG_20150821_162641_cell_198.png',\n",
              " 'C80P41ThinF_IMG_20150817_111246_cell_25.png',\n",
              " 'C7NthinF_IMG_20150611_105444_cell_179.png',\n",
              " 'C77P38ThinF_IMG_20150601_155125_cell_1.png',\n",
              " 'C89P50ThinF_IMG_20150820_162300_cell_1.png',\n",
              " 'C88P49ThinF_IMG_20150820_151451_cell_46.png',\n",
              " 'C74P35_ThinF_IMG_20150815_120957_cell_22.png',\n",
              " 'C81P42ThinF_IMG_20150817_120524_cell_29.png',\n",
              " 'C81P42ThinF_IMG_20150817_120351_cell_177.png',\n",
              " 'C95P56ThinF_IMG_20150821_171603_cell_46.png',\n",
              " 'C89P50ThinF_IMG_20150820_163347_cell_80.png',\n",
              " 'C83P44ThinF_IMG_20150817_133355_cell_127.png',\n",
              " 'C80P41ThinF_IMG_20150817_110834_cell_108.png',\n",
              " 'C91P52ThinF_IMG_20150821_123314_cell_42.png',\n",
              " 'C84P45ThinF_IMG_20150818_101056_cell_22.png',\n",
              " 'C78P39ThinF_IMG_20150606_104936_cell_147.png',\n",
              " 'C90P51ThinF_IMG_20150821_115310_cell_158.png',\n",
              " 'C95P56ThinF_IMG_20150821_171530_cell_34.png',\n",
              " 'C88P49ThinF_IMG_20150820_151451_cell_170.png',\n",
              " 'C76P37ThinF_IMG_20150815_172808_cell_148.png',\n",
              " 'C83P44ThinF_IMG_20150817_133355_cell_169.png',\n",
              " 'C82P43ThinF_IMG_20150817_124010_cell_123.png',\n",
              " 'C76P37ThinF_IMG_20150815_171454_cell_117.png',\n",
              " 'C90P51ThinF_IMG_20150821_115056_cell_202.png',\n",
              " 'C82P43ThinF_IMG_20150817_124418_cell_31.png',\n",
              " 'C86P47ThinF_IMG_20150820_124259_cell_194.png',\n",
              " 'C73P34_ThinF_IMG_20150815_111422_cell_15.png',\n",
              " 'C82P43ThinF_IMG_20150817_123824_cell_69.png',\n",
              " 'C89P50ThinF_IMG_20150820_162813_cell_118.png',\n",
              " 'C92P53ThinF_IMG_20150821_151646_cell_41.png',\n",
              " 'C74P35_ThinF_IMG_20150815_120712_cell_33.png',\n",
              " 'C73P34_ThinF_IMG_20150815_111114_cell_199.png',\n",
              " 'C91P52ThinF_IMG_20150821_123116_cell_116.png',\n",
              " 'C72P33_ThinF_IMG_20150815_105033_cell_151.png',\n",
              " 'C79P40ThinF_IMG_20150817_103139_cell_43.png',\n",
              " 'C84P45ThinF_IMG_20150818_101257_cell_9.png',\n",
              " 'C70P31_ThinF_IMG_20150819_141730_cell_90.png',\n",
              " 'C94P55ThinF_IMG_20150821_165519_cell_245.png',\n",
              " 'C72P33_ThinF_IMG_20150815_104923_cell_166.png',\n",
              " 'C79P40ThinF_IMG_20150817_103901_cell_45.png',\n",
              " 'C94P55ThinF_IMG_20150821_170249_cell_187.png',\n",
              " 'C77P38ThinF_IMG_20150602_143650_cell_37.png',\n",
              " 'C79P40ThinF_IMG_20150817_102702_cell_127.png',\n",
              " 'C77P38ThinF_IMG_20150602_143524_cell_49.png',\n",
              " 'C79P40ThinF_IMG_20150817_102823_cell_81.png',\n",
              " 'C81P42ThinF_IMG_20150817_121113_cell_80.png',\n",
              " 'C77P38ThinF_IMG_20150602_112011_cell_38.png',\n",
              " 'C79P40ThinF_IMG_20150817_103303_cell_88.png',\n",
              " 'C84P45ThinF_IMG_20150818_101412_cell_32.png',\n",
              " 'C77P38ThinF_IMG_20150602_142303_cell_63.png',\n",
              " 'C76P37ThinF_IMG_20150815_173019_cell_220.png',\n",
              " 'C75P36_ThinF_IMG_20150815_163742_cell_111.png',\n",
              " 'C80P41ThinF_IMG_20150817_110348_cell_66.png',\n",
              " 'C93P54ThinF_IMG_20150821_163815_cell_136.png',\n",
              " 'C81P42ThinF_IMG_20150817_115942_cell_120.png',\n",
              " 'C75P36_ThinF_IMG_20150815_163225_cell_126.png',\n",
              " 'C83P44ThinF_IMG_20150817_134820_cell_100.png',\n",
              " 'C86P47ThinF_IMG_20150820_124259_cell_73.png',\n",
              " 'C76P37ThinF_IMG_20150815_171214_cell_129.png',\n",
              " 'C89P50ThinF_IMG_20150820_163347_cell_189.png',\n",
              " 'C85P46ThinF_IMG_20150820_105748_cell_159.png',\n",
              " 'C90P51ThinF_IMG_20150821_115700_cell_243.png',\n",
              " 'C95P56ThinF_IMG_20150821_172607_cell_82.png',\n",
              " 'C80P41ThinF_IMG_20150817_110608_cell_62.png',\n",
              " 'C91P52ThinF_IMG_20150821_124937_cell_151.png',\n",
              " 'C84P45ThinF_IMG_20150818_101550_cell_60.png',\n",
              " 'C71P32_ThinF_IMG_20150813_163120_cell_43.png',\n",
              " 'C75P36_ThinF_IMG_20150815_163742_cell_79.png',\n",
              " 'C7NthinF_IMG_20150611_105043_cell_125.png',\n",
              " 'C71P32_ThinF_IMG_20150813_163120_cell_159.png',\n",
              " 'C85P46ThinF_IMG_20150820_105154_cell_174.png',\n",
              " 'C92P53ThinF_IMG_20150821_150457_cell_126.png',\n",
              " 'C89P50ThinF_IMG_20150820_162153_cell_73.png',\n",
              " 'C95P56ThinF_IMG_20150821_171242_cell_62.png',\n",
              " 'C85P46ThinF_IMG_20150820_110040_cell_222.png',\n",
              " 'C77P38ThinF_IMG_20150602_112011_cell_81.png',\n",
              " 'C71P32_ThinF_IMG_20150813_162146_cell_61.png',\n",
              " 'C91P52ThinF_IMG_20150821_125154_cell_101.png',\n",
              " 'C80P41ThinF_IMG_20150817_110608_cell_138.png',\n",
              " 'C92P53ThinF_IMG_20150821_151722_cell_37.png',\n",
              " 'C73P34_ThinF_IMG_20150815_111114_cell_25.png',\n",
              " 'C86P47ThinF_IMG_20150820_124025_cell_116.png',\n",
              " 'C80P41ThinF_IMG_20150817_111121_cell_83.png',\n",
              " 'C94P55ThinF_IMG_20150821_170021_cell_152.png',\n",
              " 'C70P31_ThinF_IMG_20150813_131609_cell_4.png',\n",
              " 'C79P40ThinF_IMG_20150817_104745_cell_111.png',\n",
              " 'C86P47ThinF_IMG_20150820_123717_cell_63.png',\n",
              " 'C77P38ThinF_IMG_20150602_142303_cell_18.png',\n",
              " 'C87P48ThinF_IMG_20150820_144714_cell_24.png',\n",
              " 'C92P53ThinF_IMG_20150821_151646_cell_32.png',\n",
              " 'C71P32_ThinF_IMG_20150813_162146_cell_43.png',\n",
              " 'C80P41ThinF_IMG_20150817_110834_cell_23.png',\n",
              " 'C81P42ThinF_IMG_20150817_120712_cell_20.png',\n",
              " 'C83P44ThinF_IMG_20150817_133454_cell_73.png',\n",
              " 'C72P33_ThinF_IMG_20150815_104307_cell_185.png',\n",
              " 'C90P51ThinF_IMG_20150821_115700_cell_213.png',\n",
              " 'C84P45ThinF_IMG_20150818_101412_cell_6.png',\n",
              " 'C83P44ThinF_IMG_20150817_133218_cell_118.png',\n",
              " 'C76P37ThinF_IMG_20150815_171454_cell_209.png',\n",
              " 'C93P54ThinF_IMG_20150821_163640_cell_39.png',\n",
              " 'C88P49ThinF_IMG_20150820_151626_cell_160.png',\n",
              " 'C92P53ThinF_IMG_20150821_150457_cell_97.png',\n",
              " 'C78P39ThinF_IMG_20150606_103459_cell_95.png',\n",
              " 'C76P37ThinF_IMG_20150815_171454_cell_2.png',\n",
              " 'C77P38ThinF_IMG_20150602_143524_cell_78.png',\n",
              " 'C79P40ThinF_IMG_20150817_102823_cell_1.png',\n",
              " 'C74P35_ThinF_IMG_20150815_114401_cell_110.png',\n",
              " 'C90P51ThinF_IMG_20150821_115846_cell_195.png',\n",
              " 'C71P32_ThinF_IMG_20150813_162016_cell_193.png',\n",
              " 'C90P51ThinF_IMG_20150821_115700_cell_98.png',\n",
              " 'C94P55ThinF_IMG_20150821_170403_cell_119.png',\n",
              " 'C82P43ThinF_IMG_20150817_124418_cell_48.png',\n",
              " 'C78P39ThinF_IMG_20150606_104106_cell_105.png',\n",
              " 'C91P52ThinF_IMG_20150821_123116_cell_159.png',\n",
              " 'C77P38ThinF_IMG_20150601_152941_cell_113.png',\n",
              " 'C86P47ThinF_IMG_20150820_124943_cell_207.png',\n",
              " 'C73P34_ThinF_IMG_20150815_111653_cell_166.png',\n",
              " 'C77P38ThinF_IMG_20150602_143524_cell_42.png',\n",
              " 'C70P31_ThinF_IMG_20150819_142744_cell_22.png',\n",
              " 'C7NthinF_IMG_20150611_104609_cell_2.png',\n",
              " 'C95P56ThinF_IMG_20150821_171751_cell_36.png',\n",
              " 'C70P31_ThinF_IMG_20150819_141403_cell_82.png',\n",
              " 'C92P53ThinF_IMG_20150821_151722_cell_116.png',\n",
              " 'C74P35_ThinF_IMG_20150815_121324_cell_104.png',\n",
              " 'C78P39ThinF_IMG_20150606_103413_cell_98.png',\n",
              " 'C74P35_ThinF_IMG_20150815_113951_cell_45.png',\n",
              " 'C7NthinF_IMG_20150611_104824_cell_57.png',\n",
              " 'C76P37ThinF_IMG_20150815_171214_cell_103.png',\n",
              " 'C70P31_ThinF_IMG_20150819_141730_cell_65.png',\n",
              " 'C70P31_ThinF_IMG_20150819_141327_cell_63.png',\n",
              " 'C92P53ThinF_IMG_20150821_151646_cell_3.png',\n",
              " 'C83P44ThinF_IMG_20150817_134331_cell_103.png',\n",
              " 'C71P32_ThinF_IMG_20150813_162016_cell_72.png',\n",
              " 'C76P37ThinF_IMG_20150815_173019_cell_195.png',\n",
              " 'C93P54ThinF_IMG_20150821_163815_cell_170.png',\n",
              " 'C85P46ThinF_IMG_20150820_105748_cell_5.png',\n",
              " 'C72P33_ThinF_IMG_20150815_105033_cell_39.png',\n",
              " 'C7NthinF_IMG_20150611_104510_cell_39.png',\n",
              " 'C82P43ThinF_IMG_20150817_124418_cell_138.png',\n",
              " 'C79P40ThinF_IMG_20150817_102823_cell_7.png',\n",
              " 'C78P39ThinF_IMG_20150606_104426_cell_107.png',\n",
              " 'C85P46ThinF_IMG_20150820_105154_cell_187.png',\n",
              " 'C74P35_ThinF_IMG_20150815_120957_cell_112.png',\n",
              " 'C78P39ThinF_IMG_20150606_104936_cell_16.png',\n",
              " 'C87P48ThinF_IMG_20150820_144714_cell_195.png',\n",
              " 'C80P41ThinF_IMG_20150817_110348_cell_88.png',\n",
              " 'C94P55ThinF_IMG_20150821_165118_cell_68.png',\n",
              " 'C74P35_ThinF_IMG_20150815_114401_cell_35.png',\n",
              " 'C73P34_ThinF_IMG_20150815_111501_cell_106.png',\n",
              " 'C84P45ThinF_IMG_20150818_102654_cell_21.png',\n",
              " 'C76P37ThinF_IMG_20150815_172902_cell_62.png',\n",
              " 'C92P53ThinF_IMG_20150821_150457_cell_142.png',\n",
              " 'C90P51ThinF_IMG_20150821_115056_cell_209.png',\n",
              " 'C74P35_ThinF_IMG_20150815_113951_cell_85.png',\n",
              " 'C88P49ThinF_IMG_20150820_153042_cell_155.png',\n",
              " 'C7NthinF_IMG_20150611_105043_cell_132.png',\n",
              " 'C95P56ThinF_IMG_20150821_171242_cell_28.png',\n",
              " 'C89P50ThinF_IMG_20150820_162153_cell_110.png',\n",
              " 'C73P34_ThinF_IMG_20150815_111501_cell_19.png',\n",
              " 'C85P46ThinF_IMG_20150820_105301_cell_34.png',\n",
              " 'C87P48ThinF_IMG_20150820_132514_cell_94.png',\n",
              " 'C89P50ThinF_IMG_20150820_162504_cell_53.png',\n",
              " 'C86P47ThinF_IMG_20150820_125057_cell_169.png',\n",
              " 'C95P56ThinF_IMG_20150821_172351_cell_96.png',\n",
              " 'C94P55ThinF_IMG_20150821_170249_cell_211.png',\n",
              " 'C85P46ThinF_IMG_20150820_105748_cell_92.png',\n",
              " 'C74P35_ThinF_IMG_20150815_114401_cell_85.png',\n",
              " 'C90P51ThinF_IMG_20150821_115846_cell_43.png',\n",
              " 'C89P50ThinF_IMG_20150820_162504_cell_59.png',\n",
              " 'C7NthinF_IMG_20150611_104404_cell_37.png',\n",
              " 'C89P50ThinF_IMG_20150820_162504_cell_67.png',\n",
              " 'C71P32_ThinF_IMG_20150813_162146_cell_188.png',\n",
              " 'C81P42ThinF_IMG_20150817_120712_cell_57.png',\n",
              " 'C7NthinF_IMG_20150611_104824_cell_145.png',\n",
              " 'C85P46ThinF_IMG_20150820_110040_cell_41.png',\n",
              " 'C93P54ThinF_IMG_20150821_164024_cell_105.png',\n",
              " 'C78P39ThinF_IMG_20150606_104936_cell_108.png',\n",
              " 'C79P40ThinF_IMG_20150817_104316_cell_55.png',\n",
              " 'C79P40ThinF_IMG_20150817_103139_cell_86.png',\n",
              " 'C73P34_ThinF_IMG_20150815_111302_cell_19.png',\n",
              " 'C81P42ThinF_IMG_20150817_120524_cell_146.png',\n",
              " 'C86P47ThinF_IMG_20150820_124025_cell_71.png',\n",
              " 'C92P53ThinF_IMG_20150821_150718_cell_72.png',\n",
              " 'C94P55ThinF_IMG_20150821_165519_cell_157.png',\n",
              " 'C72P33_ThinF_IMG_20150815_104307_cell_182.png',\n",
              " 'C79P40ThinF_IMG_20150817_104316_cell_53.png',\n",
              " 'C70P31_ThinF_IMG_20150819_142744_cell_48.png',\n",
              " 'C75P36_ThinF_IMG_20150815_163059_cell_116.png',\n",
              " 'C75P36_ThinF_IMG_20150815_163059_cell_66.png',\n",
              " 'C79P40ThinF_IMG_20150817_103901_cell_35.png',\n",
              " 'C7NthinF_IMG_20150611_104824_cell_61.png',\n",
              " 'C81P42ThinF_IMG_20150817_115942_cell_160.png',\n",
              " 'C73P34_ThinF_IMG_20150815_111501_cell_34.png',\n",
              " 'C81P42ThinF_IMG_20150817_115942_cell_155.png',\n",
              " 'C80P41ThinF_IMG_20150817_111121_cell_92.png',\n",
              " 'C91P52ThinF_IMG_20150821_124504_cell_147.png',\n",
              " 'C72P33_ThinF_IMG_20150815_104843_cell_173.png',\n",
              " 'C77P38ThinF_IMG_20150601_155125_cell_18.png',\n",
              " 'C80P41ThinF_IMG_20150817_110834_cell_48.png',\n",
              " 'C83P44ThinF_IMG_20150817_140045_cell_74.png',\n",
              " 'C90P51ThinF_IMG_20150821_115310_cell_10.png',\n",
              " 'C76P37ThinF_IMG_20150815_171454_cell_112.png',\n",
              " 'C78P39ThinF_IMG_20150606_103630_cell_55.png',\n",
              " 'C84P45ThinF_IMG_20150818_104156_cell_76.png',\n",
              " 'C94P55ThinF_IMG_20150821_165118_cell_95.png',\n",
              " 'C83P44ThinF_IMG_20150817_140045_cell_139.png',\n",
              " 'C83P44ThinF_IMG_20150817_134331_cell_39.png',\n",
              " 'C73P34_ThinF_IMG_20150815_111422_cell_134.png',\n",
              " 'C91P52ThinF_IMG_20150821_124937_cell_117.png',\n",
              " 'C91P52ThinF_IMG_20150821_123116_cell_78.png',\n",
              " 'C79P40ThinF_IMG_20150817_103901_cell_49.png',\n",
              " 'C76P37ThinF_IMG_20150815_165356_cell_168.png',\n",
              " 'C88P49ThinF_IMG_20150820_151451_cell_56.png',\n",
              " 'C82P43ThinF_IMG_20150817_123824_cell_107.png',\n",
              " 'C90P51ThinF_IMG_20150821_115846_cell_21.png',\n",
              " 'C7NthinF_IMG_20150611_104609_cell_81.png',\n",
              " 'C70P31_ThinF_IMG_20150813_130510_cell_8.png',\n",
              " 'C77P38ThinF_IMG_20150602_112011_cell_76.png',\n",
              " 'C87P48ThinF_IMG_20150820_144855_cell_181.png',\n",
              " 'C95P56ThinF_IMG_20150821_172222_cell_64.png',\n",
              " 'C83P44ThinF_IMG_20150817_133609_cell_68.png',\n",
              " 'C93P54ThinF_IMG_20150821_163640_cell_9.png',\n",
              " 'C78P39ThinF_IMG_20150606_103459_cell_110.png',\n",
              " 'C90P51ThinF_IMG_20150821_115310_cell_22.png',\n",
              " 'C84P45ThinF_IMG_20150818_101146_cell_24.png',\n",
              " 'C78P39ThinF_IMG_20150606_103413_cell_82.png',\n",
              " 'C88P49ThinF_IMG_20150820_151451_cell_150.png',\n",
              " 'C86P47ThinF_IMG_20150820_124943_cell_168.png',\n",
              " 'C87P48ThinF_IMG_20150820_132327_cell_31.png',\n",
              " 'C93P54ThinF_IMG_20150821_163640_cell_155.png',\n",
              " 'C83P44ThinF_IMG_20150817_133454_cell_86.png',\n",
              " 'C78P39ThinF_IMG_20150606_104106_cell_94.png',\n",
              " 'C77P38ThinF_IMG_20150602_111510_cell_99.png',\n",
              " 'C89P50ThinF_IMG_20150820_162300_cell_127.png',\n",
              " 'C88P49ThinF_IMG_20150820_150724_cell_62.png',\n",
              " 'C73P34_ThinF_IMG_20150815_112246_cell_49.png',\n",
              " 'C91P52ThinF_IMG_20150821_123116_cell_148.png',\n",
              " 'C70P31_ThinF_IMG_20150819_141327_cell_65.png',\n",
              " 'C86P47ThinF_IMG_20150820_123717_cell_6.png',\n",
              " 'C7NthinF_IMG_20150611_104510_cell_54.png',\n",
              " 'C72P33_ThinF_IMG_20150815_104307_cell_135.png',\n",
              " 'C72P33_ThinF_IMG_20150815_104923_cell_199.png',\n",
              " 'C87P48ThinF_IMG_20150820_132327_cell_5.png',\n",
              " 'C77P38ThinF_IMG_20150601_155642_cell_65.png',\n",
              " 'C7NthinF_IMG_20150611_104753_cell_163.png',\n",
              " 'C76P37ThinF_IMG_20150815_165356_cell_81.png',\n",
              " 'C82P43ThinF_IMG_20150817_124010_cell_55.png',\n",
              " 'C80P41ThinF_IMG_20150817_110608_cell_120.png',\n",
              " 'C93P54ThinF_IMG_20150821_163452_cell_60.png',\n",
              " 'C86P47ThinF_IMG_20150820_124943_cell_51.png',\n",
              " 'C71P32_ThinF_IMG_20150813_162146_cell_95.png',\n",
              " 'C86P47ThinF_IMG_20150820_124259_cell_124.png',\n",
              " 'C88P49ThinF_IMG_20150820_150724_cell_97.png',\n",
              " 'C79P40ThinF_IMG_20150817_104919_cell_51.png',\n",
              " 'C78P39ThinF_IMG_20150606_103630_cell_127.png',\n",
              " 'C71P32_ThinF_IMG_20150813_163655_cell_58.png',\n",
              " 'C89P50ThinF_IMG_20150820_162504_cell_127.png',\n",
              " 'C94P55ThinF_IMG_20150821_165118_cell_262.png',\n",
              " 'C95P56ThinF_IMG_20150821_171701_cell_65.png',\n",
              " 'C93P54ThinF_IMG_20150821_163452_cell_168.png',\n",
              " 'C80P41ThinF_IMG_20150817_110608_cell_14.png',\n",
              " 'C7NthinF_IMG_20150611_105444_cell_77.png',\n",
              " 'C75P36_ThinF_IMG_20150815_163059_cell_131.png',\n",
              " 'C94P55ThinF_IMG_20150821_165118_cell_125.png',\n",
              " 'C72P33_ThinF_IMG_20150815_105033_cell_93.png',\n",
              " 'C79P40ThinF_IMG_20150817_103139_cell_134.png',\n",
              " 'C7NthinF_IMG_20150611_104753_cell_73.png',\n",
              " 'C75P36_ThinF_IMG_20150815_163707_cell_155.png',\n",
              " 'C88P49ThinF_IMG_20150820_151451_cell_89.png',\n",
              " 'C72P33_ThinF_IMG_20150815_104045_cell_135.png',\n",
              " 'C92P53ThinF_IMG_20150821_151722_cell_56.png',\n",
              " 'C70P31_ThinF_IMG_20150819_141327_cell_14.png',\n",
              " 'C76P37ThinF_IMG_20150815_172902_cell_42.png',\n",
              " 'C83P44ThinF_IMG_20150817_140045_cell_130.png',\n",
              " 'C81P42ThinF_IMG_20150817_120524_cell_109.png',\n",
              " 'C7NthinF_IMG_20150611_104510_cell_82.png',\n",
              " 'C81P42ThinF_IMG_20150817_120351_cell_76.png',\n",
              " 'C87P48ThinF_IMG_20150820_144855_cell_83.png',\n",
              " 'C78P39ThinF_IMG_20150606_104936_cell_144.png',\n",
              " 'C87P48ThinF_IMG_20150820_132327_cell_100.png',\n",
              " 'C86P47ThinF_IMG_20150820_125057_cell_149.png',\n",
              " 'C89P50ThinF_IMG_20150820_162504_cell_40.png',\n",
              " 'C80P41ThinF_IMG_20150817_110608_cell_50.png',\n",
              " 'C7NthinF_IMG_20150611_105043_cell_13.png',\n",
              " 'C86P47ThinF_IMG_20150820_125057_cell_212.png',\n",
              " 'C83P44ThinF_IMG_20150817_133609_cell_99.png',\n",
              " 'C7NthinF_IMG_20150611_104824_cell_197.png',\n",
              " 'C82P43ThinF_IMG_20150817_124010_cell_28.png',\n",
              " 'C87P48ThinF_IMG_20150820_132642_cell_94.png',\n",
              " 'C84P45ThinF_IMG_20150818_101257_cell_4.png',\n",
              " 'C91P52ThinF_IMG_20150821_124937_cell_72.png',\n",
              " 'C94P55ThinF_IMG_20150821_170403_cell_96.png',\n",
              " 'C79P40ThinF_IMG_20150817_103139_cell_103.png',\n",
              " 'C86P47ThinF_IMG_20150820_124943_cell_78.png',\n",
              " 'C93P54ThinF_IMG_20150821_164024_cell_96.png',\n",
              " 'C75P36_ThinF_IMG_20150815_163742_cell_17.png',\n",
              " 'C78P39ThinF_IMG_20150606_103413_cell_116.png',\n",
              " 'C83P44ThinF_IMG_20150817_133355_cell_144.png',\n",
              " 'C87P48ThinF_IMG_20150820_132642_cell_150.png',\n",
              " 'C71P32_ThinF_IMG_20150813_163655_cell_62.png',\n",
              " 'C89P50ThinF_IMG_20150820_162300_cell_188.png',\n",
              " 'C70P31_ThinF_IMG_20150813_131022_cell_84.png',\n",
              " 'C88P49ThinF_IMG_20150820_153042_cell_46.png',\n",
              " 'C92P53ThinF_IMG_20150821_150457_cell_225.png',\n",
              " 'C84P45ThinF_IMG_20150818_102325_cell_5.png',\n",
              " 'C75P36_ThinF_IMG_20150815_163225_cell_6.png',\n",
              " 'C89P50ThinF_IMG_20150820_162153_cell_99.png',\n",
              " 'C78P39ThinF_IMG_20150606_103413_cell_157.png',\n",
              " 'C7NthinF_IMG_20150611_104609_cell_80.png',\n",
              " 'C7NthinF_IMG_20150611_104609_cell_59.png',\n",
              " 'C74P35_ThinF_IMG_20150815_114401_cell_15.png',\n",
              " 'C71P32_ThinF_IMG_20150813_162146_cell_120.png',\n",
              " 'C91P52ThinF_IMG_20150821_125154_cell_41.png',\n",
              " 'C85P46ThinF_IMG_20150820_105154_cell_104.png',\n",
              " 'C83P44ThinF_IMG_20150817_133355_cell_1.png',\n",
              " 'C90P51ThinF_IMG_20150821_115846_cell_97.png',\n",
              " 'C91P52ThinF_IMG_20150821_124739_cell_167.png',\n",
              " 'C87P48ThinF_IMG_20150820_144855_cell_143.png',\n",
              " 'C78P39ThinF_IMG_20150606_104936_cell_137.png',\n",
              " 'C72P33_ThinF_IMG_20150815_105823_cell_110.png',\n",
              " 'C71P32_ThinF_IMG_20150813_162554_cell_65.png',\n",
              " 'C75P36_ThinF_IMG_20150815_163015_cell_101.png',\n",
              " 'C84P45ThinF_IMG_20150818_101226_cell_55.png',\n",
              " 'C85P46ThinF_IMG_20150820_110143_cell_49.png',\n",
              " 'C71P32_ThinF_IMG_20150813_163120_cell_70.png',\n",
              " 'C92P53ThinF_IMG_20150821_150457_cell_186.png',\n",
              " 'C87P48ThinF_IMG_20150820_144714_cell_22.png',\n",
              " 'C83P44ThinF_IMG_20150817_133454_cell_71.png',\n",
              " 'C72P33_ThinF_IMG_20150815_104045_cell_50.png',\n",
              " 'C93P54ThinF_IMG_20150821_163815_cell_132.png',\n",
              " 'C95P56ThinF_IMG_20150821_171242_cell_84.png',\n",
              " 'C86P47ThinF_IMG_20150820_124025_cell_153.png',\n",
              " 'C80P41ThinF_IMG_20150817_110834_cell_21.png',\n",
              " 'C80P41ThinF_IMG_20150817_111121_cell_125.png',\n",
              " 'C88P49ThinF_IMG_20150820_151626_cell_60.png',\n",
              " 'C79P40ThinF_IMG_20150817_102823_cell_68.png',\n",
              " 'C81P42ThinF_IMG_20150817_121113_cell_58.png',\n",
              " 'C83P44ThinF_IMG_20150817_133454_cell_22.png',\n",
              " 'C78P39ThinF_IMG_20150606_103413_cell_139.png',\n",
              " 'C95P56ThinF_IMG_20150821_172351_cell_57.png',\n",
              " 'C70P31_ThinF_IMG_20150813_130510_cell_55.png',\n",
              " 'C74P35_ThinF_IMG_20150815_114555_cell_25.png',\n",
              " 'C72P33_ThinF_IMG_20150815_104923_cell_178.png',\n",
              " 'C85P46ThinF_IMG_20150820_110040_cell_233.png',\n",
              " 'C95P56ThinF_IMG_20150821_172351_cell_13.png',\n",
              " 'C75P36_ThinF_IMG_20150815_163225_cell_62.png',\n",
              " 'C70P31_ThinF_IMG_20150813_131022_cell_54.png',\n",
              " 'C72P33_ThinF_IMG_20150815_104045_cell_194.png',\n",
              " 'C75P36_ThinF_IMG_20150815_163707_cell_51.png',\n",
              " 'C85P46ThinF_IMG_20150820_105154_cell_208.png',\n",
              " 'C95P56ThinF_IMG_20150821_172319_cell_98.png',\n",
              " 'C94P55ThinF_IMG_20150821_170403_cell_53.png',\n",
              " 'C94P55ThinF_IMG_20150821_170021_cell_132.png',\n",
              " 'C74P35_ThinF_IMG_20150815_114153_cell_72.png',\n",
              " 'C88P49ThinF_IMG_20150820_150724_cell_190.png',\n",
              " 'C92P53ThinF_IMG_20150821_151646_cell_142.png',\n",
              " 'C79P40ThinF_IMG_20150817_102702_cell_143.png',\n",
              " 'C79P40ThinF_IMG_20150817_103139_cell_49.png',\n",
              " 'C92P53ThinF_IMG_20150821_150718_cell_181.png',\n",
              " 'C77P38ThinF_IMG_20150602_143650_cell_97.png',\n",
              " 'C87P48ThinF_IMG_20150820_132327_cell_7.png',\n",
              " 'C88P49ThinF_IMG_20150820_151451_cell_185.png',\n",
              " 'C89P50ThinF_IMG_20150820_163728_cell_147.png',\n",
              " 'C87P48ThinF_IMG_20150820_132514_cell_179.png',\n",
              " 'C89P50ThinF_IMG_20150820_163728_cell_47.png',\n",
              " 'C76P37ThinF_IMG_20150815_173019_cell_141.png',\n",
              " 'C90P51ThinF_IMG_20150821_115846_cell_1.png',\n",
              " 'C75P36_ThinF_IMG_20150815_163707_cell_33.png',\n",
              " 'C70P31_ThinF_IMG_20150813_131609_cell_64.png',\n",
              " 'C85P46ThinF_IMG_20150820_110143_cell_102.png',\n",
              " 'C84P45ThinF_IMG_20150818_102507_cell_60.png',\n",
              " 'C84P45ThinF_IMG_20150818_101257_cell_47.png',\n",
              " 'C75P36_ThinF_IMG_20150815_163707_cell_131.png',\n",
              " 'C81P42ThinF_IMG_20150817_120856_cell_39.png',\n",
              " 'C95P56ThinF_IMG_20150821_172319_cell_100.png',\n",
              " 'C94P55ThinF_IMG_20150821_170403_cell_104.png',\n",
              " 'C74P35_ThinF_IMG_20150815_114819_cell_85.png',\n",
              " 'C86P47ThinF_IMG_20150820_124259_cell_172.png',\n",
              " 'C79P40ThinF_IMG_20150817_104745_cell_23.png',\n",
              " 'C89P50ThinF_IMG_20150820_163728_cell_112.png',\n",
              " 'C88P49ThinF_IMG_20150820_151626_cell_5.png',\n",
              " 'C77P38ThinF_IMG_20150601_155642_cell_97.png',\n",
              " 'C83P44ThinF_IMG_20150817_133454_cell_28.png',\n",
              " 'C71P32_ThinF_IMG_20150813_163655_cell_117.png',\n",
              " 'C7NthinF_IMG_20150611_104510_cell_63.png',\n",
              " 'C73P34_ThinF_IMG_20150815_112246_cell_12.png',\n",
              " 'C84P45ThinF_IMG_20150818_101412_cell_78.png',\n",
              " 'C91P52ThinF_IMG_20150821_124739_cell_133.png',\n",
              " 'C82P43ThinF_IMG_20150817_123652_cell_2.png',\n",
              " 'C84P45ThinF_IMG_20150818_101226_cell_45.png',\n",
              " 'C73P34_ThinF_IMG_20150815_112246_cell_90.png',\n",
              " 'C81P42ThinF_IMG_20150817_120856_cell_7.png',\n",
              " 'C85P46ThinF_IMG_20150820_110040_cell_99.png',\n",
              " 'C88P49ThinF_IMG_20150820_150141_cell_79.png',\n",
              " 'C71P32_ThinF_IMG_20150813_163655_cell_49.png',\n",
              " 'C87P48ThinF_IMG_20150820_132514_cell_37.png',\n",
              " 'C73P34_ThinF_IMG_20150815_111501_cell_66.png',\n",
              " 'C82P43ThinF_IMG_20150817_124418_cell_121.png',\n",
              " 'C94P55ThinF_IMG_20150821_170021_cell_195.png',\n",
              " 'C87P48ThinF_IMG_20150820_132514_cell_10.png',\n",
              " 'C85P46ThinF_IMG_20150820_110040_cell_173.png',\n",
              " 'C78P39ThinF_IMG_20150606_104936_cell_9.png',\n",
              " 'C82P43ThinF_IMG_20150817_123652_cell_102.png',\n",
              " 'C92P53ThinF_IMG_20150821_151646_cell_39.png',\n",
              " 'C85P46ThinF_IMG_20150820_105301_cell_219.png',\n",
              " 'C75P36_ThinF_IMG_20150815_163147_cell_2.png',\n",
              " 'C74P35_ThinF_IMG_20150815_120957_cell_109.png',\n",
              " 'C94P55ThinF_IMG_20150821_170021_cell_194.png',\n",
              " 'C74P35_ThinF_IMG_20150815_114153_cell_100.png',\n",
              " 'C7NthinF_IMG_20150611_104510_cell_165.png',\n",
              " 'C72P33_ThinF_IMG_20150815_104307_cell_90.png',\n",
              " 'C84P45ThinF_IMG_20150818_101056_cell_24.png',\n",
              " 'C95P56ThinF_IMG_20150821_172351_cell_72.png',\n",
              " 'C80P41ThinF_IMG_20150817_110348_cell_37.png',\n",
              " 'C84P45ThinF_IMG_20150818_101257_cell_43.png',\n",
              " 'C85P46ThinF_IMG_20150820_110040_cell_182.png',\n",
              " 'C75P36_ThinF_IMG_20150815_163059_cell_84.png',\n",
              " 'C86P47ThinF_IMG_20150820_123717_cell_93.png',\n",
              " 'C75P36_ThinF_IMG_20150815_163059_cell_3.png',\n",
              " 'C96P57ThinF_IMG_20150824_105213_cell_193.png',\n",
              " 'C79P40ThinF_IMG_20150817_103901_cell_54.png',\n",
              " 'C92P53ThinF_IMG_20150821_150718_cell_144.png',\n",
              " 'C86P47ThinF_IMG_20150820_124259_cell_119.png',\n",
              " 'C88P49ThinF_IMG_20150820_151626_cell_130.png',\n",
              " 'C79P40ThinF_IMG_20150817_103303_cell_56.png',\n",
              " 'C91P52ThinF_IMG_20150821_124739_cell_49.png',\n",
              " 'C79P40ThinF_IMG_20150817_102702_cell_64.png',\n",
              " 'C70P31_ThinF_IMG_20150813_131330_cell_58.png',\n",
              " 'C90P51ThinF_IMG_20150821_115056_cell_208.png',\n",
              " 'C74P35_ThinF_IMG_20150815_120712_cell_15.png',\n",
              " 'C73P34_ThinF_IMG_20150815_111302_cell_8.png',\n",
              " 'C90P51ThinF_IMG_20150821_115310_cell_155.png',\n",
              " 'C72P33_ThinF_IMG_20150815_104307_cell_85.png',\n",
              " 'C74P35_ThinF_IMG_20150815_121324_cell_49.png',\n",
              " 'C76P37ThinF_IMG_20150815_171214_cell_13.png',\n",
              " 'C76P37ThinF_IMG_20150815_165356_cell_157.png',\n",
              " 'C90P51ThinF_IMG_20150821_115700_cell_170.png',\n",
              " 'C88P49ThinF_IMG_20150820_152521_cell_59.png',\n",
              " 'C89P50ThinF_IMG_20150820_163347_cell_195.png',\n",
              " 'C83P44ThinF_IMG_20150817_133609_cell_13.png',\n",
              " 'C70P31_ThinF_IMG_20150819_142744_cell_80.png',\n",
              " 'C87P48ThinF_IMG_20150820_132642_cell_92.png',\n",
              " 'C83P44ThinF_IMG_20150817_133454_cell_100.png',\n",
              " 'C75P36_ThinF_IMG_20150815_163225_cell_108.png',\n",
              " 'C78P39ThinF_IMG_20150606_104936_cell_118.png',\n",
              " 'C93P54ThinF_IMG_20150821_164024_cell_138.png',\n",
              " 'C87P48ThinF_IMG_20150820_141913_cell_65.png',\n",
              " 'C80P41ThinF_IMG_20150817_110608_cell_127.png',\n",
              " 'C75P36_ThinF_IMG_20150815_163147_cell_131.png',\n",
              " 'C77P38ThinF_IMG_20150602_112011_cell_68.png',\n",
              " 'C90P51ThinF_IMG_20150821_120044_cell_223.png',\n",
              " 'C76P37ThinF_IMG_20150815_165356_cell_174.png',\n",
              " 'C75P36_ThinF_IMG_20150815_163015_cell_93.png',\n",
              " 'C75P36_ThinF_IMG_20150815_163147_cell_42.png',\n",
              " 'C76P37ThinF_IMG_20150815_171214_cell_82.png',\n",
              " 'C88P49ThinF_IMG_20150820_153042_cell_65.png',\n",
              " 'C75P36_ThinF_IMG_20150815_163707_cell_67.png',\n",
              " 'C72P33_ThinF_IMG_20150815_104843_cell_138.png',\n",
              " 'C76P37ThinF_IMG_20150815_172902_cell_159.png',\n",
              " 'C82P43ThinF_IMG_20150817_123500_cell_149.png',\n",
              " 'C90P51ThinF_IMG_20150821_115700_cell_89.png',\n",
              " 'C72P33_ThinF_IMG_20150815_104307_cell_60.png',\n",
              " 'C86P47ThinF_IMG_20150820_124943_cell_40.png',\n",
              " 'C79P40ThinF_IMG_20150817_103139_cell_78.png',\n",
              " 'C79P40ThinF_IMG_20150817_104316_cell_150.png',\n",
              " 'C77P38ThinF_IMG_20150601_155642_cell_66.png',\n",
              " 'C76P37ThinF_IMG_20150815_172808_cell_118.png',\n",
              " 'C91P52ThinF_IMG_20150821_123314_cell_68.png',\n",
              " 'C76P37ThinF_IMG_20150815_165356_cell_109.png',\n",
              " 'C92P53ThinF_IMG_20150821_150457_cell_65.png',\n",
              " 'C73P34_ThinF_IMG_20150815_111302_cell_95.png',\n",
              " 'C76P37ThinF_IMG_20150815_173019_cell_145.png',\n",
              " 'C84P45ThinF_IMG_20150818_101257_cell_13.png',\n",
              " 'C88P49ThinF_IMG_20150820_150724_cell_104.png',\n",
              " 'C77P38ThinF_IMG_20150602_143650_cell_111.png',\n",
              " 'C71P32_ThinF_IMG_20150813_161634_cell_128.png',\n",
              " 'C70P31_ThinF_IMG_20150813_131609_cell_49.png',\n",
              " 'C72P33_ThinF_IMG_20150815_104307_cell_154.png',\n",
              " 'C76P37ThinF_IMG_20150815_171214_cell_69.png',\n",
              " 'C79P40ThinF_IMG_20150817_102702_cell_5.png',\n",
              " 'C90P51ThinF_IMG_20150821_115056_cell_90.png',\n",
              " 'C81P42ThinF_IMG_20150817_121113_cell_55.png',\n",
              " 'C84P45ThinF_IMG_20150818_101146_cell_59.png',\n",
              " 'C80P41ThinF_IMG_20150817_111246_cell_90.png',\n",
              " 'C91P52ThinF_IMG_20150821_123116_cell_96.png',\n",
              " 'C77P38ThinF_IMG_20150602_142303_cell_106.png',\n",
              " 'C89P50ThinF_IMG_20150820_163347_cell_13.png',\n",
              " 'C71P32_ThinF_IMG_20150813_162554_cell_13.png',\n",
              " 'C71P32_ThinF_IMG_20150813_162554_cell_40.png',\n",
              " 'C83P44ThinF_IMG_20150817_133218_cell_1.png',\n",
              " 'C81P42ThinF_IMG_20150817_120351_cell_85.png',\n",
              " 'C88P49ThinF_IMG_20150820_150724_cell_103.png',\n",
              " 'C88P49ThinF_IMG_20150820_153042_cell_113.png',\n",
              " 'C93P54ThinF_IMG_20150821_164024_cell_75.png',\n",
              " 'C93P54ThinF_IMG_20150821_162641_cell_203.png',\n",
              " 'C87P48ThinF_IMG_20150820_144714_cell_146.png',\n",
              " 'C87P48ThinF_IMG_20150820_141913_cell_47.png',\n",
              " 'C76P37ThinF_IMG_20150815_172902_cell_169.png',\n",
              " 'C74P35_ThinF_IMG_20150815_113951_cell_98.png',\n",
              " 'C85P46ThinF_IMG_20150820_110040_cell_157.png',\n",
              " 'C88P49ThinF_IMG_20150820_152521_cell_88.png',\n",
              " 'C84P45ThinF_IMG_20150818_104156_cell_48.png',\n",
              " 'C94P55ThinF_IMG_20150821_170021_cell_154.png',\n",
              " 'C75P36_ThinF_IMG_20150815_163742_cell_90.png',\n",
              " 'C86P47ThinF_IMG_20150820_124943_cell_108.png',\n",
              " 'C89P50ThinF_IMG_20150820_163347_cell_184.png',\n",
              " ...]"
            ]
          },
          "metadata": {
            "tags": []
          },
          "execution_count": 15
        }
      ]
    },
    {
      "cell_type": "code",
      "metadata": {
        "id": "3zxMIQ34QBTI"
      },
      "source": [
        "uninfected_cell = train_path+'/uninfected'+'/C76P37ThinF_IMG_20150815_172902_cell_169.png'"
      ],
      "execution_count": null,
      "outputs": []
    },
    {
      "cell_type": "code",
      "metadata": {
        "id": "IUTUQbrpQetY",
        "outputId": "653ea33c-436f-47ce-e5ec-cf24a2c2d9eb",
        "colab": {
          "base_uri": "https://localhost:8080/",
          "height": 52
        }
      },
      "source": [
        "uninfected_cell"
      ],
      "execution_count": null,
      "outputs": [
        {
          "output_type": "execute_result",
          "data": {
            "application/vnd.google.colaboratory.intrinsic+json": {
              "type": "string"
            },
            "text/plain": [
              "'/content/drive/My Drive/ml/cell_images/train/uninfected/C76P37ThinF_IMG_20150815_172902_cell_169.png'"
            ]
          },
          "metadata": {
            "tags": []
          },
          "execution_count": 17
        }
      ]
    },
    {
      "cell_type": "code",
      "metadata": {
        "id": "6VTRXFzoQg88"
      },
      "source": [
        "uninfected_cell = imread(uninfected_cell)"
      ],
      "execution_count": null,
      "outputs": []
    },
    {
      "cell_type": "code",
      "metadata": {
        "id": "00-qrNzFQk8x",
        "outputId": "eedb6c65-ea5e-4773-ffee-0d2c088eb10f",
        "colab": {
          "base_uri": "https://localhost:8080/",
          "height": 833
        }
      },
      "source": [
        "uninfected_cell"
      ],
      "execution_count": null,
      "outputs": [
        {
          "output_type": "execute_result",
          "data": {
            "text/plain": [
              "array([[[0., 0., 0.],\n",
              "        [0., 0., 0.],\n",
              "        [0., 0., 0.],\n",
              "        ...,\n",
              "        [0., 0., 0.],\n",
              "        [0., 0., 0.],\n",
              "        [0., 0., 0.]],\n",
              "\n",
              "       [[0., 0., 0.],\n",
              "        [0., 0., 0.],\n",
              "        [0., 0., 0.],\n",
              "        ...,\n",
              "        [0., 0., 0.],\n",
              "        [0., 0., 0.],\n",
              "        [0., 0., 0.]],\n",
              "\n",
              "       [[0., 0., 0.],\n",
              "        [0., 0., 0.],\n",
              "        [0., 0., 0.],\n",
              "        ...,\n",
              "        [0., 0., 0.],\n",
              "        [0., 0., 0.],\n",
              "        [0., 0., 0.]],\n",
              "\n",
              "       ...,\n",
              "\n",
              "       [[0., 0., 0.],\n",
              "        [0., 0., 0.],\n",
              "        [0., 0., 0.],\n",
              "        ...,\n",
              "        [0., 0., 0.],\n",
              "        [0., 0., 0.],\n",
              "        [0., 0., 0.]],\n",
              "\n",
              "       [[0., 0., 0.],\n",
              "        [0., 0., 0.],\n",
              "        [0., 0., 0.],\n",
              "        ...,\n",
              "        [0., 0., 0.],\n",
              "        [0., 0., 0.],\n",
              "        [0., 0., 0.]],\n",
              "\n",
              "       [[0., 0., 0.],\n",
              "        [0., 0., 0.],\n",
              "        [0., 0., 0.],\n",
              "        ...,\n",
              "        [0., 0., 0.],\n",
              "        [0., 0., 0.],\n",
              "        [0., 0., 0.]]], dtype=float32)"
            ]
          },
          "metadata": {
            "tags": []
          },
          "execution_count": 19
        }
      ]
    },
    {
      "cell_type": "code",
      "metadata": {
        "id": "2AzXEk3aQl-a",
        "outputId": "3604eab5-1a15-4764-e3b1-0546fc4053e0",
        "colab": {
          "base_uri": "https://localhost:8080/",
          "height": 285
        }
      },
      "source": [
        "plt.imshow(uninfected_cell)"
      ],
      "execution_count": null,
      "outputs": [
        {
          "output_type": "execute_result",
          "data": {
            "text/plain": [
              "<matplotlib.image.AxesImage at 0x7fdb5ad4e860>"
            ]
          },
          "metadata": {
            "tags": []
          },
          "execution_count": 20
        },
        {
          "output_type": "display_data",
          "data": {
            "image/png": "[encoded data removed]",
            "text/plain": [
              "<Figure size 432x288 with 1 Axes>"
            ]
          },
          "metadata": {
            "tags": [],
            "needs_background": "light"
          }
        }
      ]
    },
    {
      "cell_type": "markdown",
      "metadata": {
        "id": "1I14V_KHQreb"
      },
      "source": [
        "### Number of images in each Directory"
      ]
    },
    {
      "cell_type": "code",
      "metadata": {
        "id": "YZ_4ZbtjQo1Z",
        "outputId": "bb5f6552-7c92-4e75-cdad-d1f33dd6ac85",
        "colab": {
          "base_uri": "https://localhost:8080/",
          "height": 33
        }
      },
      "source": [
        "len(os.listdir(train_path+'/parasitized'))"
      ],
      "execution_count": null,
      "outputs": [
        {
          "output_type": "execute_result",
          "data": {
            "text/plain": [
              "12480"
            ]
          },
          "metadata": {
            "tags": []
          },
          "execution_count": 21
        }
      ]
    },
    {
      "cell_type": "code",
      "metadata": {
        "id": "HpQfqygVQzvw",
        "outputId": "a5adaabc-37df-4cdc-c194-2a316db32171",
        "colab": {
          "base_uri": "https://localhost:8080/",
          "height": 33
        }
      },
      "source": [
        "len(os.listdir(train_path+'/uninfected'))"
      ],
      "execution_count": null,
      "outputs": [
        {
          "output_type": "execute_result",
          "data": {
            "text/plain": [
              "12480"
            ]
          },
          "metadata": {
            "tags": []
          },
          "execution_count": 22
        }
      ]
    },
    {
      "cell_type": "code",
      "metadata": {
        "id": "MdG6cK1PQ3M5",
        "outputId": "90ba8d6d-72e5-49df-b729-04fd09e2511f",
        "colab": {
          "base_uri": "https://localhost:8080/",
          "height": 33
        }
      },
      "source": [
        "len(os.listdir(test_path+'/parasitized'))"
      ],
      "execution_count": null,
      "outputs": [
        {
          "output_type": "execute_result",
          "data": {
            "text/plain": [
              "1300"
            ]
          },
          "metadata": {
            "tags": []
          },
          "execution_count": 23
        }
      ]
    },
    {
      "cell_type": "code",
      "metadata": {
        "id": "r0HrZZwjQ6-C",
        "outputId": "bf3e6753-3815-405e-d371-ac202416a06a",
        "colab": {
          "base_uri": "https://localhost:8080/",
          "height": 33
        }
      },
      "source": [
        "len(os.listdir(test_path+'/uninfected'))"
      ],
      "execution_count": null,
      "outputs": [
        {
          "output_type": "execute_result",
          "data": {
            "text/plain": [
              "1300"
            ]
          },
          "metadata": {
            "tags": []
          },
          "execution_count": 24
        }
      ]
    },
    {
      "cell_type": "markdown",
      "metadata": {
        "id": "4hkYRgCYRC66"
      },
      "source": [
        "# Image Reshaping\n",
        "\n",
        "- These are real image with different shapes.\n",
        "- We will define its shape by finding the average shape of all the images"
      ]
    },
    {
      "cell_type": "markdown",
      "metadata": {
        "id": "T9D9uqyUUu1h"
      },
      "source": [
        "### This will take time as it has to go through 12480 images"
      ]
    },
    {
      "cell_type": "code",
      "metadata": {
        "id": "vf5O7l6UQ9uz"
      },
      "source": [
        "# dim1 = []\n",
        "# dim2 = []\n",
        "\n",
        "# for image_filename in os.listdir(test_path+'/uninfected'):\n",
        "\n",
        "#   img = imread(test_path+'/uninfected/'+image_filename)\n",
        "#   d1,d2,colors = img.shape\n",
        "#   dim1.append(d1)\n",
        "#   dim2.append(d2)"
      ],
      "execution_count": null,
      "outputs": []
    },
    {
      "cell_type": "code",
      "metadata": {
        "id": "0UtkxNLBSuXM"
      },
      "source": [
        "# dim1"
      ],
      "execution_count": null,
      "outputs": []
    },
    {
      "cell_type": "code",
      "metadata": {
        "id": "UpNbMGCiUo87"
      },
      "source": [
        "# sns.jointplot(dim1, dim2)"
      ],
      "execution_count": null,
      "outputs": []
    },
    {
      "cell_type": "code",
      "metadata": {
        "id": "M2PamIlmUtDc"
      },
      "source": [
        "# np.mean(dim1)"
      ],
      "execution_count": null,
      "outputs": []
    },
    {
      "cell_type": "code",
      "metadata": {
        "id": "ZaeaLQY3U35R"
      },
      "source": [
        "# np.mean(dim2)"
      ],
      "execution_count": null,
      "outputs": []
    },
    {
      "cell_type": "markdown",
      "metadata": {
        "id": "_h2O7ZFSU6AB"
      },
      "source": [
        "`You will get the average value near 130`\n",
        "\n",
        "---\n",
        "\n"
      ]
    },
    {
      "cell_type": "code",
      "metadata": {
        "id": "9cNEn25YU5Tx"
      },
      "source": [
        "# Define the shape that we will fed into the Model\n",
        "image_shape =(130, 130, 3)"
      ],
      "execution_count": null,
      "outputs": []
    },
    {
      "cell_type": "markdown",
      "metadata": {
        "id": "9lL_Pg5dVKLJ"
      },
      "source": [
        "# Data Preprocessing"
      ]
    },
    {
      "cell_type": "code",
      "metadata": {
        "id": "xgeWlAkBVIjm"
      },
      "source": [
        "from tensorflow.keras.preprocessing.image import ImageDataGenerator"
      ],
      "execution_count": null,
      "outputs": []
    },
    {
      "cell_type": "markdown",
      "metadata": {
        "id": "1Kk8wQkZVYWr"
      },
      "source": [
        "### Now we will simple Squeeze, rotate and optimize image "
      ]
    },
    {
      "cell_type": "code",
      "metadata": {
        "id": "F34MnyILVWlb",
        "outputId": "ee2ea5c2-44b3-41d0-9778-6e47526d2b49",
        "colab": {
          "base_uri": "https://localhost:8080/",
          "height": 33
        }
      },
      "source": [
        "imread(para_cell).max()"
      ],
      "execution_count": null,
      "outputs": [
        {
          "output_type": "execute_result",
          "data": {
            "text/plain": [
              "0.92156863"
            ]
          },
          "metadata": {
            "tags": []
          },
          "execution_count": 32
        }
      ]
    },
    {
      "cell_type": "code",
      "metadata": {
        "id": "0_TnOMEOVfjz",
        "outputId": "add343ba-695d-4a3b-e067-156200819854",
        "colab": {
          "base_uri": "https://localhost:8080/",
          "height": 33
        }
      },
      "source": [
        "uninfected_cell.max()"
      ],
      "execution_count": null,
      "outputs": [
        {
          "output_type": "execute_result",
          "data": {
            "text/plain": [
              "0.9098039"
            ]
          },
          "metadata": {
            "tags": []
          },
          "execution_count": 33
        }
      ]
    },
    {
      "cell_type": "code",
      "metadata": {
        "id": "fE0LOKV3Vi0b"
      },
      "source": [
        "image_gen = ImageDataGenerator(rotation_range=20,\n",
        "                               width_shift_range=0.1,\n",
        "                               height_shift_range=0.1,\n",
        "                               shear_range=0.1,\n",
        "                               zoom_range=0.1,\n",
        "                               horizontal_flip=True,\n",
        "                               fill_mode='nearest')"
      ],
      "execution_count": null,
      "outputs": []
    },
    {
      "cell_type": "code",
      "metadata": {
        "id": "kDlRsh6wWDHK",
        "outputId": "c288fc00-8653-40ea-bceb-569389383812",
        "colab": {
          "base_uri": "https://localhost:8080/",
          "height": 285
        }
      },
      "source": [
        "plt.imshow(uninfected_cell)"
      ],
      "execution_count": null,
      "outputs": [
        {
          "output_type": "execute_result",
          "data": {
            "text/plain": [
              "<matplotlib.image.AxesImage at 0x7fdb2af04dd8>"
            ]
          },
          "metadata": {
            "tags": []
          },
          "execution_count": 35
        },
        {
          "output_type": "display_data",
          "data": {
            "image/png": "[encoded data removed]",
            "text/plain": [
              "<Figure size 432x288 with 1 Axes>"
            ]
          },
          "metadata": {
            "tags": [],
            "needs_background": "light"
          }
        }
      ]
    },
    {
      "cell_type": "code",
      "metadata": {
        "id": "OzNF5mTCWK2h",
        "outputId": "94dea699-babc-4753-b9d3-dc2f26f8dc04",
        "colab": {
          "base_uri": "https://localhost:8080/",
          "height": 285
        }
      },
      "source": [
        "plt.imshow(imread(para_cell))"
      ],
      "execution_count": null,
      "outputs": [
        {
          "output_type": "execute_result",
          "data": {
            "text/plain": [
              "<matplotlib.image.AxesImage at 0x7fdb2ae70a20>"
            ]
          },
          "metadata": {
            "tags": []
          },
          "execution_count": 36
        },
        {
          "output_type": "display_data",
          "data": {
            "image/png": "[encoded data removed]",
            "text/plain": [
              "<Figure size 432x288 with 1 Axes>"
            ]
          },
          "metadata": {
            "tags": [],
            "needs_background": "light"
          }
        }
      ]
    },
    {
      "cell_type": "markdown",
      "metadata": {
        "id": "U6WSUU-YV9yo"
      },
      "source": [
        "#### Let's view one preprocessed image"
      ]
    },
    {
      "cell_type": "code",
      "metadata": {
        "id": "Vu5szIagV7SA",
        "outputId": "2dc60618-5a81-4b00-da42-5ecdddfe14d8",
        "colab": {
          "base_uri": "https://localhost:8080/",
          "height": 285
        }
      },
      "source": [
        "plt.imshow(image_gen.random_transform(imread(para_cell)))"
      ],
      "execution_count": null,
      "outputs": [
        {
          "output_type": "execute_result",
          "data": {
            "text/plain": [
              "<matplotlib.image.AxesImage at 0x7fdb2addd358>"
            ]
          },
          "metadata": {
            "tags": []
          },
          "execution_count": 37
        },
        {
          "output_type": "display_data",
          "data": {
            "image/png": "[encoded data removed]",
            "text/plain": [
              "<Figure size 432x288 with 1 Axes>"
            ]
          },
          "metadata": {
            "tags": [],
            "needs_background": "light"
          }
        }
      ]
    },
    {
      "cell_type": "markdown",
      "metadata": {
        "id": "fNQR8PrqXdkr"
      },
      "source": [
        "## Creating Batches"
      ]
    },
    {
      "cell_type": "code",
      "metadata": {
        "id": "FUGj9aMhWhpX",
        "outputId": "9fbfe741-e65e-4bef-a15f-ad324437ca68",
        "colab": {
          "base_uri": "https://localhost:8080/",
          "height": 35
        }
      },
      "source": [
        "train_path"
      ],
      "execution_count": null,
      "outputs": [
        {
          "output_type": "execute_result",
          "data": {
            "application/vnd.google.colaboratory.intrinsic+json": {
              "type": "string"
            },
            "text/plain": [
              "'/content/drive/My Drive/ml/cell_images/train'"
            ]
          },
          "metadata": {
            "tags": []
          },
          "execution_count": 38
        }
      ]
    },
    {
      "cell_type": "code",
      "metadata": {
        "id": "JLTcGwnKXij0",
        "outputId": "b503e312-ed70-4112-ea94-535fab4214ec",
        "colab": {
          "base_uri": "https://localhost:8080/",
          "height": 50
        }
      },
      "source": [
        "image_gen.flow_from_directory(train_path)"
      ],
      "execution_count": null,
      "outputs": [
        {
          "output_type": "stream",
          "text": [
            "Found 24958 images belonging to 2 classes.\n"
          ],
          "name": "stdout"
        },
        {
          "output_type": "execute_result",
          "data": {
            "text/plain": [
              "<tensorflow.python.keras.preprocessing.image.DirectoryIterator at 0x7fdb5ad604e0>"
            ]
          },
          "metadata": {
            "tags": []
          },
          "execution_count": 39
        }
      ]
    },
    {
      "cell_type": "markdown",
      "metadata": {
        "id": "6DHIgvJXXslA"
      },
      "source": [
        "\n",
        "**We will generate many version of random image form the 24058 image on our data set to increate the ammount of data**"
      ]
    },
    {
      "cell_type": "code",
      "metadata": {
        "id": "fQ4LH5jjXoWG",
        "outputId": "4a9bf5d1-f0d0-47c0-a9b1-b652a1383e5b",
        "colab": {
          "base_uri": "https://localhost:8080/",
          "height": 33
        }
      },
      "source": [
        "os.listdir(train_path)"
      ],
      "execution_count": null,
      "outputs": [
        {
          "output_type": "execute_result",
          "data": {
            "text/plain": [
              "['parasitized', 'uninfected']"
            ]
          },
          "metadata": {
            "tags": []
          },
          "execution_count": 40
        }
      ]
    },
    {
      "cell_type": "code",
      "metadata": {
        "id": "TxDspHS-YAmC",
        "outputId": "3b78eaa4-dca5-46fa-d97f-b0f1ab7ca876",
        "colab": {
          "base_uri": "https://localhost:8080/",
          "height": 50
        }
      },
      "source": [
        "image_gen.flow_from_directory(test_path)"
      ],
      "execution_count": null,
      "outputs": [
        {
          "output_type": "stream",
          "text": [
            "Found 2600 images belonging to 2 classes.\n"
          ],
          "name": "stdout"
        },
        {
          "output_type": "execute_result",
          "data": {
            "text/plain": [
              "<tensorflow.python.keras.preprocessing.image.DirectoryIterator at 0x7fdb2ae8e978>"
            ]
          },
          "metadata": {
            "tags": []
          },
          "execution_count": 41
        }
      ]
    },
    {
      "cell_type": "markdown",
      "metadata": {
        "id": "uJwrPXebYKiS"
      },
      "source": [
        "# Creating the Model"
      ]
    },
    {
      "cell_type": "code",
      "metadata": {
        "id": "7JZ_QcFrYIxy"
      },
      "source": [
        "from tensorflow.keras.models import Sequential"
      ],
      "execution_count": null,
      "outputs": []
    },
    {
      "cell_type": "code",
      "metadata": {
        "id": "6nTmiTqfYRAF"
      },
      "source": [
        "from tensorflow.keras.layers import Dense, Conv2D, MaxPool2D, Dropout, Flatten"
      ],
      "execution_count": null,
      "outputs": []
    },
    {
      "cell_type": "code",
      "metadata": {
        "id": "RG4lmkcDYZzA"
      },
      "source": [
        "model = Sequential()\n",
        "\n",
        "model.add(Conv2D(filters=32, kernel_size=(3,3), input_shape=image_shape, activation='relu'))\n",
        "model.add(MaxPool2D(pool_size=(2,2)))\n",
        "\n",
        "model.add(Conv2D(filters=64, kernel_size=(3,3), input_shape=image_shape, activation='relu'))\n",
        "model.add(MaxPool2D(pool_size=(2,2)))\n",
        "\n",
        "model.add(Conv2D(filters=64, kernel_size=(3,3), input_shape=image_shape, activation='relu'))\n",
        "model.add(MaxPool2D(pool_size=(2,2)))\n",
        "\n",
        "model.add(Flatten())\n",
        "\n",
        "model.add(Dense(128, activation='relu'))\n",
        "\n",
        "model.add(Dropout(0.5))\n",
        "\n",
        "model.add(Dense(1, activation='sigmoid'))\n",
        "\n",
        "model.compile(loss='binary_crossentropy', optimizer='adam',\n",
        "              metrics=['accuracy'])"
      ],
      "execution_count": null,
      "outputs": []
    },
    {
      "cell_type": "code",
      "metadata": {
        "id": "c_7HfRl1ZRLe",
        "outputId": "842a9eb0-a9fa-43fa-efbb-5a0d2b3f23b5",
        "colab": {
          "base_uri": "https://localhost:8080/",
          "height": 483
        }
      },
      "source": [
        "model.summary()"
      ],
      "execution_count": null,
      "outputs": [
        {
          "output_type": "stream",
          "text": [
            "Model: \"sequential\"\n",
            "_________________________________________________________________\n",
            "Layer (type)                 Output Shape              Param #   \n",
            "=================================================================\n",
            "conv2d (Conv2D)              (None, 128, 128, 32)      896       \n",
            "_________________________________________________________________\n",
            "max_pooling2d (MaxPooling2D) (None, 64, 64, 32)        0         \n",
            "_________________________________________________________________\n",
            "conv2d_1 (Conv2D)            (None, 62, 62, 64)        18496     \n",
            "_________________________________________________________________\n",
            "max_pooling2d_1 (MaxPooling2 (None, 31, 31, 64)        0         \n",
            "_________________________________________________________________\n",
            "conv2d_2 (Conv2D)            (None, 29, 29, 64)        36928     \n",
            "_________________________________________________________________\n",
            "max_pooling2d_2 (MaxPooling2 (None, 14, 14, 64)        0         \n",
            "_________________________________________________________________\n",
            "flatten (Flatten)            (None, 12544)             0         \n",
            "_________________________________________________________________\n",
            "dense (Dense)                (None, 128)               1605760   \n",
            "_________________________________________________________________\n",
            "dropout (Dropout)            (None, 128)               0         \n",
            "_________________________________________________________________\n",
            "dense_1 (Dense)              (None, 1)                 129       \n",
            "=================================================================\n",
            "Total params: 1,662,209\n",
            "Trainable params: 1,662,209\n",
            "Non-trainable params: 0\n",
            "_________________________________________________________________\n"
          ],
          "name": "stdout"
        }
      ]
    },
    {
      "cell_type": "markdown",
      "metadata": {
        "id": "K9f0995QZbKQ"
      },
      "source": [
        "## Training the model"
      ]
    },
    {
      "cell_type": "code",
      "metadata": {
        "id": "NtDVEBdVZYN8"
      },
      "source": [
        "from tensorflow.keras.callbacks import EarlyStopping"
      ],
      "execution_count": null,
      "outputs": []
    },
    {
      "cell_type": "code",
      "metadata": {
        "id": "4xlNKwVvZgNo"
      },
      "source": [
        "early_stop = EarlyStopping(monitor='val_loss', patience=2)"
      ],
      "execution_count": null,
      "outputs": []
    },
    {
      "cell_type": "code",
      "metadata": {
        "id": "EtjWJV98ZmJI"
      },
      "source": [
        "batch_size = 16"
      ],
      "execution_count": null,
      "outputs": []
    },
    {
      "cell_type": "markdown",
      "metadata": {
        "id": "qPOtN8M3Zp1X"
      },
      "source": [
        "### Let's Generate more images"
      ]
    },
    {
      "cell_type": "code",
      "metadata": {
        "id": "TpSqtVxDZnri",
        "outputId": "692a5e38-6aab-4d3b-e8d0-d83fd8a2c631",
        "colab": {
          "base_uri": "https://localhost:8080/",
          "height": 33
        }
      },
      "source": [
        "train_image_gen = image_gen.flow_from_directory(train_path,\n",
        "                                                target_size=image_shape[:2],\n",
        "                                                color_mode='rgb',\n",
        "                                                batch_size=batch_size,\n",
        "                                                class_mode='binary')"
      ],
      "execution_count": null,
      "outputs": [
        {
          "output_type": "stream",
          "text": [
            "Found 24958 images belonging to 2 classes.\n"
          ],
          "name": "stdout"
        }
      ]
    },
    {
      "cell_type": "code",
      "metadata": {
        "id": "l4_ARS09Z9YF",
        "outputId": "f9d7c2a9-21ce-4126-b784-c32a7f98f658",
        "colab": {
          "base_uri": "https://localhost:8080/",
          "height": 33
        }
      },
      "source": [
        "test_image_gen = image_gen.flow_from_directory(test_path,\n",
        "                                                target_size=image_shape[:2],\n",
        "                                                color_mode='rgb',\n",
        "                                                batch_size=batch_size,\n",
        "                                                class_mode='binary',\n",
        "                                                shuffle=False)"
      ],
      "execution_count": null,
      "outputs": [
        {
          "output_type": "stream",
          "text": [
            "Found 2600 images belonging to 2 classes.\n"
          ],
          "name": "stdout"
        }
      ]
    },
    {
      "cell_type": "code",
      "metadata": {
        "id": "f3WW5WEkaFSn",
        "outputId": "ccf17ede-d2b2-4583-fae9-786898264e1e",
        "colab": {
          "base_uri": "https://localhost:8080/",
          "height": 33
        }
      },
      "source": [
        "train_image_gen.class_indices"
      ],
      "execution_count": null,
      "outputs": [
        {
          "output_type": "execute_result",
          "data": {
            "text/plain": [
              "{'parasitized': 0, 'uninfected': 1}"
            ]
          },
          "metadata": {
            "tags": []
          },
          "execution_count": 51
        }
      ]
    },
    {
      "cell_type": "markdown",
      "metadata": {
        "id": "Ae65GKrgaQYm"
      },
      "source": [
        "### Fit the model\n",
        "\n",
        "** Training Might Take Approx 2 hours **"
      ]
    },
    {
      "cell_type": "code",
      "metadata": {
        "id": "jsfMkjaOaNx9"
      },
      "source": [
        "# model.fit(train_image_gen, epochs=20,\n",
        "#                     validation_data=test_image_gen,\n",
        "#                     callbacks=[early_stop])"
      ],
      "execution_count": 57,
      "outputs": []
    },
    {
      "cell_type": "markdown",
      "metadata": {
        "id": "hmU7hYIqOLeZ"
      },
      "source": [
        "### Saving the model"
      ]
    },
    {
      "cell_type": "code",
      "metadata": {
        "id": "era3VAcwakl6"
      },
      "source": [
        "# model.save('/content/drive/My Drive/ml/saved_models/malaria-cell-detection.h5')"
      ],
      "execution_count": 58,
      "outputs": []
    },
    {
      "cell_type": "code",
      "metadata": {
        "id": "guf5YT4qOzWR"
      },
      "source": [
        "from tensorflow.keras.models import load_model"
      ],
      "execution_count": 59,
      "outputs": []
    },
    {
      "cell_type": "code",
      "metadata": {
        "id": "-tXiANsoP9Ej"
      },
      "source": [
        "loaded_model = load_model('/content/drive/My Drive/ml/saved_models/malaria-cell-detection.h5')"
      ],
      "execution_count": 60,
      "outputs": []
    },
    {
      "cell_type": "code",
      "metadata": {
        "id": "L-esThB2QCg9",
        "outputId": "8d9adecb-581d-4490-d2d1-a46e0a4d7ecf",
        "colab": {
          "base_uri": "https://localhost:8080/",
          "height": 483
        }
      },
      "source": [
        "loaded_model.summary()"
      ],
      "execution_count": 61,
      "outputs": [
        {
          "output_type": "stream",
          "text": [
            "Model: \"sequential\"\n",
            "_________________________________________________________________\n",
            "Layer (type)                 Output Shape              Param #   \n",
            "=================================================================\n",
            "conv2d (Conv2D)              (None, 128, 128, 32)      896       \n",
            "_________________________________________________________________\n",
            "max_pooling2d (MaxPooling2D) (None, 64, 64, 32)        0         \n",
            "_________________________________________________________________\n",
            "conv2d_1 (Conv2D)            (None, 62, 62, 64)        18496     \n",
            "_________________________________________________________________\n",
            "max_pooling2d_1 (MaxPooling2 (None, 31, 31, 64)        0         \n",
            "_________________________________________________________________\n",
            "conv2d_2 (Conv2D)            (None, 29, 29, 64)        36928     \n",
            "_________________________________________________________________\n",
            "max_pooling2d_2 (MaxPooling2 (None, 14, 14, 64)        0         \n",
            "_________________________________________________________________\n",
            "flatten (Flatten)            (None, 12544)             0         \n",
            "_________________________________________________________________\n",
            "dense (Dense)                (None, 128)               1605760   \n",
            "_________________________________________________________________\n",
            "dropout (Dropout)            (None, 128)               0         \n",
            "_________________________________________________________________\n",
            "dense_1 (Dense)              (None, 1)                 129       \n",
            "=================================================================\n",
            "Total params: 1,662,209\n",
            "Trainable params: 1,662,209\n",
            "Non-trainable params: 0\n",
            "_________________________________________________________________\n"
          ],
          "name": "stdout"
        }
      ]
    },
    {
      "cell_type": "code",
      "metadata": {
        "id": "gRp71Oh4QEtF"
      },
      "source": [
        "model_history= pd.DataFrame(model.history.history)"
      ],
      "execution_count": 64,
      "outputs": []
    },
    {
      "cell_type": "code",
      "metadata": {
        "id": "IXfXeu9dQHLV",
        "outputId": "799c0123-b50a-4c9a-fc9e-2dfe84ca7be1",
        "colab": {
          "base_uri": "https://localhost:8080/",
          "height": 347
        }
      },
      "source": [
        "model_history"
      ],
      "execution_count": 65,
      "outputs": [
        {
          "output_type": "execute_result",
          "data": {
            "text/html": [
              "<div>\n",
              "<style scoped>\n",
              "    .dataframe tbody tr th:only-of-type {\n",
              "        vertical-align: middle;\n",
              "    }\n",
              "\n",
              "    .dataframe tbody tr th {\n",
              "        vertical-align: top;\n",
              "    }\n",
              "\n",
              "    .dataframe thead th {\n",
              "        text-align: right;\n",
              "    }\n",
              "</style>\n",
              "<table border=\"1\" class=\"dataframe\">\n",
              "  <thead>\n",
              "    <tr style=\"text-align: right;\">\n",
              "      <th></th>\n",
              "      <th>loss</th>\n",
              "      <th>accuracy</th>\n",
              "      <th>val_loss</th>\n",
              "      <th>val_accuracy</th>\n",
              "    </tr>\n",
              "  </thead>\n",
              "  <tbody>\n",
              "    <tr>\n",
              "      <th>0</th>\n",
              "      <td>0.904095</td>\n",
              "      <td>0.553971</td>\n",
              "      <td>0.677186</td>\n",
              "      <td>0.569615</td>\n",
              "    </tr>\n",
              "    <tr>\n",
              "      <th>1</th>\n",
              "      <td>0.675850</td>\n",
              "      <td>0.587667</td>\n",
              "      <td>0.671267</td>\n",
              "      <td>0.599231</td>\n",
              "    </tr>\n",
              "    <tr>\n",
              "      <th>2</th>\n",
              "      <td>0.671590</td>\n",
              "      <td>0.596682</td>\n",
              "      <td>0.661626</td>\n",
              "      <td>0.613846</td>\n",
              "    </tr>\n",
              "    <tr>\n",
              "      <th>3</th>\n",
              "      <td>0.674127</td>\n",
              "      <td>0.597764</td>\n",
              "      <td>0.662500</td>\n",
              "      <td>0.617692</td>\n",
              "    </tr>\n",
              "    <tr>\n",
              "      <th>4</th>\n",
              "      <td>0.635232</td>\n",
              "      <td>0.633905</td>\n",
              "      <td>0.318169</td>\n",
              "      <td>0.899615</td>\n",
              "    </tr>\n",
              "    <tr>\n",
              "      <th>5</th>\n",
              "      <td>0.234534</td>\n",
              "      <td>0.930083</td>\n",
              "      <td>0.211131</td>\n",
              "      <td>0.930385</td>\n",
              "    </tr>\n",
              "    <tr>\n",
              "      <th>6</th>\n",
              "      <td>0.195665</td>\n",
              "      <td>0.939739</td>\n",
              "      <td>0.201855</td>\n",
              "      <td>0.938077</td>\n",
              "    </tr>\n",
              "    <tr>\n",
              "      <th>7</th>\n",
              "      <td>0.181224</td>\n",
              "      <td>0.944948</td>\n",
              "      <td>0.188967</td>\n",
              "      <td>0.938846</td>\n",
              "    </tr>\n",
              "    <tr>\n",
              "      <th>8</th>\n",
              "      <td>0.181995</td>\n",
              "      <td>0.944226</td>\n",
              "      <td>0.204459</td>\n",
              "      <td>0.939615</td>\n",
              "    </tr>\n",
              "    <tr>\n",
              "      <th>9</th>\n",
              "      <td>0.185329</td>\n",
              "      <td>0.944587</td>\n",
              "      <td>0.253847</td>\n",
              "      <td>0.930000</td>\n",
              "    </tr>\n",
              "  </tbody>\n",
              "</table>\n",
              "</div>"
            ],
            "text/plain": [
              "       loss  accuracy  val_loss  val_accuracy\n",
              "0  0.904095  0.553971  0.677186      0.569615\n",
              "1  0.675850  0.587667  0.671267      0.599231\n",
              "2  0.671590  0.596682  0.661626      0.613846\n",
              "3  0.674127  0.597764  0.662500      0.617692\n",
              "4  0.635232  0.633905  0.318169      0.899615\n",
              "5  0.234534  0.930083  0.211131      0.930385\n",
              "6  0.195665  0.939739  0.201855      0.938077\n",
              "7  0.181224  0.944948  0.188967      0.938846\n",
              "8  0.181995  0.944226  0.204459      0.939615\n",
              "9  0.185329  0.944587  0.253847      0.930000"
            ]
          },
          "metadata": {
            "tags": []
          },
          "execution_count": 65
        }
      ]
    },
    {
      "cell_type": "code",
      "metadata": {
        "id": "gt01d8afQTac",
        "outputId": "3b6a5c69-c28f-4e55-ad47-c1ea4f4f565a",
        "colab": {
          "base_uri": "https://localhost:8080/",
          "height": 265
        }
      },
      "source": [
        "model_history[['loss', 'val_loss']].plot()\n",
        "plt.savefig('/content/drive/My Drive/ml/saved_models/malaria-model-loss.png')"
      ],
      "execution_count": 69,
      "outputs": [
        {
          "output_type": "display_data",
          "data": {
            "image/png": "[encoded data removed]",
            "text/plain": [
              "<Figure size 432x288 with 1 Axes>"
            ]
          },
          "metadata": {
            "tags": [],
            "needs_background": "light"
          }
        }
      ]
    },
    {
      "cell_type": "code",
      "metadata": {
        "id": "GtR1OuKAQhux",
        "outputId": "e44324e8-00ea-47b0-f272-815e56942a05",
        "colab": {
          "base_uri": "https://localhost:8080/",
          "height": 265
        }
      },
      "source": [
        "model_history[['accuracy', 'val_accuracy']].plot()\n",
        "plt.savefig('/content/drive/My Drive/ml/saved_models/malaria-model-accuracy.png')"
      ],
      "execution_count": 70,
      "outputs": [
        {
          "output_type": "display_data",
          "data": {
            "image/png": "[encoded data removed]",
            "text/plain": [
              "<Figure size 432x288 with 1 Axes>"
            ]
          },
          "metadata": {
            "tags": [],
            "needs_background": "light"
          }
        }
      ]
    },
    {
      "cell_type": "markdown",
      "metadata": {
        "id": "N1MXFV82RC_Y"
      },
      "source": [
        "# Model Evaluation"
      ]
    },
    {
      "cell_type": "code",
      "metadata": {
        "id": "5c6iGjaPQm3T"
      },
      "source": [
        "pred = model.predict(test_image_gen)"
      ],
      "execution_count": 72,
      "outputs": []
    },
    {
      "cell_type": "code",
      "metadata": {
        "id": "KqlNOWbURIjP",
        "outputId": "270dc602-ef0f-4344-9ee8-13011855bdea",
        "colab": {
          "base_uri": "https://localhost:8080/",
          "height": 133
        }
      },
      "source": [
        "pred"
      ],
      "execution_count": 73,
      "outputs": [
        {
          "output_type": "execute_result",
          "data": {
            "text/plain": [
              "array([[4.2669317e-08],\n",
              "       [3.6775785e-07],\n",
              "       [2.9358353e-07],\n",
              "       ...,\n",
              "       [9.2217469e-01],\n",
              "       [9.2764300e-01],\n",
              "       [9.0612233e-01]], dtype=float32)"
            ]
          },
          "metadata": {
            "tags": []
          },
          "execution_count": 73
        }
      ]
    },
    {
      "cell_type": "code",
      "metadata": {
        "id": "3Yk1H0XKRN9H",
        "outputId": "5450c5f9-a819-4cf0-daf4-6328df741346",
        "colab": {
          "base_uri": "https://localhost:8080/",
          "height": 33
        }
      },
      "source": [
        "pred.max()"
      ],
      "execution_count": 74,
      "outputs": [
        {
          "output_type": "execute_result",
          "data": {
            "text/plain": [
              "0.9564403"
            ]
          },
          "metadata": {
            "tags": []
          },
          "execution_count": 74
        }
      ]
    },
    {
      "cell_type": "markdown",
      "metadata": {
        "id": "U0EKWgLiRgzN"
      },
      "source": [
        "### Turning predictions into True / False Statement"
      ]
    },
    {
      "cell_type": "code",
      "metadata": {
        "id": "iwjUMeHiRZ4o"
      },
      "source": [
        "predictions = pred > 0.5"
      ],
      "execution_count": 75,
      "outputs": []
    },
    {
      "cell_type": "code",
      "metadata": {
        "id": "ZzPjFJNLReUH",
        "outputId": "9a0dc190-415c-4f3c-c5c0-44837489cb01",
        "colab": {
          "base_uri": "https://localhost:8080/",
          "height": 133
        }
      },
      "source": [
        "predictions"
      ],
      "execution_count": 76,
      "outputs": [
        {
          "output_type": "execute_result",
          "data": {
            "text/plain": [
              "array([[False],\n",
              "       [False],\n",
              "       [False],\n",
              "       ...,\n",
              "       [ True],\n",
              "       [ True],\n",
              "       [ True]])"
            ]
          },
          "metadata": {
            "tags": []
          },
          "execution_count": 76
        }
      ]
    },
    {
      "cell_type": "code",
      "metadata": {
        "id": "3oYKRshBRfSV",
        "outputId": "b326b271-9a78-4851-efbc-3c0f09314f1c",
        "colab": {
          "base_uri": "https://localhost:8080/",
          "height": 33
        }
      },
      "source": [
        "len(pred)"
      ],
      "execution_count": 77,
      "outputs": [
        {
          "output_type": "execute_result",
          "data": {
            "text/plain": [
              "2600"
            ]
          },
          "metadata": {
            "tags": []
          },
          "execution_count": 77
        }
      ]
    },
    {
      "cell_type": "code",
      "metadata": {
        "id": "UuJOK5wORrBG"
      },
      "source": [
        "from sklearn.metrics import classification_report, confusion_matrix"
      ],
      "execution_count": 78,
      "outputs": []
    },
    {
      "cell_type": "code",
      "metadata": {
        "id": "Y9gkkG0ARz5w",
        "outputId": "85a55825-697c-4ba0-a1a9-d958efecbe5b",
        "colab": {
          "base_uri": "https://localhost:8080/",
          "height": 33
        }
      },
      "source": [
        "test_image_gen.classes"
      ],
      "execution_count": 79,
      "outputs": [
        {
          "output_type": "execute_result",
          "data": {
            "text/plain": [
              "array([0, 0, 0, ..., 1, 1, 1], dtype=int32)"
            ]
          },
          "metadata": {
            "tags": []
          },
          "execution_count": 79
        }
      ]
    },
    {
      "cell_type": "code",
      "metadata": {
        "id": "GwPe86olR1lL",
        "outputId": "39cc84a2-ed19-43aa-edf7-b05933ab46cc",
        "colab": {
          "base_uri": "https://localhost:8080/",
          "height": 167
        }
      },
      "source": [
        "print(classification_report(test_image_gen.classes, predictions))"
      ],
      "execution_count": 80,
      "outputs": [
        {
          "output_type": "stream",
          "text": [
            "              precision    recall  f1-score   support\n",
            "\n",
            "           0       0.96      0.89      0.92      1300\n",
            "           1       0.90      0.97      0.93      1300\n",
            "\n",
            "    accuracy                           0.93      2600\n",
            "   macro avg       0.93      0.93      0.93      2600\n",
            "weighted avg       0.93      0.93      0.93      2600\n",
            "\n"
          ],
          "name": "stdout"
        }
      ]
    },
    {
      "cell_type": "code",
      "metadata": {
        "id": "Xvci8UMhR67i",
        "outputId": "c8925e65-d463-4407-9d9c-26ceabe45f36",
        "colab": {
          "base_uri": "https://localhost:8080/",
          "height": 33
        }
      },
      "source": [
        "train_image_gen.class_indices"
      ],
      "execution_count": 81,
      "outputs": [
        {
          "output_type": "execute_result",
          "data": {
            "text/plain": [
              "{'parasitized': 0, 'uninfected': 1}"
            ]
          },
          "metadata": {
            "tags": []
          },
          "execution_count": 81
        }
      ]
    },
    {
      "cell_type": "code",
      "metadata": {
        "id": "YvQHJdjMR_Tx",
        "outputId": "a56d2fcd-f953-488a-899a-4737ea9e5014",
        "colab": {
          "base_uri": "https://localhost:8080/",
          "height": 50
        }
      },
      "source": [
        "confusion_matrix(test_image_gen.classes, predictions)"
      ],
      "execution_count": 84,
      "outputs": [
        {
          "output_type": "execute_result",
          "data": {
            "text/plain": [
              "array([[1155,  145],\n",
              "       [  45, 1255]])"
            ]
          },
          "metadata": {
            "tags": []
          },
          "execution_count": 84
        }
      ]
    },
    {
      "cell_type": "code",
      "metadata": {
        "id": "HDTP2MoISEpT",
        "outputId": "e52fba65-3257-48d0-a89d-977aa8a82052",
        "colab": {
          "base_uri": "https://localhost:8080/",
          "height": 52
        }
      },
      "source": [
        "para_cell"
      ],
      "execution_count": 85,
      "outputs": [
        {
          "output_type": "execute_result",
          "data": {
            "application/vnd.google.colaboratory.intrinsic+json": {
              "type": "string"
            },
            "text/plain": [
              "'/content/drive/My Drive/ml/cell_images/train/parasitized/C68P29N_ThinF_IMG_20150819_134830_cell_46.png'"
            ]
          },
          "metadata": {
            "tags": []
          },
          "execution_count": 85
        }
      ]
    },
    {
      "cell_type": "markdown",
      "metadata": {
        "id": "vNBgCWk9SMqT"
      },
      "source": [
        "# Custom Image Predictions"
      ]
    },
    {
      "cell_type": "code",
      "metadata": {
        "id": "BsI5xso-SLmz"
      },
      "source": [
        "from tensorflow.keras.preprocessing import image"
      ],
      "execution_count": 86,
      "outputs": []
    },
    {
      "cell_type": "code",
      "metadata": {
        "id": "h84W1blwSTF4",
        "outputId": "c029bd2b-e412-4c0c-d7ef-fc15b5a3ca6f",
        "colab": {
          "base_uri": "https://localhost:8080/",
          "height": 141
        }
      },
      "source": [
        "image.load_img(para_cell)"
      ],
      "execution_count": 87,
      "outputs": [
        {
          "output_type": "execute_result",
          "data": {
            "image/png": "[encoded data removed]",
            "text/plain": [
              "<PIL.PngImagePlugin.PngImageFile image mode=RGB size=151x124 at 0x7FDA65DB4DD8>"
            ]
          },
          "metadata": {
            "tags": []
          },
          "execution_count": 87
        }
      ]
    },
    {
      "cell_type": "code",
      "metadata": {
        "id": "E54epuDiSVUL",
        "outputId": "74d0f91f-922e-4c85-f25f-a4608834f9ab",
        "colab": {
          "base_uri": "https://localhost:8080/",
          "height": 33
        }
      },
      "source": [
        "type(image.load_img(para_cell))"
      ],
      "execution_count": 88,
      "outputs": [
        {
          "output_type": "execute_result",
          "data": {
            "text/plain": [
              "PIL.PngImagePlugin.PngImageFile"
            ]
          },
          "metadata": {
            "tags": []
          },
          "execution_count": 88
        }
      ]
    },
    {
      "cell_type": "code",
      "metadata": {
        "id": "VZ8UCuTVSZGl"
      },
      "source": [
        "my_image = image.load_img(para_cell, target_size=image_shape)"
      ],
      "execution_count": 91,
      "outputs": []
    },
    {
      "cell_type": "code",
      "metadata": {
        "id": "SFeBEHgtSeX1",
        "outputId": "fc899156-fcf9-4c31-beb2-6443a468fa30",
        "colab": {
          "base_uri": "https://localhost:8080/",
          "height": 147
        }
      },
      "source": [
        "my_image"
      ],
      "execution_count": 93,
      "outputs": [
        {
          "output_type": "execute_result",
          "data": {
            "image/png": "[encoded data removed]",
            "text/plain": [
              "<PIL.Image.Image image mode=RGB size=130x130 at 0x7FDA69DBC278>"
            ]
          },
          "metadata": {
            "tags": []
          },
          "execution_count": 93
        }
      ]
    },
    {
      "cell_type": "code",
      "metadata": {
        "id": "iAPhG9PFSfz8"
      },
      "source": [
        "my_img_arr = image.img_to_array(my_image)"
      ],
      "execution_count": 94,
      "outputs": []
    },
    {
      "cell_type": "code",
      "metadata": {
        "id": "PXFo5rkbSnig",
        "outputId": "75ed7cf6-8761-41ba-aa2e-2b9c10104d9a",
        "colab": {
          "base_uri": "https://localhost:8080/",
          "height": 147
        }
      },
      "source": [
        "my_image"
      ],
      "execution_count": 95,
      "outputs": [
        {
          "output_type": "execute_result",
          "data": {
            "image/png": "[encoded data removed]",
            "text/plain": [
              "<PIL.Image.Image image mode=RGB size=130x130 at 0x7FDA69DBC278>"
            ]
          },
          "metadata": {
            "tags": []
          },
          "execution_count": 95
        }
      ]
    },
    {
      "cell_type": "code",
      "metadata": {
        "id": "bVLPFKZlSpkf",
        "outputId": "3fd72c04-956f-4c9f-dc05-471efc114f10",
        "colab": {
          "base_uri": "https://localhost:8080/",
          "height": 833
        }
      },
      "source": [
        "my_img_arr"
      ],
      "execution_count": 96,
      "outputs": [
        {
          "output_type": "execute_result",
          "data": {
            "text/plain": [
              "array([[[0., 0., 0.],\n",
              "        [0., 0., 0.],\n",
              "        [0., 0., 0.],\n",
              "        ...,\n",
              "        [0., 0., 0.],\n",
              "        [0., 0., 0.],\n",
              "        [0., 0., 0.]],\n",
              "\n",
              "       [[0., 0., 0.],\n",
              "        [0., 0., 0.],\n",
              "        [0., 0., 0.],\n",
              "        ...,\n",
              "        [0., 0., 0.],\n",
              "        [0., 0., 0.],\n",
              "        [0., 0., 0.]],\n",
              "\n",
              "       [[0., 0., 0.],\n",
              "        [0., 0., 0.],\n",
              "        [0., 0., 0.],\n",
              "        ...,\n",
              "        [0., 0., 0.],\n",
              "        [0., 0., 0.],\n",
              "        [0., 0., 0.]],\n",
              "\n",
              "       ...,\n",
              "\n",
              "       [[0., 0., 0.],\n",
              "        [0., 0., 0.],\n",
              "        [0., 0., 0.],\n",
              "        ...,\n",
              "        [0., 0., 0.],\n",
              "        [0., 0., 0.],\n",
              "        [0., 0., 0.]],\n",
              "\n",
              "       [[0., 0., 0.],\n",
              "        [0., 0., 0.],\n",
              "        [0., 0., 0.],\n",
              "        ...,\n",
              "        [0., 0., 0.],\n",
              "        [0., 0., 0.],\n",
              "        [0., 0., 0.]],\n",
              "\n",
              "       [[0., 0., 0.],\n",
              "        [0., 0., 0.],\n",
              "        [0., 0., 0.],\n",
              "        ...,\n",
              "        [0., 0., 0.],\n",
              "        [0., 0., 0.],\n",
              "        [0., 0., 0.]]], dtype=float32)"
            ]
          },
          "metadata": {
            "tags": []
          },
          "execution_count": 96
        }
      ]
    },
    {
      "cell_type": "code",
      "metadata": {
        "id": "UEDlvRXFSq9f",
        "outputId": "af679f9b-efd3-4a84-e91e-c53cc810a7e4",
        "colab": {
          "base_uri": "https://localhost:8080/",
          "height": 33
        }
      },
      "source": [
        "my_img_arr.shape"
      ],
      "execution_count": 97,
      "outputs": [
        {
          "output_type": "execute_result",
          "data": {
            "text/plain": [
              "(130, 130, 3)"
            ]
          },
          "metadata": {
            "tags": []
          },
          "execution_count": 97
        }
      ]
    },
    {
      "cell_type": "code",
      "metadata": {
        "id": "TEL4MpD3SszP"
      },
      "source": [
        "# Converting in 4D\n",
        "import numpy as np\n",
        "my_img_arr = np.expand_dims(my_img_arr, axis=0)"
      ],
      "execution_count": 99,
      "outputs": []
    },
    {
      "cell_type": "code",
      "metadata": {
        "id": "ufj1FGxvS_Dt",
        "outputId": "18ace409-9675-4c81-a375-bb88d83d5c88",
        "colab": {
          "base_uri": "https://localhost:8080/",
          "height": 33
        }
      },
      "source": [
        "my_img_arr.shape"
      ],
      "execution_count": 100,
      "outputs": [
        {
          "output_type": "execute_result",
          "data": {
            "text/plain": [
              "(1, 130, 130, 3)"
            ]
          },
          "metadata": {
            "tags": []
          },
          "execution_count": 100
        }
      ]
    },
    {
      "cell_type": "code",
      "metadata": {
        "id": "evUqTnblTEP1",
        "outputId": "06fc95fb-1588-4be9-b3ae-e8b2f792d49e",
        "colab": {
          "base_uri": "https://localhost:8080/",
          "height": 33
        }
      },
      "source": [
        "model.predict(my_img_arr)"
      ],
      "execution_count": 101,
      "outputs": [
        {
          "output_type": "execute_result",
          "data": {
            "text/plain": [
              "array([[1.6674516e-09]], dtype=float32)"
            ]
          },
          "metadata": {
            "tags": []
          },
          "execution_count": 101
        }
      ]
    },
    {
      "cell_type": "code",
      "metadata": {
        "id": "E6jLj1s4TH5h"
      },
      "source": [
        ""
      ],
      "execution_count": null,
      "outputs": []
    }
  ]
}
